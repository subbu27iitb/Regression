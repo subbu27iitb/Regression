{
  "cells": [
    {
      "cell_type": "markdown",
      "metadata": {
        "id": "view-in-github",
        "colab_type": "text"
      },
      "source": [
        "<a href=\"https://colab.research.google.com/github/subbu27iitb/Regression/blob/main/Reg_TRN1_R3_Density_Indo.ipynb\" target=\"_parent\"><img src=\"https://colab.research.google.com/assets/colab-badge.svg\" alt=\"Open In Colab\"/></a>"
      ]
    },
    {
      "cell_type": "code",
      "execution_count": 1,
      "metadata": {
        "colab": {
          "base_uri": "https://localhost:8080/",
          "height": 74,
          "resources": {
            "http://localhost:8080/nbextensions/google.colab/files.js": {
              "data": "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",
              "headers": [
                [
                  "content-type",
                  "application/javascript"
                ]
              ],
              "ok": true,
              "status": 200,
              "status_text": ""
            }
          }
        },
        "id": "GwBQ7lLFvE3J",
        "outputId": "dbb7e8a5-a3d6-4a79-9047-a6d72c6fdd12"
      },
      "outputs": [
        {
          "output_type": "display_data",
          "data": {
            "text/html": [
              "\n",
              "     <input type=\"file\" id=\"files-b2ac8c12-5349-4403-8924-453aea5b5d70\" name=\"files[]\" multiple disabled\n",
              "        style=\"border:none\" />\n",
              "     <output id=\"result-b2ac8c12-5349-4403-8924-453aea5b5d70\">\n",
              "      Upload widget is only available when the cell has been executed in the\n",
              "      current browser session. Please rerun this cell to enable.\n",
              "      </output>\n",
              "      <script src=\"/nbextensions/google.colab/files.js\"></script> "
            ],
            "text/plain": [
              "<IPython.core.display.HTML object>"
            ]
          },
          "metadata": {}
        },
        {
          "output_type": "stream",
          "name": "stdout",
          "text": [
            "Saving TRN1-Density_R3.csv to TRN1-Density_R3.csv\n"
          ]
        }
      ],
      "source": [
        "from google.colab import files\n",
        "uploaded = files.upload()"
      ]
    },
    {
      "cell_type": "code",
      "execution_count": 2,
      "metadata": {
        "id": "dvoMS8NewTLb"
      },
      "outputs": [],
      "source": [
        "import numpy as np\n",
        "import pandas as pd\n",
        "from sklearn.model_selection import train_test_split\n",
        "from sklearn.preprocessing import StandardScaler\n",
        "from keras.models import Sequential\n",
        "from keras.layers import Dense\n",
        "from keras.wrappers.scikit_learn import KerasRegressor\n",
        "from sklearn.model_selection import cross_val_score\n",
        "from sklearn.model_selection import KFold\n",
        "from sklearn.pipeline import Pipeline\n",
        "from keras.layers import normalization\n",
        "from tensorflow.keras.layers import BatchNormalization\n",
        "from keras.layers import Dropout\n",
        "from tensorflow.keras import initializers\n",
        "from tensorflow.keras.initializers import GlorotUniform\n",
        "from tensorflow.keras.initializers import HeUniform\n",
        "\n",
        "from keras.wrappers.scikit_learn import KerasClassifier\n",
        "from sklearn.model_selection import GridSearchCV"
      ]
    },
    {
      "cell_type": "code",
      "execution_count": 3,
      "metadata": {
        "id": "XT7yOfe9wWU3"
      },
      "outputs": [],
      "source": [
        "from sklearn import linear_model\n",
        "from sklearn.linear_model import LinearRegression\n",
        "from sklearn.metrics import r2_score\n",
        "from sklearn.metrics import mean_absolute_error\n",
        "from sklearn.model_selection import cross_val_score\n",
        "from sklearn.linear_model import Ridge\n",
        "from sklearn.model_selection import GridSearchCV\n",
        "from sklearn.preprocessing import PolynomialFeatures\n",
        "\n",
        "from sklearn.neighbors import KNeighborsRegressor\n",
        "from sklearn.neighbors import DistanceMetric\n",
        "\n",
        "from sklearn.tree import DecisionTreeRegressor\n",
        "from sklearn.tree import plot_tree\n",
        "import matplotlib.pyplot as plt\n",
        "\n",
        "from sklearn.ensemble import RandomForestRegressor\n",
        "\n",
        "from sklearn.svm import SVR\n",
        "\n",
        "from xgboost import XGBRegressor"
      ]
    },
    {
      "cell_type": "code",
      "execution_count": 5,
      "metadata": {
        "colab": {
          "base_uri": "https://localhost:8080/",
          "height": 672
        },
        "id": "f3R6l5D9wY5b",
        "outputId": "24d6e4e8-fcc8-4a40-d601-e29373e476ad"
      },
      "outputs": [
        {
          "output_type": "stream",
          "name": "stdout",
          "text": [
            "(2721, 13)\n",
            "   XI1430-PV  XI1400A.PV   TI1129-PV  XI1403A-PV  Tot CAT Flow  CoCAT/CAT  \\\n",
            "0  21.916937  117.899216  295.421020    0.139659          10.9      1.040   \n",
            "1  23.743656  118.008209  295.325256    0.139688          11.0      1.030   \n",
            "2  20.807299  117.888168  294.579834    0.140424          10.8      1.030   \n",
            "3  24.336941  117.867737  293.622162    0.139835          10.9      0.992   \n",
            "4  17.244812  113.514786  293.307129    0.145072          11.0      0.929   \n",
            "\n",
            "   Tot H2 Flow  PDI1140.PV  #1Sieve DP  TI4304A.PV  #1Extr Die DP  \\\n",
            "0         7.08   11.684742    6.053851  210.850235      25.690926   \n",
            "1         6.41   12.001337    6.608641  208.053955      26.283463   \n",
            "2         6.15   12.394280    6.439089  206.991913      26.183975   \n",
            "3         5.55   11.529337    6.462432  206.989288      26.501503   \n",
            "4        13.80   13.121440    6.705826  207.664764      26.748726   \n",
            "\n",
            "    II3349A.PV  TRN1-Density  \n",
            "0  1867.798706        0.9449  \n",
            "1  1904.177979        0.9451  \n",
            "2  1907.296631        0.9448  \n",
            "3  1921.306641        0.9449  \n",
            "4  1918.508423        0.9440  \n"
          ]
        },
        {
          "output_type": "execute_result",
          "data": {
            "text/html": [
              "\n",
              "  <div id=\"df-a81cf4d7-dc62-40be-9c7f-5800b62f4a0d\">\n",
              "    <div class=\"colab-df-container\">\n",
              "      <div>\n",
              "<style scoped>\n",
              "    .dataframe tbody tr th:only-of-type {\n",
              "        vertical-align: middle;\n",
              "    }\n",
              "\n",
              "    .dataframe tbody tr th {\n",
              "        vertical-align: top;\n",
              "    }\n",
              "\n",
              "    .dataframe thead th {\n",
              "        text-align: right;\n",
              "    }\n",
              "</style>\n",
              "<table border=\"1\" class=\"dataframe\">\n",
              "  <thead>\n",
              "    <tr style=\"text-align: right;\">\n",
              "      <th></th>\n",
              "      <th>XI1430-PV</th>\n",
              "      <th>XI1400A.PV</th>\n",
              "      <th>TI1129-PV</th>\n",
              "      <th>XI1403A-PV</th>\n",
              "      <th>Tot CAT Flow</th>\n",
              "      <th>CoCAT/CAT</th>\n",
              "      <th>Tot H2 Flow</th>\n",
              "      <th>PDI1140.PV</th>\n",
              "      <th>#1Sieve DP</th>\n",
              "      <th>TI4304A.PV</th>\n",
              "      <th>#1Extr Die DP</th>\n",
              "      <th>II3349A.PV</th>\n",
              "      <th>TRN1-Density</th>\n",
              "    </tr>\n",
              "  </thead>\n",
              "  <tbody>\n",
              "    <tr>\n",
              "      <th>0</th>\n",
              "      <td>21.916937</td>\n",
              "      <td>117.899216</td>\n",
              "      <td>295.421020</td>\n",
              "      <td>0.139659</td>\n",
              "      <td>10.9</td>\n",
              "      <td>1.040</td>\n",
              "      <td>7.08</td>\n",
              "      <td>11.684742</td>\n",
              "      <td>6.053851</td>\n",
              "      <td>210.850235</td>\n",
              "      <td>25.690926</td>\n",
              "      <td>1867.798706</td>\n",
              "      <td>0.9449</td>\n",
              "    </tr>\n",
              "    <tr>\n",
              "      <th>1</th>\n",
              "      <td>23.743656</td>\n",
              "      <td>118.008209</td>\n",
              "      <td>295.325256</td>\n",
              "      <td>0.139688</td>\n",
              "      <td>11.0</td>\n",
              "      <td>1.030</td>\n",
              "      <td>6.41</td>\n",
              "      <td>12.001337</td>\n",
              "      <td>6.608641</td>\n",
              "      <td>208.053955</td>\n",
              "      <td>26.283463</td>\n",
              "      <td>1904.177979</td>\n",
              "      <td>0.9451</td>\n",
              "    </tr>\n",
              "    <tr>\n",
              "      <th>2</th>\n",
              "      <td>20.807299</td>\n",
              "      <td>117.888168</td>\n",
              "      <td>294.579834</td>\n",
              "      <td>0.140424</td>\n",
              "      <td>10.8</td>\n",
              "      <td>1.030</td>\n",
              "      <td>6.15</td>\n",
              "      <td>12.394280</td>\n",
              "      <td>6.439089</td>\n",
              "      <td>206.991913</td>\n",
              "      <td>26.183975</td>\n",
              "      <td>1907.296631</td>\n",
              "      <td>0.9448</td>\n",
              "    </tr>\n",
              "    <tr>\n",
              "      <th>3</th>\n",
              "      <td>24.336941</td>\n",
              "      <td>117.867737</td>\n",
              "      <td>293.622162</td>\n",
              "      <td>0.139835</td>\n",
              "      <td>10.9</td>\n",
              "      <td>0.992</td>\n",
              "      <td>5.55</td>\n",
              "      <td>11.529337</td>\n",
              "      <td>6.462432</td>\n",
              "      <td>206.989288</td>\n",
              "      <td>26.501503</td>\n",
              "      <td>1921.306641</td>\n",
              "      <td>0.9449</td>\n",
              "    </tr>\n",
              "    <tr>\n",
              "      <th>4</th>\n",
              "      <td>17.244812</td>\n",
              "      <td>113.514786</td>\n",
              "      <td>293.307129</td>\n",
              "      <td>0.145072</td>\n",
              "      <td>11.0</td>\n",
              "      <td>0.929</td>\n",
              "      <td>13.80</td>\n",
              "      <td>13.121440</td>\n",
              "      <td>6.705826</td>\n",
              "      <td>207.664764</td>\n",
              "      <td>26.748726</td>\n",
              "      <td>1918.508423</td>\n",
              "      <td>0.9440</td>\n",
              "    </tr>\n",
              "  </tbody>\n",
              "</table>\n",
              "</div>\n",
              "      <button class=\"colab-df-convert\" onclick=\"convertToInteractive('df-a81cf4d7-dc62-40be-9c7f-5800b62f4a0d')\"\n",
              "              title=\"Convert this dataframe to an interactive table.\"\n",
              "              style=\"display:none;\">\n",
              "        \n",
              "  <svg xmlns=\"http://www.w3.org/2000/svg\" height=\"24px\"viewBox=\"0 0 24 24\"\n",
              "       width=\"24px\">\n",
              "    <path d=\"M0 0h24v24H0V0z\" fill=\"none\"/>\n",
              "    <path d=\"M18.56 5.44l.94 2.06.94-2.06 2.06-.94-2.06-.94-.94-2.06-.94 2.06-2.06.94zm-11 1L8.5 8.5l.94-2.06 2.06-.94-2.06-.94L8.5 2.5l-.94 2.06-2.06.94zm10 10l.94 2.06.94-2.06 2.06-.94-2.06-.94-.94-2.06-.94 2.06-2.06.94z\"/><path d=\"M17.41 7.96l-1.37-1.37c-.4-.4-.92-.59-1.43-.59-.52 0-1.04.2-1.43.59L10.3 9.45l-7.72 7.72c-.78.78-.78 2.05 0 2.83L4 21.41c.39.39.9.59 1.41.59.51 0 1.02-.2 1.41-.59l7.78-7.78 2.81-2.81c.8-.78.8-2.07 0-2.86zM5.41 20L4 18.59l7.72-7.72 1.47 1.35L5.41 20z\"/>\n",
              "  </svg>\n",
              "      </button>\n",
              "      \n",
              "  <style>\n",
              "    .colab-df-container {\n",
              "      display:flex;\n",
              "      flex-wrap:wrap;\n",
              "      gap: 12px;\n",
              "    }\n",
              "\n",
              "    .colab-df-convert {\n",
              "      background-color: #E8F0FE;\n",
              "      border: none;\n",
              "      border-radius: 50%;\n",
              "      cursor: pointer;\n",
              "      display: none;\n",
              "      fill: #1967D2;\n",
              "      height: 32px;\n",
              "      padding: 0 0 0 0;\n",
              "      width: 32px;\n",
              "    }\n",
              "\n",
              "    .colab-df-convert:hover {\n",
              "      background-color: #E2EBFA;\n",
              "      box-shadow: 0px 1px 2px rgba(60, 64, 67, 0.3), 0px 1px 3px 1px rgba(60, 64, 67, 0.15);\n",
              "      fill: #174EA6;\n",
              "    }\n",
              "\n",
              "    [theme=dark] .colab-df-convert {\n",
              "      background-color: #3B4455;\n",
              "      fill: #D2E3FC;\n",
              "    }\n",
              "\n",
              "    [theme=dark] .colab-df-convert:hover {\n",
              "      background-color: #434B5C;\n",
              "      box-shadow: 0px 1px 3px 1px rgba(0, 0, 0, 0.15);\n",
              "      filter: drop-shadow(0px 1px 2px rgba(0, 0, 0, 0.3));\n",
              "      fill: #FFFFFF;\n",
              "    }\n",
              "  </style>\n",
              "\n",
              "      <script>\n",
              "        const buttonEl =\n",
              "          document.querySelector('#df-a81cf4d7-dc62-40be-9c7f-5800b62f4a0d button.colab-df-convert');\n",
              "        buttonEl.style.display =\n",
              "          google.colab.kernel.accessAllowed ? 'block' : 'none';\n",
              "\n",
              "        async function convertToInteractive(key) {\n",
              "          const element = document.querySelector('#df-a81cf4d7-dc62-40be-9c7f-5800b62f4a0d');\n",
              "          const dataTable =\n",
              "            await google.colab.kernel.invokeFunction('convertToInteractive',\n",
              "                                                     [key], {});\n",
              "          if (!dataTable) return;\n",
              "\n",
              "          const docLinkHtml = 'Like what you see? Visit the ' +\n",
              "            '<a target=\"_blank\" href=https://colab.research.google.com/notebooks/data_table.ipynb>data table notebook</a>'\n",
              "            + ' to learn more about interactive tables.';\n",
              "          element.innerHTML = '';\n",
              "          dataTable['output_type'] = 'display_data';\n",
              "          await google.colab.output.renderOutput(dataTable, element);\n",
              "          const docLink = document.createElement('div');\n",
              "          docLink.innerHTML = docLinkHtml;\n",
              "          element.appendChild(docLink);\n",
              "        }\n",
              "      </script>\n",
              "    </div>\n",
              "  </div>\n",
              "  "
            ],
            "text/plain": [
              "   XI1430-PV  XI1400A.PV   TI1129-PV  XI1403A-PV  Tot CAT Flow  CoCAT/CAT  \\\n",
              "0  21.916937  117.899216  295.421020    0.139659          10.9      1.040   \n",
              "1  23.743656  118.008209  295.325256    0.139688          11.0      1.030   \n",
              "2  20.807299  117.888168  294.579834    0.140424          10.8      1.030   \n",
              "3  24.336941  117.867737  293.622162    0.139835          10.9      0.992   \n",
              "4  17.244812  113.514786  293.307129    0.145072          11.0      0.929   \n",
              "\n",
              "   Tot H2 Flow  PDI1140.PV  #1Sieve DP  TI4304A.PV  #1Extr Die DP  \\\n",
              "0         7.08   11.684742    6.053851  210.850235      25.690926   \n",
              "1         6.41   12.001337    6.608641  208.053955      26.283463   \n",
              "2         6.15   12.394280    6.439089  206.991913      26.183975   \n",
              "3         5.55   11.529337    6.462432  206.989288      26.501503   \n",
              "4        13.80   13.121440    6.705826  207.664764      26.748726   \n",
              "\n",
              "    II3349A.PV  TRN1-Density  \n",
              "0  1867.798706        0.9449  \n",
              "1  1904.177979        0.9451  \n",
              "2  1907.296631        0.9448  \n",
              "3  1921.306641        0.9449  \n",
              "4  1918.508423        0.9440  "
            ]
          },
          "metadata": {},
          "execution_count": 5
        }
      ],
      "source": [
        "df = pd.read_csv(\"TRN1-Density_R3.csv\")\n",
        "print(df.shape)\n",
        "print(df.head())\n",
        "df.describe()\n",
        "df.head()"
      ]
    },
    {
      "cell_type": "code",
      "execution_count": 7,
      "metadata": {
        "colab": {
          "base_uri": "https://localhost:8080/",
          "height": 267
        },
        "id": "rrenoHrwwoer",
        "outputId": "99b1861f-9fa6-4e6d-bf11-ac58a5ace7db"
      },
      "outputs": [
        {
          "output_type": "execute_result",
          "data": {
            "text/html": [
              "\n",
              "  <div id=\"df-2dba9d82-c3fd-4eff-8805-1cfa5849c7e4\">\n",
              "    <div class=\"colab-df-container\">\n",
              "      <div>\n",
              "<style scoped>\n",
              "    .dataframe tbody tr th:only-of-type {\n",
              "        vertical-align: middle;\n",
              "    }\n",
              "\n",
              "    .dataframe tbody tr th {\n",
              "        vertical-align: top;\n",
              "    }\n",
              "\n",
              "    .dataframe thead th {\n",
              "        text-align: right;\n",
              "    }\n",
              "</style>\n",
              "<table border=\"1\" class=\"dataframe\">\n",
              "  <thead>\n",
              "    <tr style=\"text-align: right;\">\n",
              "      <th></th>\n",
              "      <th>XI1430-PV</th>\n",
              "      <th>XI1400A.PV</th>\n",
              "      <th>TI1129-PV</th>\n",
              "      <th>XI1403A-PV</th>\n",
              "      <th>Tot CAT Flow</th>\n",
              "      <th>CoCAT/CAT</th>\n",
              "      <th>Tot H2 Flow</th>\n",
              "      <th>PDI1140.PV</th>\n",
              "      <th>#1Sieve DP</th>\n",
              "      <th>TI4304A.PV</th>\n",
              "      <th>#1Extr Die DP</th>\n",
              "      <th>II3349A.PV</th>\n",
              "    </tr>\n",
              "  </thead>\n",
              "  <tbody>\n",
              "    <tr>\n",
              "      <th>12</th>\n",
              "      <td>21.852215</td>\n",
              "      <td>121.210236</td>\n",
              "      <td>297.067688</td>\n",
              "      <td>0.098346</td>\n",
              "      <td>10.8</td>\n",
              "      <td>1.01</td>\n",
              "      <td>5.82</td>\n",
              "      <td>12.295844</td>\n",
              "      <td>6.639460</td>\n",
              "      <td>208.432297</td>\n",
              "      <td>28.400375</td>\n",
              "      <td>2054.522217</td>\n",
              "    </tr>\n",
              "    <tr>\n",
              "      <th>1698</th>\n",
              "      <td>30.456949</td>\n",
              "      <td>139.797272</td>\n",
              "      <td>283.871246</td>\n",
              "      <td>0.089752</td>\n",
              "      <td>12.8</td>\n",
              "      <td>1.10</td>\n",
              "      <td>23.70</td>\n",
              "      <td>12.260359</td>\n",
              "      <td>6.868140</td>\n",
              "      <td>206.202210</td>\n",
              "      <td>28.342247</td>\n",
              "      <td>1646.037231</td>\n",
              "    </tr>\n",
              "    <tr>\n",
              "      <th>1075</th>\n",
              "      <td>19.237545</td>\n",
              "      <td>239.907944</td>\n",
              "      <td>297.794983</td>\n",
              "      <td>0.082886</td>\n",
              "      <td>27.3</td>\n",
              "      <td>1.11</td>\n",
              "      <td>31.20</td>\n",
              "      <td>18.571785</td>\n",
              "      <td>6.948058</td>\n",
              "      <td>207.620361</td>\n",
              "      <td>33.848022</td>\n",
              "      <td>1860.038330</td>\n",
              "    </tr>\n",
              "    <tr>\n",
              "      <th>2463</th>\n",
              "      <td>38.563896</td>\n",
              "      <td>201.153336</td>\n",
              "      <td>298.111816</td>\n",
              "      <td>0.009760</td>\n",
              "      <td>20.1</td>\n",
              "      <td>1.02</td>\n",
              "      <td>26.10</td>\n",
              "      <td>18.225981</td>\n",
              "      <td>6.068414</td>\n",
              "      <td>195.067474</td>\n",
              "      <td>22.407700</td>\n",
              "      <td>1051.456787</td>\n",
              "    </tr>\n",
              "    <tr>\n",
              "      <th>2447</th>\n",
              "      <td>37.702160</td>\n",
              "      <td>224.228180</td>\n",
              "      <td>295.751617</td>\n",
              "      <td>0.135394</td>\n",
              "      <td>20.7</td>\n",
              "      <td>1.19</td>\n",
              "      <td>31.70</td>\n",
              "      <td>17.671864</td>\n",
              "      <td>6.466011</td>\n",
              "      <td>195.120743</td>\n",
              "      <td>27.512924</td>\n",
              "      <td>1270.990112</td>\n",
              "    </tr>\n",
              "  </tbody>\n",
              "</table>\n",
              "</div>\n",
              "      <button class=\"colab-df-convert\" onclick=\"convertToInteractive('df-2dba9d82-c3fd-4eff-8805-1cfa5849c7e4')\"\n",
              "              title=\"Convert this dataframe to an interactive table.\"\n",
              "              style=\"display:none;\">\n",
              "        \n",
              "  <svg xmlns=\"http://www.w3.org/2000/svg\" height=\"24px\"viewBox=\"0 0 24 24\"\n",
              "       width=\"24px\">\n",
              "    <path d=\"M0 0h24v24H0V0z\" fill=\"none\"/>\n",
              "    <path d=\"M18.56 5.44l.94 2.06.94-2.06 2.06-.94-2.06-.94-.94-2.06-.94 2.06-2.06.94zm-11 1L8.5 8.5l.94-2.06 2.06-.94-2.06-.94L8.5 2.5l-.94 2.06-2.06.94zm10 10l.94 2.06.94-2.06 2.06-.94-2.06-.94-.94-2.06-.94 2.06-2.06.94z\"/><path d=\"M17.41 7.96l-1.37-1.37c-.4-.4-.92-.59-1.43-.59-.52 0-1.04.2-1.43.59L10.3 9.45l-7.72 7.72c-.78.78-.78 2.05 0 2.83L4 21.41c.39.39.9.59 1.41.59.51 0 1.02-.2 1.41-.59l7.78-7.78 2.81-2.81c.8-.78.8-2.07 0-2.86zM5.41 20L4 18.59l7.72-7.72 1.47 1.35L5.41 20z\"/>\n",
              "  </svg>\n",
              "      </button>\n",
              "      \n",
              "  <style>\n",
              "    .colab-df-container {\n",
              "      display:flex;\n",
              "      flex-wrap:wrap;\n",
              "      gap: 12px;\n",
              "    }\n",
              "\n",
              "    .colab-df-convert {\n",
              "      background-color: #E8F0FE;\n",
              "      border: none;\n",
              "      border-radius: 50%;\n",
              "      cursor: pointer;\n",
              "      display: none;\n",
              "      fill: #1967D2;\n",
              "      height: 32px;\n",
              "      padding: 0 0 0 0;\n",
              "      width: 32px;\n",
              "    }\n",
              "\n",
              "    .colab-df-convert:hover {\n",
              "      background-color: #E2EBFA;\n",
              "      box-shadow: 0px 1px 2px rgba(60, 64, 67, 0.3), 0px 1px 3px 1px rgba(60, 64, 67, 0.15);\n",
              "      fill: #174EA6;\n",
              "    }\n",
              "\n",
              "    [theme=dark] .colab-df-convert {\n",
              "      background-color: #3B4455;\n",
              "      fill: #D2E3FC;\n",
              "    }\n",
              "\n",
              "    [theme=dark] .colab-df-convert:hover {\n",
              "      background-color: #434B5C;\n",
              "      box-shadow: 0px 1px 3px 1px rgba(0, 0, 0, 0.15);\n",
              "      filter: drop-shadow(0px 1px 2px rgba(0, 0, 0, 0.3));\n",
              "      fill: #FFFFFF;\n",
              "    }\n",
              "  </style>\n",
              "\n",
              "      <script>\n",
              "        const buttonEl =\n",
              "          document.querySelector('#df-2dba9d82-c3fd-4eff-8805-1cfa5849c7e4 button.colab-df-convert');\n",
              "        buttonEl.style.display =\n",
              "          google.colab.kernel.accessAllowed ? 'block' : 'none';\n",
              "\n",
              "        async function convertToInteractive(key) {\n",
              "          const element = document.querySelector('#df-2dba9d82-c3fd-4eff-8805-1cfa5849c7e4');\n",
              "          const dataTable =\n",
              "            await google.colab.kernel.invokeFunction('convertToInteractive',\n",
              "                                                     [key], {});\n",
              "          if (!dataTable) return;\n",
              "\n",
              "          const docLinkHtml = 'Like what you see? Visit the ' +\n",
              "            '<a target=\"_blank\" href=https://colab.research.google.com/notebooks/data_table.ipynb>data table notebook</a>'\n",
              "            + ' to learn more about interactive tables.';\n",
              "          element.innerHTML = '';\n",
              "          dataTable['output_type'] = 'display_data';\n",
              "          await google.colab.output.renderOutput(dataTable, element);\n",
              "          const docLink = document.createElement('div');\n",
              "          docLink.innerHTML = docLinkHtml;\n",
              "          element.appendChild(docLink);\n",
              "        }\n",
              "      </script>\n",
              "    </div>\n",
              "  </div>\n",
              "  "
            ],
            "text/plain": [
              "      XI1430-PV  XI1400A.PV   TI1129-PV  XI1403A-PV  Tot CAT Flow  CoCAT/CAT  \\\n",
              "12    21.852215  121.210236  297.067688    0.098346          10.8       1.01   \n",
              "1698  30.456949  139.797272  283.871246    0.089752          12.8       1.10   \n",
              "1075  19.237545  239.907944  297.794983    0.082886          27.3       1.11   \n",
              "2463  38.563896  201.153336  298.111816    0.009760          20.1       1.02   \n",
              "2447  37.702160  224.228180  295.751617    0.135394          20.7       1.19   \n",
              "\n",
              "      Tot H2 Flow  PDI1140.PV  #1Sieve DP  TI4304A.PV  #1Extr Die DP  \\\n",
              "12           5.82   12.295844    6.639460  208.432297      28.400375   \n",
              "1698        23.70   12.260359    6.868140  206.202210      28.342247   \n",
              "1075        31.20   18.571785    6.948058  207.620361      33.848022   \n",
              "2463        26.10   18.225981    6.068414  195.067474      22.407700   \n",
              "2447        31.70   17.671864    6.466011  195.120743      27.512924   \n",
              "\n",
              "       II3349A.PV  \n",
              "12    2054.522217  \n",
              "1698  1646.037231  \n",
              "1075  1860.038330  \n",
              "2463  1051.456787  \n",
              "2447  1270.990112  "
            ]
          },
          "metadata": {},
          "execution_count": 7
        }
      ],
      "source": [
        "#X1 = df.drop('TRN1-MFI', axis =1)\n",
        "X = df.drop('TRN1-Density', axis=1)\n",
        "y  = df['TRN1-Density']\n",
        "\n",
        "X_train, X_test, y_train, y_test = train_test_split(X, y, train_size =0.8, random_state = 20)\n",
        "X_train.shape\n",
        "X.shape\n",
        "y.head()\n",
        "X_test.head()"
      ]
    },
    {
      "cell_type": "code",
      "execution_count": 8,
      "metadata": {
        "colab": {
          "base_uri": "https://localhost:8080/"
        },
        "id": "PpEONsOUz16e",
        "outputId": "d0ea6cf9-ffe1-4d5a-e388-23d8648b6a6d"
      },
      "outputs": [
        {
          "output_type": "stream",
          "name": "stdout",
          "text": [
            "XI1430-PV        float64\n",
            "XI1400A.PV       float64\n",
            "TI1129-PV        float64\n",
            "XI1403A-PV       float64\n",
            "Tot CAT Flow     float64\n",
            "CoCAT/CAT        float64\n",
            "Tot H2 Flow      float64\n",
            "PDI1140.PV       float64\n",
            "#1Sieve DP       float64\n",
            "TI4304A.PV       float64\n",
            "#1Extr Die DP    float64\n",
            "II3349A.PV       float64\n",
            "TRN1-Density     float64\n",
            "dtype: object\n"
          ]
        }
      ],
      "source": [
        "df.isna().sum()\n",
        "print(df.dtypes)"
      ]
    },
    {
      "cell_type": "code",
      "execution_count": 9,
      "metadata": {
        "id": "anUujfcow5g9"
      },
      "outputs": [],
      "source": [
        "from sklearn.preprocessing import StandardScaler\n",
        "scaler=StandardScaler()\n",
        "scaler.fit(X_train)\n",
        "\n",
        "X_train_scaled = scaler.transform(X_train)\n",
        "X_test_scaled = scaler.transform(X_test)\n",
        "\n",
        "#scaler1=StandardScaler()\n",
        "#scaler1.fit(X)\n",
        "X_scaled = scaler.transform(X)"
      ]
    },
    {
      "cell_type": "code",
      "source": [
        "#TRN2 - TEST\n",
        "from google.colab import files\n",
        "uploaded = files.upload()"
      ],
      "metadata": {
        "colab": {
          "resources": {
            "http://localhost:8080/nbextensions/google.colab/files.js": {
              "data": "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",
              "ok": true,
              "headers": [
                [
                  "content-type",
                  "application/javascript"
                ]
              ],
              "status": 200,
              "status_text": ""
            }
          },
          "base_uri": "https://localhost:8080/",
          "height": 74
        },
        "id": "0Um_grZLGrbH",
        "outputId": "8cf3f30a-f5c1-4052-cf84-1e0893876a1b"
      },
      "execution_count": 35,
      "outputs": [
        {
          "output_type": "display_data",
          "data": {
            "text/html": [
              "\n",
              "     <input type=\"file\" id=\"files-72de32dc-ee6d-4963-8c31-c39b86fad9d9\" name=\"files[]\" multiple disabled\n",
              "        style=\"border:none\" />\n",
              "     <output id=\"result-72de32dc-ee6d-4963-8c31-c39b86fad9d9\">\n",
              "      Upload widget is only available when the cell has been executed in the\n",
              "      current browser session. Please rerun this cell to enable.\n",
              "      </output>\n",
              "      <script src=\"/nbextensions/google.colab/files.js\"></script> "
            ],
            "text/plain": [
              "<IPython.core.display.HTML object>"
            ]
          },
          "metadata": {}
        },
        {
          "output_type": "stream",
          "name": "stdout",
          "text": [
            "Saving TRN2 Density_R3.csv to TRN2 Density_R3.csv\n"
          ]
        }
      ]
    },
    {
      "cell_type": "code",
      "source": [
        "#TRN2 - TEST\n",
        "dfT = pd.read_csv(\"TRN2 Density_R3.csv\")\n",
        "print(dfT.shape)\n",
        "dfT.head()"
      ],
      "metadata": {
        "colab": {
          "base_uri": "https://localhost:8080/",
          "height": 305
        },
        "id": "MXx-kW7fGzcY",
        "outputId": "2c4cd4e9-9925-47b0-897a-5c81fc341534"
      },
      "execution_count": 36,
      "outputs": [
        {
          "output_type": "stream",
          "name": "stdout",
          "text": [
            "(2871, 13)\n"
          ]
        },
        {
          "output_type": "execute_result",
          "data": {
            "text/html": [
              "\n",
              "  <div id=\"df-25ac8257-d5b9-4e72-aca5-412751d64baa\">\n",
              "    <div class=\"colab-df-container\">\n",
              "      <div>\n",
              "<style scoped>\n",
              "    .dataframe tbody tr th:only-of-type {\n",
              "        vertical-align: middle;\n",
              "    }\n",
              "\n",
              "    .dataframe tbody tr th {\n",
              "        vertical-align: top;\n",
              "    }\n",
              "\n",
              "    .dataframe thead th {\n",
              "        text-align: right;\n",
              "    }\n",
              "</style>\n",
              "<table border=\"1\" class=\"dataframe\">\n",
              "  <thead>\n",
              "    <tr style=\"text-align: right;\">\n",
              "      <th></th>\n",
              "      <th>XI1430-PV</th>\n",
              "      <th>XI1400A.PV</th>\n",
              "      <th>TI1129-PV</th>\n",
              "      <th>XI1403A-PV</th>\n",
              "      <th>Tot CAT Flow</th>\n",
              "      <th>CoCAT/CAT</th>\n",
              "      <th>Tot H2 Flow</th>\n",
              "      <th>PDI1140.PV</th>\n",
              "      <th>#1Sieve DP</th>\n",
              "      <th>TI4304A.PV</th>\n",
              "      <th>#1Extr Die DP</th>\n",
              "      <th>II3349A.PV</th>\n",
              "      <th>TRN1-Density</th>\n",
              "    </tr>\n",
              "  </thead>\n",
              "  <tbody>\n",
              "    <tr>\n",
              "      <th>0</th>\n",
              "      <td>21.846096</td>\n",
              "      <td>175.430359</td>\n",
              "      <td>300.003815</td>\n",
              "      <td>0.097764</td>\n",
              "      <td>15.519147</td>\n",
              "      <td>1.017100</td>\n",
              "      <td>24.229279</td>\n",
              "      <td>17.559998</td>\n",
              "      <td>3.933218</td>\n",
              "      <td>199.333130</td>\n",
              "      <td>23.236626</td>\n",
              "      <td>1796.887451</td>\n",
              "      <td>0.9476</td>\n",
              "    </tr>\n",
              "    <tr>\n",
              "      <th>1</th>\n",
              "      <td>18.953762</td>\n",
              "      <td>184.736328</td>\n",
              "      <td>297.618652</td>\n",
              "      <td>0.098805</td>\n",
              "      <td>16.383167</td>\n",
              "      <td>1.040431</td>\n",
              "      <td>25.997143</td>\n",
              "      <td>20.540806</td>\n",
              "      <td>6.056967</td>\n",
              "      <td>205.232605</td>\n",
              "      <td>20.655647</td>\n",
              "      <td>1616.219849</td>\n",
              "      <td>0.9459</td>\n",
              "    </tr>\n",
              "    <tr>\n",
              "      <th>2</th>\n",
              "      <td>17.704952</td>\n",
              "      <td>193.058502</td>\n",
              "      <td>296.578613</td>\n",
              "      <td>0.094661</td>\n",
              "      <td>16.233025</td>\n",
              "      <td>1.035543</td>\n",
              "      <td>23.010954</td>\n",
              "      <td>20.831661</td>\n",
              "      <td>6.524080</td>\n",
              "      <td>204.271103</td>\n",
              "      <td>23.340172</td>\n",
              "      <td>1750.179810</td>\n",
              "      <td>0.9464</td>\n",
              "    </tr>\n",
              "    <tr>\n",
              "      <th>3</th>\n",
              "      <td>13.798260</td>\n",
              "      <td>199.435669</td>\n",
              "      <td>299.548554</td>\n",
              "      <td>0.092948</td>\n",
              "      <td>17.421278</td>\n",
              "      <td>0.973151</td>\n",
              "      <td>14.541722</td>\n",
              "      <td>20.081059</td>\n",
              "      <td>6.261856</td>\n",
              "      <td>208.189728</td>\n",
              "      <td>23.222244</td>\n",
              "      <td>1727.577515</td>\n",
              "      <td>0.9471</td>\n",
              "    </tr>\n",
              "    <tr>\n",
              "      <th>4</th>\n",
              "      <td>17.141943</td>\n",
              "      <td>159.020630</td>\n",
              "      <td>293.233673</td>\n",
              "      <td>0.095304</td>\n",
              "      <td>12.866739</td>\n",
              "      <td>1.046174</td>\n",
              "      <td>15.248518</td>\n",
              "      <td>16.610790</td>\n",
              "      <td>6.500121</td>\n",
              "      <td>207.144104</td>\n",
              "      <td>20.968926</td>\n",
              "      <td>1626.155151</td>\n",
              "      <td>0.9469</td>\n",
              "    </tr>\n",
              "  </tbody>\n",
              "</table>\n",
              "</div>\n",
              "      <button class=\"colab-df-convert\" onclick=\"convertToInteractive('df-25ac8257-d5b9-4e72-aca5-412751d64baa')\"\n",
              "              title=\"Convert this dataframe to an interactive table.\"\n",
              "              style=\"display:none;\">\n",
              "        \n",
              "  <svg xmlns=\"http://www.w3.org/2000/svg\" height=\"24px\"viewBox=\"0 0 24 24\"\n",
              "       width=\"24px\">\n",
              "    <path d=\"M0 0h24v24H0V0z\" fill=\"none\"/>\n",
              "    <path d=\"M18.56 5.44l.94 2.06.94-2.06 2.06-.94-2.06-.94-.94-2.06-.94 2.06-2.06.94zm-11 1L8.5 8.5l.94-2.06 2.06-.94-2.06-.94L8.5 2.5l-.94 2.06-2.06.94zm10 10l.94 2.06.94-2.06 2.06-.94-2.06-.94-.94-2.06-.94 2.06-2.06.94z\"/><path d=\"M17.41 7.96l-1.37-1.37c-.4-.4-.92-.59-1.43-.59-.52 0-1.04.2-1.43.59L10.3 9.45l-7.72 7.72c-.78.78-.78 2.05 0 2.83L4 21.41c.39.39.9.59 1.41.59.51 0 1.02-.2 1.41-.59l7.78-7.78 2.81-2.81c.8-.78.8-2.07 0-2.86zM5.41 20L4 18.59l7.72-7.72 1.47 1.35L5.41 20z\"/>\n",
              "  </svg>\n",
              "      </button>\n",
              "      \n",
              "  <style>\n",
              "    .colab-df-container {\n",
              "      display:flex;\n",
              "      flex-wrap:wrap;\n",
              "      gap: 12px;\n",
              "    }\n",
              "\n",
              "    .colab-df-convert {\n",
              "      background-color: #E8F0FE;\n",
              "      border: none;\n",
              "      border-radius: 50%;\n",
              "      cursor: pointer;\n",
              "      display: none;\n",
              "      fill: #1967D2;\n",
              "      height: 32px;\n",
              "      padding: 0 0 0 0;\n",
              "      width: 32px;\n",
              "    }\n",
              "\n",
              "    .colab-df-convert:hover {\n",
              "      background-color: #E2EBFA;\n",
              "      box-shadow: 0px 1px 2px rgba(60, 64, 67, 0.3), 0px 1px 3px 1px rgba(60, 64, 67, 0.15);\n",
              "      fill: #174EA6;\n",
              "    }\n",
              "\n",
              "    [theme=dark] .colab-df-convert {\n",
              "      background-color: #3B4455;\n",
              "      fill: #D2E3FC;\n",
              "    }\n",
              "\n",
              "    [theme=dark] .colab-df-convert:hover {\n",
              "      background-color: #434B5C;\n",
              "      box-shadow: 0px 1px 3px 1px rgba(0, 0, 0, 0.15);\n",
              "      filter: drop-shadow(0px 1px 2px rgba(0, 0, 0, 0.3));\n",
              "      fill: #FFFFFF;\n",
              "    }\n",
              "  </style>\n",
              "\n",
              "      <script>\n",
              "        const buttonEl =\n",
              "          document.querySelector('#df-25ac8257-d5b9-4e72-aca5-412751d64baa button.colab-df-convert');\n",
              "        buttonEl.style.display =\n",
              "          google.colab.kernel.accessAllowed ? 'block' : 'none';\n",
              "\n",
              "        async function convertToInteractive(key) {\n",
              "          const element = document.querySelector('#df-25ac8257-d5b9-4e72-aca5-412751d64baa');\n",
              "          const dataTable =\n",
              "            await google.colab.kernel.invokeFunction('convertToInteractive',\n",
              "                                                     [key], {});\n",
              "          if (!dataTable) return;\n",
              "\n",
              "          const docLinkHtml = 'Like what you see? Visit the ' +\n",
              "            '<a target=\"_blank\" href=https://colab.research.google.com/notebooks/data_table.ipynb>data table notebook</a>'\n",
              "            + ' to learn more about interactive tables.';\n",
              "          element.innerHTML = '';\n",
              "          dataTable['output_type'] = 'display_data';\n",
              "          await google.colab.output.renderOutput(dataTable, element);\n",
              "          const docLink = document.createElement('div');\n",
              "          docLink.innerHTML = docLinkHtml;\n",
              "          element.appendChild(docLink);\n",
              "        }\n",
              "      </script>\n",
              "    </div>\n",
              "  </div>\n",
              "  "
            ],
            "text/plain": [
              "   XI1430-PV  XI1400A.PV   TI1129-PV  XI1403A-PV  Tot CAT Flow  CoCAT/CAT  \\\n",
              "0  21.846096  175.430359  300.003815    0.097764     15.519147   1.017100   \n",
              "1  18.953762  184.736328  297.618652    0.098805     16.383167   1.040431   \n",
              "2  17.704952  193.058502  296.578613    0.094661     16.233025   1.035543   \n",
              "3  13.798260  199.435669  299.548554    0.092948     17.421278   0.973151   \n",
              "4  17.141943  159.020630  293.233673    0.095304     12.866739   1.046174   \n",
              "\n",
              "   Tot H2 Flow  PDI1140.PV  #1Sieve DP  TI4304A.PV  #1Extr Die DP  \\\n",
              "0    24.229279   17.559998    3.933218  199.333130      23.236626   \n",
              "1    25.997143   20.540806    6.056967  205.232605      20.655647   \n",
              "2    23.010954   20.831661    6.524080  204.271103      23.340172   \n",
              "3    14.541722   20.081059    6.261856  208.189728      23.222244   \n",
              "4    15.248518   16.610790    6.500121  207.144104      20.968926   \n",
              "\n",
              "    II3349A.PV  TRN1-Density  \n",
              "0  1796.887451        0.9476  \n",
              "1  1616.219849        0.9459  \n",
              "2  1750.179810        0.9464  \n",
              "3  1727.577515        0.9471  \n",
              "4  1626.155151        0.9469  "
            ]
          },
          "metadata": {},
          "execution_count": 36
        }
      ]
    },
    {
      "cell_type": "code",
      "source": [
        "#TRN2 - TEST\n",
        "XT = dfT.drop('TRN1-Density', axis=1)\n",
        "yT  = dfT['TRN1-Density']\n",
        "XT_scaled = scaler.transform(XT)"
      ],
      "metadata": {
        "id": "KoYJrcLbIC6a"
      },
      "execution_count": 38,
      "outputs": []
    },
    {
      "cell_type": "code",
      "source": [
        "dfT.isna().sum()\n",
        "#print(dfT.dtypes)"
      ],
      "metadata": {
        "colab": {
          "base_uri": "https://localhost:8080/"
        },
        "id": "1WeJKDF2LH10",
        "outputId": "bd14f48f-df10-4d57-f5cb-b25783a10d38"
      },
      "execution_count": 39,
      "outputs": [
        {
          "output_type": "execute_result",
          "data": {
            "text/plain": [
              "XI1430-PV        0\n",
              "XI1400A.PV       0\n",
              "TI1129-PV        0\n",
              "XI1403A-PV       0\n",
              "Tot CAT Flow     0\n",
              "CoCAT/CAT        0\n",
              "Tot H2 Flow      0\n",
              "PDI1140.PV       0\n",
              "#1Sieve DP       0\n",
              "TI4304A.PV       0\n",
              "#1Extr Die DP    0\n",
              "II3349A.PV       0\n",
              "TRN1-Density     0\n",
              "dtype: int64"
            ]
          },
          "metadata": {},
          "execution_count": 39
        }
      ]
    },
    {
      "cell_type": "markdown",
      "metadata": {
        "id": "swHoSzr15S8u"
      },
      "source": [
        "**LINEAR REGRESSION**"
      ]
    },
    {
      "cell_type": "code",
      "execution_count": 40,
      "metadata": {
        "colab": {
          "base_uri": "https://localhost:8080/"
        },
        "id": "R8kfRwcv5V1d",
        "outputId": "c6bf61b8-24b8-494a-b87d-859a3690ba8a"
      },
      "outputs": [
        {
          "output_type": "stream",
          "name": "stdout",
          "text": [
            "MAE test: 0.001306106993607347\n",
            "MAE: 0.0013202367176961159\n",
            "R2 score test: 0.8460820162857899\n",
            "R2 score: 0.8573309101907679\n",
            "541\n"
          ]
        }
      ],
      "source": [
        "from sklearn.linear_model import LinearRegression\n",
        "from sklearn.metrics import r2_score\n",
        "reg = LinearRegression().fit(X_train_scaled, y_train)\n",
        "\n",
        "from sklearn.metrics import mean_absolute_error\n",
        "\n",
        "yL_test_pred = reg.predict(X_test_scaled)\n",
        "print(\"MAE test:\", mean_absolute_error(y_test, yL_test_pred))\n",
        "\n",
        "yL_pred = reg.predict(X_scaled)\n",
        "print(\"MAE:\", mean_absolute_error(y, yL_pred))\n",
        "\n",
        "print(\"R2 score test:\", r2_score(y_test,yL_test_pred))\n",
        "print(\"R2 score:\", r2_score(y,yL_pred))\n",
        "\n",
        "count=0\n",
        "for idx in range(len(yL_pred)):\n",
        "  if(abs(y[idx]-yL_pred[idx])>0.002):\n",
        "    count = count+1\n",
        "\n",
        "print(count)"
      ]
    },
    {
      "cell_type": "code",
      "source": [
        "#TRN2 - TEST\n",
        "yLT_pred = reg.predict(XT_scaled)\n",
        "print(\"MAE TRN2:\", mean_absolute_error(yT, yLT_pred))\n",
        "print(\"R2 score TRN2:\", r2_score(yT,yLT_pred))\n",
        "\n",
        "count=0\n",
        "for idx in range(len(yLT_pred)):\n",
        "  if(abs(yT[idx]-yLT_pred[idx])>0.002):\n",
        "    count = count+1\n",
        "\n",
        "print(count)"
      ],
      "metadata": {
        "colab": {
          "base_uri": "https://localhost:8080/"
        },
        "id": "IpFL-8J-KiLj",
        "outputId": "13d02b96-97b2-48be-fa37-75998dd89fe4"
      },
      "execution_count": 43,
      "outputs": [
        {
          "output_type": "stream",
          "name": "stdout",
          "text": [
            "MAE TRN2: 0.001305554600957874\n",
            "R2 score TRN2: 0.7758053925612478\n",
            "515\n"
          ]
        }
      ]
    },
    {
      "cell_type": "markdown",
      "metadata": {
        "id": "d7YMwH8b6S4n"
      },
      "source": [
        "**LINEAR REGRESSION - L1 Regularization**"
      ]
    },
    {
      "cell_type": "code",
      "execution_count": null,
      "metadata": {
        "colab": {
          "base_uri": "https://localhost:8080/"
        },
        "id": "2ZcS2FI96UZN",
        "outputId": "81a0b873-1018-4d8c-8507-5e70255dfa7a"
      },
      "outputs": [
        {
          "name": "stdout",
          "output_type": "stream",
          "text": [
            "MAE test: 0.001306106993607347\n",
            "MAE: 0.0013202367176961159\n",
            "R2 score test: 0.8460820162857899\n",
            "R2 score: 0.8573309101907679\n",
            "541\n"
          ]
        }
      ],
      "source": [
        "from sklearn import linear_model\n",
        "from sklearn.metrics import r2_score\n",
        "L1_reg = linear_model.Lasso(alpha=.051)\n",
        "#L1_reg = linear_model.Lasso(alpha=0.12)\n",
        "L1_reg.fit(X_train_scaled, y_train)\n",
        "\n",
        "from sklearn.metrics import mean_absolute_error\n",
        "\n",
        "yL1_test_pred = reg.predict(X_test_scaled)\n",
        "print(\"MAE test:\", mean_absolute_error(y_test, yL1_test_pred))\n",
        "\n",
        "yL1_pred = reg.predict(X_scaled)\n",
        "print(\"MAE:\", mean_absolute_error(y, yL1_pred))\n",
        "\n",
        "print(\"R2 score test:\", r2_score(y_test,yL1_test_pred))\n",
        "print(\"R2 score:\", r2_score(y,yL1_pred))\n",
        "\n",
        "count=0\n",
        "for idx in range(len(yL1_pred)):\n",
        "  if(abs(y[idx]-yL1_pred[idx])>0.002):\n",
        "    count = count+1\n",
        "\n",
        "print(count)"
      ]
    },
    {
      "cell_type": "markdown",
      "metadata": {
        "id": "Up_I3JWt6b7O"
      },
      "source": [
        "**LINEAR REGRESSION - L2 Regularization**"
      ]
    },
    {
      "cell_type": "code",
      "execution_count": null,
      "metadata": {
        "colab": {
          "base_uri": "https://localhost:8080/"
        },
        "id": "wE9-ZT6I6fOO",
        "outputId": "e6268b02-78e4-4a0b-d24d-57f3939e754e"
      },
      "outputs": [
        {
          "name": "stdout",
          "output_type": "stream",
          "text": [
            "MAE TEST: 0.0013071801526648036\n",
            "MAE: 0.0013210553349343995\n",
            "R2 score test: 0.8460571562259508\n",
            "R2 score: 0.8573202493193481\n",
            "541\n"
          ]
        }
      ],
      "source": [
        "from sklearn import linear_model\n",
        "from sklearn.model_selection import GridSearchCV\n",
        "from sklearn.metrics import r2_score\n",
        "\n",
        "L2_reg = linear_model.Ridge(alpha=5)\n",
        "L2_reg.fit(X_train_scaled, y_train)\n",
        "\n",
        "from sklearn.metrics import mean_absolute_error\n",
        "\n",
        "yL2_test_pred = L2_reg.predict(X_test_scaled)\n",
        "print(\"MAE TEST:\", mean_absolute_error(y_test, yL2_test_pred))\n",
        "\n",
        "yL2_pred = L2_reg.predict(X_scaled)\n",
        "print(\"MAE:\", mean_absolute_error(y, yL2_pred))\n",
        "\n",
        "print(\"R2 score test:\", r2_score(y_test, yL2_test_pred))\n",
        "print(\"R2 score:\", r2_score(y, yL2_pred))\n",
        "\n",
        "count=0\n",
        "for idx in range(len(yL2_pred)):\n",
        "  if(abs(y[idx]-yL2_pred[idx])>0.002):\n",
        "    count = count+1\n",
        "\n",
        "print(count)"
      ]
    },
    {
      "cell_type": "markdown",
      "metadata": {
        "id": "PZNfEJrt6sAf"
      },
      "source": [
        "**Grid Search - Linear Regression - L2 Regularization**"
      ]
    },
    {
      "cell_type": "code",
      "execution_count": 45,
      "metadata": {
        "colab": {
          "base_uri": "https://localhost:8080/"
        },
        "id": "bwh4nGKZ6tyn",
        "outputId": "59e907fa-2d5e-4d47-e7ac-ef95159c9722"
      },
      "outputs": [
        {
          "output_type": "execute_result",
          "data": {
            "text/plain": [
              "GridSearchCV(cv=15, estimator=Ridge(),\n",
              "             param_grid={'alpha': [1e-15, 1e-10, 1e-08, 0.001, 0.01, 1, 5, 10,\n",
              "                                   20, 30, 35, 40, 45, 50, 55, 100, 200]},\n",
              "             scoring='neg_mean_squared_error')"
            ]
          },
          "metadata": {},
          "execution_count": 45
        }
      ],
      "source": [
        "from sklearn.linear_model import Ridge\n",
        "from sklearn.model_selection import GridSearchCV\n",
        "\n",
        "ridge = Ridge()\n",
        "Parameters = {'alpha':[1e-15, 1e-10, 1e-8, 1e-3, 1e-2, 1, 5, 10, 20, 30, 35, 40, 45, 50, 55, 100, 200]}\n",
        "ridge_regressor = GridSearchCV(ridge, param_grid = Parameters, scoring ='neg_mean_squared_error', cv=15)\n",
        "\n",
        "ridge_regressor.fit(X_train_scaled,y_train)"
      ]
    },
    {
      "cell_type": "code",
      "execution_count": 46,
      "metadata": {
        "colab": {
          "base_uri": "https://localhost:8080/"
        },
        "id": "4KsouRNm6yS-",
        "outputId": "2ec7f5dd-4866-4855-cfc4-5b0205778761"
      },
      "outputs": [
        {
          "output_type": "stream",
          "name": "stdout",
          "text": [
            "{'alpha': 5}\n",
            "-3.2819010176683713e-06\n",
            "0.0013071801526648036\n",
            "0.0013210553349343995\n",
            "R2 score test: 0.8460571562259508\n",
            "R2 score: 0.8573202493193481\n",
            "541\n"
          ]
        }
      ],
      "source": [
        "from sklearn.metrics import r2_score\n",
        "print(ridge_regressor.best_params_)\n",
        "print(ridge_regressor.best_score_)\n",
        "\n",
        "yL2G_test_pred=ridge_regressor.predict(X_test_scaled)\n",
        "print(mean_absolute_error(y_test, yL2G_test_pred))\n",
        "\n",
        "yL2G_pred=ridge_regressor.predict(X_scaled)\n",
        "print(mean_absolute_error(y, yL2G_pred))\n",
        "\n",
        "print(\"R2 score test:\", r2_score(y_test, yL2G_test_pred))\n",
        "print(\"R2 score:\", r2_score(y, yL2G_pred))\n",
        "\n",
        "count=0\n",
        "for idx in range(len(yL2G_pred)):\n",
        "  if(abs(y[idx]-yL2G_pred[idx])>0.002):\n",
        "    count = count+1\n",
        "\n",
        "print(count)"
      ]
    },
    {
      "cell_type": "code",
      "source": [
        "# TRN2 Data test\n",
        "yL2GT_pred=ridge_regressor.predict(XT_scaled)\n",
        "print(\"MAE TRN2:\", mean_absolute_error(yT, yL2GT_pred))\n",
        "print(\"R2 score TRN2:\", r2_score(yT, yL2GT_pred))\n",
        "\n",
        "count=0\n",
        "for idx in range(len(yL2GT_pred)):\n",
        "  if(abs(yT[idx]-yL2GT_pred[idx])>0.002):\n",
        "    count = count+1\n",
        "\n",
        "print(count)"
      ],
      "metadata": {
        "colab": {
          "base_uri": "https://localhost:8080/"
        },
        "id": "biveCnKdNvvj",
        "outputId": "34d40531-7735-40e9-fcc2-fe91c36c39a7"
      },
      "execution_count": 48,
      "outputs": [
        {
          "output_type": "stream",
          "name": "stdout",
          "text": [
            "MAE TRN2: 0.001306277633906869\n",
            "R2 score TRN2: 0.7764676716899137\n",
            "517\n"
          ]
        }
      ]
    },
    {
      "cell_type": "markdown",
      "metadata": {
        "id": "TGZFCEOy65M_"
      },
      "source": [
        "**Polynomial Regression**"
      ]
    },
    {
      "cell_type": "code",
      "execution_count": 50,
      "metadata": {
        "colab": {
          "base_uri": "https://localhost:8080/"
        },
        "id": "U9sUuXMP663o",
        "outputId": "694b3ec5-5cf9-4ef4-97e0-41e4cedf1b1d"
      },
      "outputs": [
        {
          "output_type": "stream",
          "name": "stdout",
          "text": [
            "Rsquare_test: 0.884829584024567\n",
            "MAE_test: 0.0010309886970170888\n",
            "Rsquare: 0.9131024333124474\n",
            "Rsquarett: 0.9131024333124474\n",
            "MAE: 0.0009532347146643786\n",
            "518\n"
          ]
        }
      ],
      "source": [
        "from sklearn.preprocessing import PolynomialFeatures\n",
        "from sklearn.linear_model import LinearRegression\n",
        "from sklearn.metrics import mean_absolute_error\n",
        "\n",
        "poly = PolynomialFeatures(degree=2)\n",
        "\n",
        "poly_reg = LinearRegression()\n",
        "X_train_poly = poly.fit_transform(X_train_scaled)\n",
        "poly_reg.fit(X_train_poly, y_train)\n",
        "\n",
        "X_test_poly = poly.fit_transform(X_test_scaled)\n",
        "yp_test_pred = poly_reg.predict(X_test_poly)\n",
        "print(\"Rsquare_test:\", poly_reg.score(X_test_poly,y_test))\n",
        "print(\"MAE_test:\", mean_absolute_error(y_test, yp_test_pred))\n",
        "\n",
        "X_poly = poly.fit_transform(X_scaled)\n",
        "yp_pred = poly_reg.predict(X_poly)\n",
        "\n",
        "print(\"Rsquare:\", poly_reg.score(X_poly,y))\n",
        "#print(\"Rsquarett:\", r2_score(y,yp_pred))\n",
        "\n",
        "print(\"MAE:\", mean_absolute_error(y, yp_pred))\n",
        "\n",
        "poly_count=0\n",
        "for idx in range(len(yp_pred)):\n",
        "  if(abs(y[idx]-yp_pred[idx])>0.002):\n",
        "    poly_count = count+1\n",
        "\n",
        "print(poly_count)"
      ]
    },
    {
      "cell_type": "markdown",
      "metadata": {
        "id": "DDduAusI7Gue"
      },
      "source": [
        "**k-NN Regression**"
      ]
    },
    {
      "cell_type": "code",
      "execution_count": null,
      "metadata": {
        "colab": {
          "base_uri": "https://localhost:8080/"
        },
        "id": "IhiIYwb_7Iso",
        "outputId": "3b57a671-cc88-4170-cde5-62f078dff75a"
      },
      "outputs": [
        {
          "data": {
            "text/plain": [
              "KNeighborsRegressor(n_neighbors=4)"
            ]
          },
          "execution_count": 53,
          "metadata": {},
          "output_type": "execute_result"
        }
      ],
      "source": [
        "from sklearn.neighbors import KNeighborsRegressor\n",
        "\n",
        "KNR = KNeighborsRegressor(4)\n",
        "KNR.fit(X_train, y_train)"
      ]
    },
    {
      "cell_type": "code",
      "execution_count": null,
      "metadata": {
        "colab": {
          "base_uri": "https://localhost:8080/"
        },
        "id": "uLs6hV7C7MeX",
        "outputId": "ba895564-10bd-4362-92d6-8431121c1b83"
      },
      "outputs": [
        {
          "name": "stdout",
          "output_type": "stream",
          "text": [
            "MAE test: 0.0018482522935779808\n",
            "MAE: 0.0013715169055494299\n",
            "R2 score: 0.7802130866717544\n",
            "R2 score test: 0.6326214759834728\n",
            "526\n"
          ]
        }
      ],
      "source": [
        "y_test_pred_kNN = KNR.predict(X_test)\n",
        "y_pred_kNN = KNR.predict(X)\n",
        "#print(y_train[:1].values)\n",
        "from sklearn.metrics import mean_absolute_error\n",
        "print(\"MAE test:\", mean_absolute_error(y_test, y_test_pred_kNN))\n",
        "print(\"MAE:\", mean_absolute_error(y, y_pred_kNN))\n",
        "\n",
        "from sklearn.metrics import r2_score\n",
        "print(\"R2 score:\", r2_score(y, y_pred_kNN))\n",
        "print(\"R2 score test:\", r2_score(y_test, y_test_pred_kNN))\n",
        "\n",
        "kNN_count=0\n",
        "for idx in range(len(y_pred_kNN)):\n",
        "  if(abs(y[idx]-y_pred_kNN[idx])>0.002):\n",
        "    kNN_count = kNN_count+1\n",
        "\n",
        "print(kNN_count)"
      ]
    },
    {
      "cell_type": "markdown",
      "metadata": {
        "id": "8hbMBoqE7Tqu"
      },
      "source": [
        "**GridSearchCV- kNN**"
      ]
    },
    {
      "cell_type": "code",
      "execution_count": null,
      "metadata": {
        "colab": {
          "base_uri": "https://localhost:8080/"
        },
        "id": "GZ7-PYht7VMH",
        "outputId": "09097f68-1bac-4b10-8558-479e78a43f0e"
      },
      "outputs": [
        {
          "name": "stdout",
          "output_type": "stream",
          "text": [
            "{'n_neighbors': 2}\n",
            "0.6813781828068921\n",
            "MAE test: 0.0018106422018348623\n",
            "MAE: 0.0010097243660418958\n",
            "R2 score: 0.8441107218917233\n",
            "R2 score test: 0.6074910821891487\n",
            "302\n"
          ]
        }
      ],
      "source": [
        "from sklearn.neighbors import KNeighborsRegressor\n",
        "from sklearn.model_selection import GridSearchCV\n",
        "from sklearn.metrics import mean_absolute_error\n",
        "import numpy as np\n",
        "from sklearn.neighbors import DistanceMetric\n",
        "\n",
        "k=np.arange(2,30)\n",
        "KNN_R = KNeighborsRegressor()\n",
        "params = dict(n_neighbors=k)\n",
        "GridSearch_kNN = GridSearchCV(KNN_R, param_grid = params, cv=20)\n",
        "GridSearch_kNN.fit(X_train, y_train)\n",
        "print(GridSearch_kNN.best_params_)\n",
        "print(GridSearch_kNN.best_score_)\n",
        "\n",
        "\n",
        "ykNNG_test_pred = GridSearch_kNN.predict(X_test)\n",
        "print(\"MAE test:\", mean_absolute_error(y_test, ykNNG_test_pred))\n",
        "\n",
        "ykNNG_pred = GridSearch_kNN.predict(X)\n",
        "print(\"MAE:\", mean_absolute_error(y, ykNNG_pred))\n",
        "\n",
        "from sklearn.metrics import r2_score\n",
        "print(\"R2 score:\", r2_score(y, ykNNG_pred))\n",
        "\n",
        "print(\"R2 score test:\", r2_score(y_test, ykNNG_test_pred))\n",
        "\n",
        "kNNG_count=0\n",
        "for idx in range(len(ykNNG_pred)):\n",
        "  if(abs(y[idx]-ykNNG_pred[idx])>0.002):\n",
        "    kNNG_count = kNNG_count+1\n",
        "\n",
        "print(kNNG_count)"
      ]
    },
    {
      "cell_type": "markdown",
      "metadata": {
        "id": "pGTexKe67erg"
      },
      "source": [
        "**Outliers**"
      ]
    },
    {
      "cell_type": "code",
      "execution_count": null,
      "metadata": {
        "colab": {
          "base_uri": "https://localhost:8080/"
        },
        "id": "u2o_jbmO7ivf",
        "outputId": "4504d237-fccc-49e9-f7fa-0ad52c693bf8"
      },
      "outputs": [
        {
          "name": "stdout",
          "output_type": "stream",
          "text": [
            "1\n"
          ]
        }
      ],
      "source": [
        "import numpy as np\n",
        "outliers =[]\n",
        "n_sigma =3\n",
        "mean = np.mean(y)\n",
        "std = np.std(y)\n",
        "for ele1 in y:\n",
        "  z_score = abs((ele1-mean)/std)\n",
        "  if z_score>n_sigma:\n",
        "    outliers.append(y)\n",
        "\n",
        "print(len(outliers))\n",
        "#outliers"
      ]
    },
    {
      "cell_type": "markdown",
      "metadata": {
        "id": "I5Bh5NtF7zuY"
      },
      "source": [
        "**Outliers - IQR**"
      ]
    },
    {
      "cell_type": "code",
      "execution_count": null,
      "metadata": {
        "colab": {
          "base_uri": "https://localhost:8080/"
        },
        "id": "HUpmFE0T71Fu",
        "outputId": "64e04de3-f151-4651-d3bf-4f8a2a9000fd"
      },
      "outputs": [
        {
          "name": "stdout",
          "output_type": "stream",
          "text": [
            "0.9458 0.9552\n",
            "IQR: 0.009400000000000075\n",
            "0.9316999999999999 0.9693000000000002\n"
          ]
        }
      ],
      "source": [
        "import numpy as np\n",
        "q1, q3 = np.percentile(y,[25,75])\n",
        "print(q1, q3)\n",
        "IQR =q3-q1\n",
        "print(\"IQR:\", IQR)\n",
        "lower_bound_value = q1-(IQR*1.5)\n",
        "upper_bound_value = q3+(IQR*1.5)\n",
        "\n",
        "print(lower_bound_value, upper_bound_value)"
      ]
    },
    {
      "cell_type": "markdown",
      "metadata": {
        "id": "gQB5MUAU77VG"
      },
      "source": [
        "**Decision Tree**"
      ]
    },
    {
      "cell_type": "code",
      "execution_count": null,
      "metadata": {
        "colab": {
          "base_uri": "https://localhost:8080/"
        },
        "id": "vXJOu6Tg78eI",
        "outputId": "604646a1-f99a-45c4-bf7f-46d609298406"
      },
      "outputs": [
        {
          "name": "stdout",
          "output_type": "stream",
          "text": [
            "MAE_test: 0.0013559633027522948\n",
            "MAE: 0.0002715913267181198\n",
            "R2 Square: 0.9543994076170148\n",
            "R2 Square_test: 0.7802717639382035\n",
            "104\n",
            "squared_error\n",
            "best\n",
            "None\n",
            "None\n",
            "2\n"
          ]
        }
      ],
      "source": [
        "from sklearn.tree import DecisionTreeRegressor\n",
        "from sklearn.metrics import mean_absolute_error, r2_score\n",
        "\n",
        "#tree = DecisionTreeRegressor()\n",
        "tree = DecisionTreeRegressor()\n",
        "tree.fit(X_train_scaled, y_train)\n",
        "\n",
        "yDT_test_pred = tree.predict(X_test_scaled)\n",
        "print(\"MAE_test:\", mean_absolute_error(y_test,yDT_test_pred))\n",
        "\n",
        "yDT_pred = tree.predict(X_scaled)\n",
        "print(\"MAE:\", mean_absolute_error(y,yDT_pred))\n",
        "\n",
        "print(\"R2 Square:\", r2_score(y,yDT_pred))\n",
        "print(\"R2 Square_test:\", r2_score(y_test,yDT_test_pred))\n",
        "\n",
        "DT_count=0\n",
        "for idx in range(len(yDT_pred)):\n",
        "  if(abs(y[idx]-yDT_pred[idx])>0.002):\n",
        "    DT_count = DT_count+1\n",
        "\n",
        "print(DT_count)\n",
        "\n",
        "print(tree.criterion)\n",
        "print(tree.splitter)\n",
        "print(tree.max_depth)\n",
        "print(tree.max_features)\n",
        "print(tree.min_samples_split)"
      ]
    },
    {
      "cell_type": "markdown",
      "metadata": {
        "id": "32nttMop8FPe"
      },
      "source": [
        "**Decision Tree - GridSearchCV**"
      ]
    },
    {
      "cell_type": "code",
      "execution_count": 51,
      "metadata": {
        "colab": {
          "base_uri": "https://localhost:8080/"
        },
        "id": "VtqyMqak8G4x",
        "outputId": "78c8ccde-86b6-4d71-a761-a327252bab1a"
      },
      "outputs": [
        {
          "output_type": "stream",
          "name": "stdout",
          "text": [
            "MAE_test: 0.0009815971875919596\n",
            "MAE: 0.0009075834826511613\n",
            "R2 Square: 0.9123337385916401\n",
            "R2 Square test: 0.8715376114589161\n",
            "{'max_depth': 2, 'min_samples_split': 6}\n",
            "153\n"
          ]
        }
      ],
      "source": [
        "from sklearn.tree import DecisionTreeRegressor\n",
        "from sklearn.metrics import mean_absolute_error, r2_score\n",
        "\n",
        "import warnings\n",
        "warnings.filterwarnings(\"ignore\")\n",
        "\n",
        "params= {\n",
        "    \"max_depth\": [2,4,8,10,None],\n",
        "    #\"max_depth\": [None],\n",
        "    \"min_samples_split\":[0.25,0.5,1,2,3,4,5,6,7]\n",
        "}\n",
        "model = DecisionTreeRegressor()\n",
        "DT_grid = GridSearchCV(model, param_grid=params, cv=20)\n",
        "DT_grid.fit(X_train_scaled, y_train)\n",
        "\n",
        "yDT_grid_test_pred = DT_grid.predict(X_test_scaled)\n",
        "print(\"MAE_test:\", mean_absolute_error(y_test,yDT_grid_test_pred))\n",
        "\n",
        "yDT_grid_pred = DT_grid.predict(X_scaled)\n",
        "print(\"MAE:\", mean_absolute_error(y,yDT_grid_pred))\n",
        "\n",
        "print(\"R2 Square:\", r2_score(y,yDT_grid_pred))\n",
        "print(\"R2 Square test:\", r2_score(y_test,yDT_grid_test_pred))\n",
        "\n",
        "print(DT_grid.best_params_)\n",
        "\n",
        "DTG_count=0\n",
        "for idx in range(len(yDT_grid_pred)):\n",
        "  if(abs(y[idx]-yDT_grid_pred[idx])>0.002):\n",
        "    DTG_count = DTG_count+1\n",
        "\n",
        "print(DTG_count)"
      ]
    },
    {
      "cell_type": "code",
      "execution_count": null,
      "metadata": {
        "colab": {
          "base_uri": "https://localhost:8080/"
        },
        "id": "fv2vOY358a54",
        "outputId": "37bf5014-dfd4-4b7c-ac40-1071a413c3d0"
      },
      "outputs": [
        {
          "data": {
            "text/plain": [
              "{'max_depth': 2, 'min_samples_split': 0.25}"
            ]
          },
          "execution_count": 64,
          "metadata": {},
          "output_type": "execute_result"
        }
      ],
      "source": [
        "DT_grid.best_params_"
      ]
    },
    {
      "cell_type": "code",
      "execution_count": null,
      "metadata": {
        "colab": {
          "base_uri": "https://localhost:8080/"
        },
        "id": "KeXqXkBE8enn",
        "outputId": "9e6b3d7c-04bd-45c3-f160-ef8caee9e8f7"
      },
      "outputs": [
        {
          "name": "stdout",
          "output_type": "stream",
          "text": [
            "XI1403A-PV 0.9133559831182579\n",
            "Tot H2 Flow 0.02181821029067882\n",
            "CoCAT/CAT 0.010504499326046671\n",
            "TI4304A.PV 0.01031138320950504\n",
            "Tot CAT Flow 0.0082108352164139\n",
            "XI1400A.PV 0.007207638694145363\n",
            "#1Extr Die DP 0.006508830135249385\n",
            "TI1129-PV 0.006417008671307129\n",
            "II3349A.PV 0.0062212301568238685\n",
            "#1Sieve DP 0.003550326767538519\n",
            "XI1430-PV 0.003486741327324345\n",
            "PDI1140.PV 0.002407313086709043\n"
          ]
        }
      ],
      "source": [
        "for importance, name in sorted(zip(tree.feature_importances_, X_train.columns), reverse=True):\n",
        "  print(name, importance)"
      ]
    },
    {
      "cell_type": "code",
      "source": [
        "#TRN2 - TEST\n",
        "yTDT_grid_pred = DT_grid.predict(XT_scaled)\n",
        "print(\"MAE TRN2:\", mean_absolute_error(yT,yTDT_grid_pred))\n",
        "print(\"R2 Square TRN2:\", r2_score(yT,yTDT_grid_pred))\n",
        "\n",
        "DTG_count=0\n",
        "for idx in range(len(yTDT_grid_pred)):\n",
        "  if(abs(yT[idx]-yTDT_grid_pred[idx])>0.002):\n",
        "    DTG_count = DTG_count+1\n",
        "\n",
        "print(DTG_count)"
      ],
      "metadata": {
        "colab": {
          "base_uri": "https://localhost:8080/"
        },
        "id": "if4yl-RBRjUV",
        "outputId": "da6fd096-e21a-41dd-e566-7007ed859063"
      },
      "execution_count": 52,
      "outputs": [
        {
          "output_type": "stream",
          "name": "stdout",
          "text": [
            "MAE TRN2: 0.0008947125313789605\n",
            "R2 Square TRN2: 0.9128183622119166\n",
            "162\n"
          ]
        }
      ]
    },
    {
      "cell_type": "markdown",
      "metadata": {
        "id": "2ht-ioxk8wvn"
      },
      "source": [
        "**Random Forest**"
      ]
    },
    {
      "cell_type": "code",
      "execution_count": null,
      "metadata": {
        "colab": {
          "base_uri": "https://localhost:8080/"
        },
        "id": "PB1v_GOl8z0m",
        "outputId": "057d6997-3823-444e-ea34-35a4870f40cc"
      },
      "outputs": [
        {
          "name": "stdout",
          "output_type": "stream",
          "text": [
            "MAE_test: 0.00111304310219505\n",
            "MAE: 0.0010198867074384338\n",
            "R2 Square: 0.9062870820226107\n",
            "R2 Square test: 0.8679236421948395\n",
            "282\n",
            "sqrt\n",
            "4\n",
            "2\n",
            "1\n",
            "True\n"
          ]
        }
      ],
      "source": [
        "from sklearn.ensemble import RandomForestRegressor\n",
        "from sklearn.metrics import mean_absolute_error, r2_score\n",
        "\n",
        "Rforest = RandomForestRegressor(max_depth=4, bootstrap=True, n_estimators =33,  min_samples_split=2, min_samples_leaf=1, max_features= 'sqrt')\n",
        "Rforest.fit(X_train_scaled, y_train)\n",
        "\n",
        "yRF_test_pred = Rforest.predict(X_test_scaled)\n",
        "print(\"MAE_test:\", mean_absolute_error(y_test,yRF_test_pred))\n",
        "\n",
        "yRF_pred = Rforest.predict(X_scaled)\n",
        "print(\"MAE:\", mean_absolute_error(y,yRF_pred))\n",
        "\n",
        "print(\"R2 Square:\", r2_score(y,yRF_pred))\n",
        "print(\"R2 Square test:\", r2_score(y_test,yRF_test_pred))\n",
        "\n",
        "RF_count=0\n",
        "for idx in range(len(yRF_pred)):\n",
        "  if(abs(y[idx]-yRF_pred[idx])>0.002):\n",
        "    RF_count = RF_count+1\n",
        "\n",
        "print(RF_count)\n",
        "\n",
        "print(Rforest.max_features)\n",
        "print(Rforest.max_depth)\n",
        "print(Rforest.min_samples_split)\n",
        "print(Rforest.min_samples_leaf)\n",
        "print(Rforest.bootstrap)"
      ]
    },
    {
      "cell_type": "markdown",
      "metadata": {
        "id": "FIyf5S0m9Gbq"
      },
      "source": [
        "**Random Forest - Feature Importance**"
      ]
    },
    {
      "cell_type": "code",
      "execution_count": null,
      "metadata": {
        "colab": {
          "base_uri": "https://localhost:8080/"
        },
        "id": "BMbZ16bn9KtJ",
        "outputId": "62366b61-af43-402d-c82e-c8af49a2db27"
      },
      "outputs": [
        {
          "name": "stdout",
          "output_type": "stream",
          "text": [
            "XI1403A-PV 0.5661081121952803\n",
            "CoCAT/CAT 0.18878393800369472\n",
            "II3349A.PV 0.068777045874749\n",
            "#1Extr Die DP 0.051494847309012326\n",
            "Tot H2 Flow 0.033603333972188384\n",
            "XI1400A.PV 0.0314885878613069\n",
            "TI1129-PV 0.03078381970787986\n",
            "XI1430-PV 0.009496347729999762\n",
            "Tot CAT Flow 0.006428293003729984\n",
            "PDI1140.PV 0.005247767556858824\n",
            "#1Sieve DP 0.004086547495046439\n",
            "TI4304A.PV 0.0037013592902534463\n"
          ]
        }
      ],
      "source": [
        "for importance, name in sorted(zip(Rforest.feature_importances_, X_train.columns), reverse=True):\n",
        "  print(name, importance)"
      ]
    },
    {
      "cell_type": "markdown",
      "metadata": {
        "id": "KC4oDZZ99U-h"
      },
      "source": [
        "**Random Forest - GridSearchCV**"
      ]
    },
    {
      "cell_type": "code",
      "execution_count": 53,
      "metadata": {
        "colab": {
          "base_uri": "https://localhost:8080/"
        },
        "id": "CzIHtt6k9WrL",
        "outputId": "25caa00e-47f9-482f-a0fe-cb71d43fb92c"
      },
      "outputs": [
        {
          "output_type": "stream",
          "name": "stdout",
          "text": [
            "MAE_test: 0.0009714674715234318\n",
            "MAE: 0.0008654807759566264\n",
            "R2 Square: 0.9257317368099642\n",
            "R2 Square test: 0.8794498640708645\n",
            "137\n",
            "auto\n",
            "None\n",
            "2\n",
            "1\n",
            "True\n",
            "100\n"
          ]
        }
      ],
      "source": [
        "import numpy as np\n",
        "from sklearn.ensemble import RandomForestRegressor\n",
        "from sklearn.model_selection import GridSearchCV\n",
        "from sklearn.metrics import mean_absolute_error, r2_score\n",
        "\n",
        "import warnings\n",
        "warnings.filterwarnings(\"ignore\")\n",
        "#no. of trees in RF\n",
        "#n_estimators = [int(x) for x in np.linspace(start=10, stop=80, num=10)]\n",
        "n_estimators = [int(x) for x in np.linspace(start=10, stop=80, num=10)]\n",
        "#No. of features to consider at every split\n",
        "max_features = ['auto', 'sqrt']\n",
        "#max no. of levels in a tree\n",
        "max_depth = [2,4]\n",
        "#min no. of samples required to split a node\n",
        "min_samples_split = [2,5]\n",
        "#Min no. of samples required at each leaf node\n",
        "min_samples_leaf = [1,2]\n",
        "#Method of selecting samples for training each tree\n",
        "bootstrap = [True, False]\n",
        "\n",
        "#Create the param grid\n",
        "params = {'n_estimators': n_estimators,\n",
        "              'max_features': max_features,\n",
        "              'max_depth': max_depth,\n",
        "              'min_samples_split': min_samples_split,\n",
        "              'min_samples_leaf': min_samples_leaf,\n",
        "              'bootstrap': bootstrap}\n",
        "\n",
        "#print(param_grid)\n",
        "\n",
        "Rforest_grid = RandomForestRegressor()\n",
        "RF_grid = GridSearchCV(Rforest_grid, param_grid=params, cv=5)\n",
        "RF_grid.fit(X_train_scaled, y_train)\n",
        "\n",
        "yRF_grid_test_pred = RF_grid.predict(X_test_scaled)\n",
        "print(\"MAE_test:\", mean_absolute_error(y_test,yRF_grid_test_pred))\n",
        "\n",
        "yRF_grid_pred = RF_grid.predict(X_scaled)\n",
        "print(\"MAE:\", mean_absolute_error(y,yRF_grid_pred))\n",
        "\n",
        "print(\"R2 Square:\", r2_score(y,yRF_grid_pred))\n",
        "print(\"R2 Square test:\", r2_score(y_test,yRF_grid_test_pred))\n",
        "\n",
        "RFG_count=0\n",
        "for idx in range(len(yRF_grid_pred)):\n",
        "  if(abs(y[idx]-yRF_grid_pred[idx])>0.002):\n",
        "    RFG_count = RFG_count+1\n",
        "\n",
        "print(RFG_count)\n",
        "\n",
        "print(Rforest_grid.max_features)\n",
        "print(Rforest_grid.max_depth)\n",
        "print(Rforest_grid.min_samples_split)\n",
        "print(Rforest_grid.min_samples_leaf)\n",
        "print(Rforest_grid.bootstrap)\n",
        "print(Rforest_grid.n_estimators)"
      ]
    },
    {
      "cell_type": "code",
      "execution_count": null,
      "metadata": {
        "colab": {
          "base_uri": "https://localhost:8080/"
        },
        "id": "9dLR94SB-t4f",
        "outputId": "b6a966ed-2605-4e91-a18a-fb4355c7940e"
      },
      "outputs": [
        {
          "data": {
            "text/plain": [
              "{'bootstrap': True,\n",
              " 'max_depth': 4,\n",
              " 'max_features': 'auto',\n",
              " 'min_samples_leaf': 2,\n",
              " 'min_samples_split': 2,\n",
              " 'n_estimators': 56}"
            ]
          },
          "execution_count": 69,
          "metadata": {},
          "output_type": "execute_result"
        }
      ],
      "source": [
        "RF_grid.best_params_"
      ]
    },
    {
      "cell_type": "code",
      "execution_count": null,
      "metadata": {
        "colab": {
          "base_uri": "https://localhost:8080/"
        },
        "id": "aiArvhlj-0ep",
        "outputId": "ce4f48eb-ff8a-4887-b85a-de7d50abfea7"
      },
      "outputs": [
        {
          "name": "stdout",
          "output_type": "stream",
          "text": [
            "100\n"
          ]
        },
        {
          "data": {
            "text/plain": [
              "[10, 17, 25, 33, 41, 48, 56, 64, 72, 80]"
            ]
          },
          "execution_count": 70,
          "metadata": {},
          "output_type": "execute_result"
        }
      ],
      "source": [
        "print(Rforest_grid.n_estimators)\n",
        "n_estimators"
      ]
    },
    {
      "cell_type": "code",
      "source": [
        "#TRN2 - TEST\n",
        "yTRF_grid_pred = RF_grid.predict(XT_scaled)\n",
        "print(\"MAE TRN2:\", mean_absolute_error(yT,yTRF_grid_pred))\n",
        "print(\"R2 Square TRN2:\", r2_score(yT,yTRF_grid_pred))\n",
        "\n",
        "\n",
        "RFG_count=0\n",
        "for idx in range(len(yTRF_grid_pred)):\n",
        "  if(abs(yT[idx]-yTRF_grid_pred[idx])>0.002):\n",
        "    RFG_count = RFG_count+1\n",
        "\n",
        "print(RFG_count)"
      ],
      "metadata": {
        "colab": {
          "base_uri": "https://localhost:8080/"
        },
        "id": "_6QeT-7tThvx",
        "outputId": "d9ed1bf0-fe53-465c-ddeb-6c742e744511"
      },
      "execution_count": 65,
      "outputs": [
        {
          "output_type": "stream",
          "name": "stdout",
          "text": [
            "MAE TRN2: 0.0009333126669312035\n",
            "R2 Square TRN2: 0.9073001609959148\n",
            "201\n"
          ]
        }
      ]
    },
    {
      "cell_type": "markdown",
      "metadata": {
        "id": "RlftybZY_Bvx"
      },
      "source": [
        "**Support Vector Regression**"
      ]
    },
    {
      "cell_type": "code",
      "execution_count": null,
      "metadata": {
        "colab": {
          "base_uri": "https://localhost:8080/"
        },
        "id": "-BlywUk8_DXA",
        "outputId": "e4cc54cd-b29f-41ce-d4ec-bb3211619745"
      },
      "outputs": [
        {
          "name": "stdout",
          "output_type": "stream",
          "text": [
            "MAE test: 0.004621651376146777\n",
            "MAE: 0.004584524072032327\n",
            "R Square: -0.02697496750587436\n",
            "R Square test: -0.013375654971941708\n",
            "2639\n"
          ]
        }
      ],
      "source": [
        "import warnings\n",
        "warnings.filterwarnings(\"ignore\")\n",
        "\n",
        "from sklearn.svm import SVR\n",
        "from sklearn.metrics import mean_absolute_error, r2_score\n",
        "SVR_reg = SVR(kernel = \"poly\", degree=2)\n",
        "#SVR_reg = SVR(kernel = \"rbf\", C=5, gamma = 'auto')\n",
        "SVR_reg.fit(X_train_scaled, y_train)\n",
        "\n",
        "ySVR_test_pred = SVR_reg.predict(X_test_scaled)\n",
        "print(\"MAE test:\", mean_absolute_error(y_test, ySVR_test_pred))\n",
        "\n",
        "ySVR_pred = SVR_reg.predict(X_scaled)\n",
        "print(\"MAE:\", mean_absolute_error(y, ySVR_pred))\n",
        "\n",
        "print(\"R Square:\",r2_score(y, ySVR_pred) )\n",
        "print(\"R Square test:\",r2_score(y_test, ySVR_test_pred) )\n",
        "\n",
        "\n",
        "SVR_count=0\n",
        "for idx in range(len(ySVR_pred)):\n",
        "  if(abs(y[idx]-ySVR_pred[idx])>0.002):\n",
        "    SVR_count = SVR_count+1\n",
        "\n",
        "print(SVR_count)"
      ]
    },
    {
      "cell_type": "markdown",
      "metadata": {
        "id": "250IUqOL_XaY"
      },
      "source": [
        "**GridSearchCV_SVR**"
      ]
    },
    {
      "cell_type": "code",
      "execution_count": null,
      "metadata": {
        "colab": {
          "base_uri": "https://localhost:8080/"
        },
        "id": "t64iGRBB_aL0",
        "outputId": "32b912c4-e05b-4471-a5e1-48f177b1b15c"
      },
      "outputs": [
        {
          "name": "stdout",
          "output_type": "stream",
          "text": [
            "MAE_test: 0.004621651376146777\n",
            "MAE: 0.004584524072032327\n",
            "R2 Square: -0.02697496750587436\n",
            "R2 Square test: -0.013375654971941708\n",
            "2639\n"
          ]
        }
      ],
      "source": [
        "import warnings\n",
        "warnings.filterwarnings(\"ignore\")\n",
        "\n",
        "#Create the param grid\n",
        "params = {#'kernel': ('linear', 'poly', 'rbf', 'sigmoid'),\n",
        "          'kernel': ('linear', 'poly', 'rbf', 'sigmoid'),\n",
        "              'C': [x for x in np.linspace(start=.01, stop=2, num=10)],\n",
        "              'degree': [int(x) for x in np.linspace(start=2, stop=5, num=3)],\n",
        "              #'coef0': [x for x in np.linspace(start=0.001, stop=10, num=4)],\n",
        "              'gamma': ['auto', 'scale']\n",
        "              #'gamma': ['auto']\n",
        "              }\n",
        "\n",
        "#print(param_grid)\n",
        "\n",
        "SVR_grid = SVR()\n",
        "SVR_grid = GridSearchCV(SVR_grid, param_grid=params, cv=5)\n",
        "SVR_grid.fit(X_train_scaled, y_train)\n",
        "\n",
        "ySVR_grid_test_pred = SVR_grid.predict(X_test_scaled)\n",
        "print(\"MAE_test:\", mean_absolute_error(y_test,ySVR_grid_test_pred))\n",
        "\n",
        "ySVR_grid_pred = SVR_grid.predict(X_scaled)\n",
        "print(\"MAE:\", mean_absolute_error(y,ySVR_grid_pred))\n",
        "\n",
        "print(\"R2 Square:\", r2_score(y,ySVR_grid_pred))\n",
        "print(\"R2 Square test:\", r2_score(y_test,ySVR_grid_test_pred))\n",
        "\n",
        "SVR_grid_count=0\n",
        "for idx in range(len(ySVR_grid_pred)):\n",
        "  if(abs(y[idx]-ySVR_grid_pred[idx])>0.002):\n",
        "    SVR_grid_count = SVR_grid_count+1\n",
        "\n",
        "print(SVR_grid_count)"
      ]
    },
    {
      "cell_type": "markdown",
      "metadata": {
        "id": "DwvwA4m0AIxl"
      },
      "source": [
        "**XG Boost**"
      ]
    },
    {
      "cell_type": "code",
      "execution_count": null,
      "metadata": {
        "colab": {
          "base_uri": "https://localhost:8080/"
        },
        "id": "M9sbKec0AKBJ",
        "outputId": "6be2167c-c0de-4346-fa47-b4e87d4559eb"
      },
      "outputs": [
        {
          "name": "stdout",
          "output_type": "stream",
          "text": [
            "[20:52:01] WARNING: /workspace/src/objective/regression_obj.cu:152: reg:linear is now deprecated in favor of reg:squarederror.\n",
            "MAE test: 0.0009755026122626894\n",
            "MAE: 0.000822042228918835\n",
            "R Square: 0.9344023400187942\n",
            "R Square test: 0.8792527957788686\n",
            "115\n",
            "n_estimators: 100\n",
            "max_depth: 3\n",
            "Learning rate: 0.1\n",
            "min_child_weight: 1\n",
            "booster: gbtree\n",
            "base_score: 0.5\n"
          ]
        }
      ],
      "source": [
        "import warnings\n",
        "warnings.filterwarnings(\"ignore\")\n",
        "\n",
        "from xgboost import XGBRegressor\n",
        "from sklearn.metrics import mean_absolute_error, r2_score\n",
        "\n",
        "Xg_reg  = XGBRegressor()\n",
        "Xg_reg.fit(X_train_scaled, y_train)\n",
        "\n",
        "yXg_test_pred = Xg_reg.predict(X_test_scaled)\n",
        "print(\"MAE test:\", mean_absolute_error(y_test, yXg_test_pred))\n",
        "\n",
        "yXg_pred = Xg_reg.predict(X_scaled)\n",
        "print(\"MAE:\", mean_absolute_error(y, yXg_pred))\n",
        "\n",
        "print(\"R Square:\", r2_score(y, yXg_pred))\n",
        "print(\"R Square test:\", r2_score(y_test, yXg_test_pred))\n",
        "\n",
        "XG_count=0\n",
        "for idx in range(len(yXg_pred)):\n",
        "  if(abs(y[idx]-yXg_pred[idx])>0.002):\n",
        "    XG_count = XG_count+1\n",
        "\n",
        "print(XG_count)\n",
        "\n",
        "print(\"n_estimators:\", Xg_reg.n_estimators)\n",
        "print(\"max_depth:\", Xg_reg.max_depth)\n",
        "print(\"Learning rate:\", Xg_reg.learning_rate)\n",
        "print(\"min_child_weight:\", Xg_reg.min_child_weight)\n",
        "print(\"booster:\", Xg_reg.booster)\n",
        "print(\"base_score:\", Xg_reg.base_score)"
      ]
    },
    {
      "cell_type": "code",
      "execution_count": 55,
      "metadata": {
        "colab": {
          "base_uri": "https://localhost:8080/"
        },
        "id": "3my6CE9KARih",
        "outputId": "724a3450-7e51-43c2-e7ee-44cab88c9d31"
      },
      "outputs": [
        {
          "output_type": "stream",
          "name": "stdout",
          "text": [
            "[16:43:24] WARNING: /workspace/src/objective/regression_obj.cu:152: reg:linear is now deprecated in favor of reg:squarederror.\n",
            "MAE test: 0.0009729740293310309\n",
            "MAE: 0.0007161199212275798\n",
            "R Square: 0.9482554031510422\n",
            "R Square test: 0.8745730889116343\n",
            "89\n",
            "100\n",
            "3\n",
            "0.1\n"
          ]
        }
      ],
      "source": [
        "from xgboost.training import cv\n",
        "n_estimators = [int(x) for x in np.linspace(start=10, stop=70, num=10)]\n",
        "\n",
        "params = {\"learning_rate\": [0.001, 0.01, 0.1, 0.25, 0.4, 0.5],\n",
        "          \"max_depth\": [1,2,3,4,5,6,7],\n",
        "          \"max_features\": [1,2,3,4,5,6,7],\n",
        "          \"n_estimators\": n_estimators\n",
        "    }\n",
        "\n",
        "Xg_reg_grid  = XGBRegressor()\n",
        "Xg_grid = GridSearchCV(Xg_reg_grid, param_grid = params, cv=10, n_jobs = -1, verbose=0)\n",
        "Xg_grid.fit(X_train_scaled, y_train)\n",
        "\n",
        "yXg_grid_test_pred = Xg_grid.predict(X_test_scaled)\n",
        "print(\"MAE test:\", mean_absolute_error(y_test, yXg_grid_test_pred))\n",
        "\n",
        "yXg_grid_pred = Xg_grid.predict(X_scaled)\n",
        "print(\"MAE:\", mean_absolute_error(y, yXg_grid_pred))\n",
        "\n",
        "print(\"R Square:\", r2_score(y, yXg_grid_pred))\n",
        "print(\"R Square test:\", r2_score(y_test, yXg_grid_test_pred))\n",
        "\n",
        "XGG_count=0\n",
        "for idx in range(len(yXg_grid_pred)):\n",
        "  if(abs(y[idx]-yXg_grid_pred[idx])>0.002):\n",
        "    XGG_count = XGG_count+1\n",
        "\n",
        "print(XGG_count)\n",
        "\n",
        "print(Xg_reg_grid.n_estimators)\n",
        "#print(Xg_reg_grid.max_features)\n",
        "print(Xg_reg_grid.max_depth)\n",
        "print(Xg_reg_grid.learning_rate)\n"
      ]
    },
    {
      "cell_type": "code",
      "execution_count": 58,
      "metadata": {
        "colab": {
          "base_uri": "https://localhost:8080/"
        },
        "id": "1oAsi30oCqSM",
        "outputId": "9f742055-5f75-4783-9596-6d70f3fdd05d"
      },
      "outputs": [
        {
          "output_type": "stream",
          "name": "stdout",
          "text": [
            "{'learning_rate': 0.4, 'max_depth': 3, 'max_features': 1, 'n_estimators': 56}\n",
            "[10, 16, 23, 30, 36, 43, 50, 56, 63, 70]\n"
          ]
        }
      ],
      "source": [
        "print(Xg_grid.best_params_)\n",
        "print(n_estimators)"
      ]
    },
    {
      "cell_type": "code",
      "source": [
        "#TRN2 - TEST\n",
        "yTXg_grid_pred = Xg_grid.predict(XT_scaled)\n",
        "print(\"MAE TRN2:\", mean_absolute_error(yT, yTXg_grid_pred))\n",
        "print(\"R Square TRN2:\", r2_score(yT, yTXg_grid_pred))\n",
        "\n",
        "\n",
        "XGG_count=0\n",
        "for idx in range(len(yTXg_grid_pred)):\n",
        "  if(abs(yT[idx]-yTXg_grid_pred[idx])>0.0025):\n",
        "    XGG_count = XGG_count+1\n",
        "\n",
        "print(XGG_count)"
      ],
      "metadata": {
        "colab": {
          "base_uri": "https://localhost:8080/"
        },
        "id": "2vMvInhkVcmv",
        "outputId": "0709866a-c2b2-49ce-8be2-659925ba1595"
      },
      "execution_count": 60,
      "outputs": [
        {
          "output_type": "stream",
          "name": "stdout",
          "text": [
            "MAE TRN2: 0.0011545432604633927\n",
            "R Square TRN2: 0.8605676578073945\n",
            "273\n"
          ]
        }
      ]
    }
  ],
  "metadata": {
    "accelerator": "TPU",
    "colab": {
      "collapsed_sections": [],
      "name": "Reg_TRN1-R3-Density-Indo.ipynb",
      "provenance": [],
      "authorship_tag": "ABX9TyMxY92W/8TjHVHEG7EWLf61",
      "include_colab_link": true
    },
    "kernelspec": {
      "display_name": "Python 3",
      "name": "python3"
    },
    "language_info": {
      "name": "python"
    }
  },
  "nbformat": 4,
  "nbformat_minor": 0
}