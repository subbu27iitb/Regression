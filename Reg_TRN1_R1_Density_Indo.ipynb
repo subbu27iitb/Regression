{
  "nbformat": 4,
  "nbformat_minor": 0,
  "metadata": {
    "colab": {
      "name": "Reg_TRN1-R1-Density-Indo.ipynb",
      "provenance": [],
      "authorship_tag": "ABX9TyMniyfDYIDnNZ+bGEWSNJFb",
      "include_colab_link": true
    },
    "kernelspec": {
      "name": "python3",
      "display_name": "Python 3"
    },
    "language_info": {
      "name": "python"
    },
    "accelerator": "TPU"
  },
  "cells": [
    {
      "cell_type": "markdown",
      "metadata": {
        "id": "view-in-github",
        "colab_type": "text"
      },
      "source": [
        "<a href=\"https://colab.research.google.com/github/subbu27iitb/Regression/blob/main/Reg_TRN1_R1_Density_Indo.ipynb\" target=\"_parent\"><img src=\"https://colab.research.google.com/assets/colab-badge.svg\" alt=\"Open In Colab\"/></a>"
      ]
    },
    {
      "cell_type": "markdown",
      "source": [
        "**TRN1 Density-R1.csv**\n",
        "\n",
        "%FE and Qfast tags are included."
      ],
      "metadata": {
        "id": "YS0E6rZ6sg7w"
      }
    },
    {
      "cell_type": "code",
      "execution_count": 5,
      "metadata": {
        "colab": {
          "resources": {
            "http://localhost:8080/nbextensions/google.colab/files.js": {
              "data": "Ly8gQ29weXJpZ2h0IDIwMTcgR29vZ2xlIExMQwovLwovLyBMaWNlbnNlZCB1bmRlciB0aGUgQXBhY2hlIExpY2Vuc2UsIFZlcnNpb24gMi4wICh0aGUgIkxpY2Vuc2UiKTsKLy8geW91IG1heSBub3QgdXNlIHRoaXMgZmlsZSBleGNlcHQgaW4gY29tcGxpYW5jZSB3aXRoIHRoZSBMaWNlbnNlLgovLyBZb3UgbWF5IG9idGFpbiBhIGNvcHkgb2YgdGhlIExpY2Vuc2UgYXQKLy8KLy8gICAgICBodHRwOi8vd3d3LmFwYWNoZS5vcmcvbGljZW5zZXMvTElDRU5TRS0yLjAKLy8KLy8gVW5sZXNzIHJlcXVpcmVkIGJ5IGFwcGxpY2FibGUgbGF3IG9yIGFncmVlZCB0byBpbiB3cml0aW5nLCBzb2Z0d2FyZQovLyBkaXN0cmlidXRlZCB1bmRlciB0aGUgTGljZW5zZSBpcyBkaXN0cmlidXRlZCBvbiBhbiAiQVMgSVMiIEJBU0lTLAovLyBXSVRIT1VUIFdBUlJBTlRJRVMgT1IgQ09ORElUSU9OUyBPRiBBTlkgS0lORCwgZWl0aGVyIGV4cHJlc3Mgb3IgaW1wbGllZC4KLy8gU2VlIHRoZSBMaWNlbnNlIGZvciB0aGUgc3BlY2lmaWMgbGFuZ3VhZ2UgZ292ZXJuaW5nIHBlcm1pc3Npb25zIGFuZAovLyBsaW1pdGF0aW9ucyB1bmRlciB0aGUgTGljZW5zZS4KCi8qKgogKiBAZmlsZW92ZXJ2aWV3IEhlbHBlcnMgZm9yIGdvb2dsZS5jb2xhYiBQeXRob24gbW9kdWxlLgogKi8KKGZ1bmN0aW9uKHNjb3BlKSB7CmZ1bmN0aW9uIHNwYW4odGV4dCwgc3R5bGVBdHRyaWJ1dGVzID0ge30pIHsKICBjb25zdCBlbGVtZW50ID0gZG9jdW1lbnQuY3JlYXRlRWxlbWVudCgnc3BhbicpOwogIGVsZW1lbnQudGV4dENvbnRlbnQgPSB0ZXh0OwogIGZvciAoY29uc3Qga2V5IG9mIE9iamVjdC5rZXlzKHN0eWxlQXR0cmlidXRlcykpIHsKICAgIGVsZW1lbnQuc3R5bGVba2V5XSA9IHN0eWxlQXR0cmlidXRlc1trZXldOwogIH0KICByZXR1cm4gZWxlbWVudDsKfQoKLy8gTWF4IG51bWJlciBvZiBieXRlcyB3aGljaCB3aWxsIGJlIHVwbG9hZGVkIGF0IGEgdGltZS4KY29uc3QgTUFYX1BBWUxPQURfU0laRSA9IDEwMCAqIDEwMjQ7CgpmdW5jdGlvbiBfdXBsb2FkRmlsZXMoaW5wdXRJZCwgb3V0cHV0SWQpIHsKICBjb25zdCBzdGVwcyA9IHVwbG9hZEZpbGVzU3RlcChpbnB1dElkLCBvdXRwdXRJZCk7CiAgY29uc3Qgb3V0cHV0RWxlbWVudCA9IGRvY3VtZW50LmdldEVsZW1lbnRCeUlkKG91dHB1dElkKTsKICAvLyBDYWNoZSBzdGVwcyBvbiB0aGUgb3V0cHV0RWxlbWVudCB0byBtYWtlIGl0IGF2YWlsYWJsZSBmb3IgdGhlIG5leHQgY2FsbAogIC8vIHRvIHVwbG9hZEZpbGVzQ29udGludWUgZnJvbSBQeXRob24uCiAgb3V0cHV0RWxlbWVudC5zdGVwcyA9IHN0ZXBzOwoKICByZXR1cm4gX3VwbG9hZEZpbGVzQ29udGludWUob3V0cHV0SWQpOwp9CgovLyBUaGlzIGlzIHJvdWdobHkgYW4gYXN5bmMgZ2VuZXJhdG9yIChub3Qgc3VwcG9ydGVkIGluIHRoZSBicm93c2VyIHlldCksCi8vIHdoZXJlIHRoZXJlIGFyZSBtdWx0aXBsZSBhc3luY2hyb25vdXMgc3RlcHMgYW5kIHRoZSBQeXRob24gc2lkZSBpcyBnb2luZwovLyB0byBwb2xsIGZvciBjb21wbGV0aW9uIG9mIGVhY2ggc3RlcC4KLy8gVGhpcyB1c2VzIGEgUHJvbWlzZSB0byBibG9jayB0aGUgcHl0aG9uIHNpZGUgb24gY29tcGxldGlvbiBvZiBlYWNoIHN0ZXAsCi8vIHRoZW4gcGFzc2VzIHRoZSByZXN1bHQgb2YgdGhlIHByZXZpb3VzIHN0ZXAgYXMgdGhlIGlucHV0IHRvIHRoZSBuZXh0IHN0ZXAuCmZ1bmN0aW9uIF91cGxvYWRGaWxlc0NvbnRpbnVlKG91dHB1dElkKSB7CiAgY29uc3Qgb3V0cHV0RWxlbWVudCA9IGRvY3VtZW50LmdldEVsZW1lbnRCeUlkKG91dHB1dElkKTsKICBjb25zdCBzdGVwcyA9IG91dHB1dEVsZW1lbnQuc3RlcHM7CgogIGNvbnN0IG5leHQgPSBzdGVwcy5uZXh0KG91dHB1dEVsZW1lbnQubGFzdFByb21pc2VWYWx1ZSk7CiAgcmV0dXJuIFByb21pc2UucmVzb2x2ZShuZXh0LnZhbHVlLnByb21pc2UpLnRoZW4oKHZhbHVlKSA9PiB7CiAgICAvLyBDYWNoZSB0aGUgbGFzdCBwcm9taXNlIHZhbHVlIHRvIG1ha2UgaXQgYXZhaWxhYmxlIHRvIHRoZSBuZXh0CiAgICAvLyBzdGVwIG9mIHRoZSBnZW5lcmF0b3IuCiAgICBvdXRwdXRFbGVtZW50Lmxhc3RQcm9taXNlVmFsdWUgPSB2YWx1ZTsKICAgIHJldHVybiBuZXh0LnZhbHVlLnJlc3BvbnNlOwogIH0pOwp9CgovKioKICogR2VuZXJhdG9yIGZ1bmN0aW9uIHdoaWNoIGlzIGNhbGxlZCBiZXR3ZWVuIGVhY2ggYXN5bmMgc3RlcCBvZiB0aGUgdXBsb2FkCiAqIHByb2Nlc3MuCiAqIEBwYXJhbSB7c3RyaW5nfSBpbnB1dElkIEVsZW1lbnQgSUQgb2YgdGhlIGlucHV0IGZpbGUgcGlja2VyIGVsZW1lbnQuCiAqIEBwYXJhbSB7c3RyaW5nfSBvdXRwdXRJZCBFbGVtZW50IElEIG9mIHRoZSBvdXRwdXQgZGlzcGxheS4KICogQHJldHVybiB7IUl0ZXJhYmxlPCFPYmplY3Q+fSBJdGVyYWJsZSBvZiBuZXh0IHN0ZXBzLgogKi8KZnVuY3Rpb24qIHVwbG9hZEZpbGVzU3RlcChpbnB1dElkLCBvdXRwdXRJZCkgewogIGNvbnN0IGlucHV0RWxlbWVudCA9IGRvY3VtZW50LmdldEVsZW1lbnRCeUlkKGlucHV0SWQpOwogIGlucHV0RWxlbWVudC5kaXNhYmxlZCA9IGZhbHNlOwoKICBjb25zdCBvdXRwdXRFbGVtZW50ID0gZG9jdW1lbnQuZ2V0RWxlbWVudEJ5SWQob3V0cHV0SWQpOwogIG91dHB1dEVsZW1lbnQuaW5uZXJIVE1MID0gJyc7CgogIGNvbnN0IHBpY2tlZFByb21pc2UgPSBuZXcgUHJvbWlzZSgocmVzb2x2ZSkgPT4gewogICAgaW5wdXRFbGVtZW50LmFkZEV2ZW50TGlzdGVuZXIoJ2NoYW5nZScsIChlKSA9PiB7CiAgICAgIHJlc29sdmUoZS50YXJnZXQuZmlsZXMpOwogICAgfSk7CiAgfSk7CgogIGNvbnN0IGNhbmNlbCA9IGRvY3VtZW50LmNyZWF0ZUVsZW1lbnQoJ2J1dHRvbicpOwogIGlucHV0RWxlbWVudC5wYXJlbnRFbGVtZW50LmFwcGVuZENoaWxkKGNhbmNlbCk7CiAgY2FuY2VsLnRleHRDb250ZW50ID0gJ0NhbmNlbCB1cGxvYWQnOwogIGNvbnN0IGNhbmNlbFByb21pc2UgPSBuZXcgUHJvbWlzZSgocmVzb2x2ZSkgPT4gewogICAgY2FuY2VsLm9uY2xpY2sgPSAoKSA9PiB7CiAgICAgIHJlc29sdmUobnVsbCk7CiAgICB9OwogIH0pOwoKICAvLyBXYWl0IGZvciB0aGUgdXNlciB0byBwaWNrIHRoZSBmaWxlcy4KICBjb25zdCBmaWxlcyA9IHlpZWxkIHsKICAgIHByb21pc2U6IFByb21pc2UucmFjZShbcGlja2VkUHJvbWlzZSwgY2FuY2VsUHJvbWlzZV0pLAogICAgcmVzcG9uc2U6IHsKICAgICAgYWN0aW9uOiAnc3RhcnRpbmcnLAogICAgfQogIH07CgogIGNhbmNlbC5yZW1vdmUoKTsKCiAgLy8gRGlzYWJsZSB0aGUgaW5wdXQgZWxlbWVudCBzaW5jZSBmdXJ0aGVyIHBpY2tzIGFyZSBub3QgYWxsb3dlZC4KICBpbnB1dEVsZW1lbnQuZGlzYWJsZWQgPSB0cnVlOwoKICBpZiAoIWZpbGVzKSB7CiAgICByZXR1cm4gewogICAgICByZXNwb25zZTogewogICAgICAgIGFjdGlvbjogJ2NvbXBsZXRlJywKICAgICAgfQogICAgfTsKICB9CgogIGZvciAoY29uc3QgZmlsZSBvZiBmaWxlcykgewogICAgY29uc3QgbGkgPSBkb2N1bWVudC5jcmVhdGVFbGVtZW50KCdsaScpOwogICAgbGkuYXBwZW5kKHNwYW4oZmlsZS5uYW1lLCB7Zm9udFdlaWdodDogJ2JvbGQnfSkpOwogICAgbGkuYXBwZW5kKHNwYW4oCiAgICAgICAgYCgke2ZpbGUudHlwZSB8fCAnbi9hJ30pIC0gJHtmaWxlLnNpemV9IGJ5dGVzLCBgICsKICAgICAgICBgbGFzdCBtb2RpZmllZDogJHsKICAgICAgICAgICAgZmlsZS5sYXN0TW9kaWZpZWREYXRlID8gZmlsZS5sYXN0TW9kaWZpZWREYXRlLnRvTG9jYWxlRGF0ZVN0cmluZygpIDoKICAgICAgICAgICAgICAgICAgICAgICAgICAgICAgICAgICAgJ24vYSd9IC0gYCkpOwogICAgY29uc3QgcGVyY2VudCA9IHNwYW4oJzAlIGRvbmUnKTsKICAgIGxpLmFwcGVuZENoaWxkKHBlcmNlbnQpOwoKICAgIG91dHB1dEVsZW1lbnQuYXBwZW5kQ2hpbGQobGkpOwoKICAgIGNvbnN0IGZpbGVEYXRhUHJvbWlzZSA9IG5ldyBQcm9taXNlKChyZXNvbHZlKSA9PiB7CiAgICAgIGNvbnN0IHJlYWRlciA9IG5ldyBGaWxlUmVhZGVyKCk7CiAgICAgIHJlYWRlci5vbmxvYWQgPSAoZSkgPT4gewogICAgICAgIHJlc29sdmUoZS50YXJnZXQucmVzdWx0KTsKICAgICAgfTsKICAgICAgcmVhZGVyLnJlYWRBc0FycmF5QnVmZmVyKGZpbGUpOwogICAgfSk7CiAgICAvLyBXYWl0IGZvciB0aGUgZGF0YSB0byBiZSByZWFkeS4KICAgIGxldCBmaWxlRGF0YSA9IHlpZWxkIHsKICAgICAgcHJvbWlzZTogZmlsZURhdGFQcm9taXNlLAogICAgICByZXNwb25zZTogewogICAgICAgIGFjdGlvbjogJ2NvbnRpbnVlJywKICAgICAgfQogICAgfTsKCiAgICAvLyBVc2UgYSBjaHVua2VkIHNlbmRpbmcgdG8gYXZvaWQgbWVzc2FnZSBzaXplIGxpbWl0cy4gU2VlIGIvNjIxMTU2NjAuCiAgICBsZXQgcG9zaXRpb24gPSAwOwogICAgZG8gewogICAgICBjb25zdCBsZW5ndGggPSBNYXRoLm1pbihmaWxlRGF0YS5ieXRlTGVuZ3RoIC0gcG9zaXRpb24sIE1BWF9QQVlMT0FEX1NJWkUpOwogICAgICBjb25zdCBjaHVuayA9IG5ldyBVaW50OEFycmF5KGZpbGVEYXRhLCBwb3NpdGlvbiwgbGVuZ3RoKTsKICAgICAgcG9zaXRpb24gKz0gbGVuZ3RoOwoKICAgICAgY29uc3QgYmFzZTY0ID0gYnRvYShTdHJpbmcuZnJvbUNoYXJDb2RlLmFwcGx5KG51bGwsIGNodW5rKSk7CiAgICAgIHlpZWxkIHsKICAgICAgICByZXNwb25zZTogewogICAgICAgICAgYWN0aW9uOiAnYXBwZW5kJywKICAgICAgICAgIGZpbGU6IGZpbGUubmFtZSwKICAgICAgICAgIGRhdGE6IGJhc2U2NCwKICAgICAgICB9LAogICAgICB9OwoKICAgICAgbGV0IHBlcmNlbnREb25lID0gZmlsZURhdGEuYnl0ZUxlbmd0aCA9PT0gMCA/CiAgICAgICAgICAxMDAgOgogICAgICAgICAgTWF0aC5yb3VuZCgocG9zaXRpb24gLyBmaWxlRGF0YS5ieXRlTGVuZ3RoKSAqIDEwMCk7CiAgICAgIHBlcmNlbnQudGV4dENvbnRlbnQgPSBgJHtwZXJjZW50RG9uZX0lIGRvbmVgOwoKICAgIH0gd2hpbGUgKHBvc2l0aW9uIDwgZmlsZURhdGEuYnl0ZUxlbmd0aCk7CiAgfQoKICAvLyBBbGwgZG9uZS4KICB5aWVsZCB7CiAgICByZXNwb25zZTogewogICAgICBhY3Rpb246ICdjb21wbGV0ZScsCiAgICB9CiAgfTsKfQoKc2NvcGUuZ29vZ2xlID0gc2NvcGUuZ29vZ2xlIHx8IHt9OwpzY29wZS5nb29nbGUuY29sYWIgPSBzY29wZS5nb29nbGUuY29sYWIgfHwge307CnNjb3BlLmdvb2dsZS5jb2xhYi5fZmlsZXMgPSB7CiAgX3VwbG9hZEZpbGVzLAogIF91cGxvYWRGaWxlc0NvbnRpbnVlLAp9Owp9KShzZWxmKTsK",
              "ok": true,
              "headers": [
                [
                  "content-type",
                  "application/javascript"
                ]
              ],
              "status": 200,
              "status_text": ""
            }
          },
          "base_uri": "https://localhost:8080/",
          "height": 74
        },
        "id": "jCPM1Cl7mpQs",
        "outputId": "efaa0152-0350-47aa-f15e-368fbcfce851"
      },
      "outputs": [
        {
          "output_type": "display_data",
          "data": {
            "text/html": [
              "\n",
              "     <input type=\"file\" id=\"files-c3cc6837-beb3-45b6-a455-e0181d82743b\" name=\"files[]\" multiple disabled\n",
              "        style=\"border:none\" />\n",
              "     <output id=\"result-c3cc6837-beb3-45b6-a455-e0181d82743b\">\n",
              "      Upload widget is only available when the cell has been executed in the\n",
              "      current browser session. Please rerun this cell to enable.\n",
              "      </output>\n",
              "      <script src=\"/nbextensions/google.colab/files.js\"></script> "
            ],
            "text/plain": [
              "<IPython.core.display.HTML object>"
            ]
          },
          "metadata": {}
        },
        {
          "output_type": "stream",
          "name": "stdout",
          "text": [
            "Saving TRN1 Density-R1.csv to TRN1 Density-R1.csv\n"
          ]
        }
      ],
      "source": [
        "from google.colab import files\n",
        "uploaded = files.upload()"
      ]
    },
    {
      "cell_type": "code",
      "source": [
        "import numpy as np\n",
        "import pandas as pd\n",
        "from sklearn.model_selection import train_test_split\n",
        "from sklearn.preprocessing import StandardScaler\n",
        "from keras.models import Sequential\n",
        "from keras.layers import Dense\n",
        "from keras.wrappers.scikit_learn import KerasRegressor\n",
        "from sklearn.model_selection import cross_val_score\n",
        "from sklearn.model_selection import KFold\n",
        "from sklearn.pipeline import Pipeline\n",
        "from keras.layers import normalization\n",
        "from tensorflow.keras.layers import BatchNormalization\n",
        "from keras.layers import Dropout\n",
        "from tensorflow.keras import initializers\n",
        "from tensorflow.keras.initializers import GlorotUniform\n",
        "from tensorflow.keras.initializers import HeUniform\n",
        "\n",
        "from keras.wrappers.scikit_learn import KerasClassifier\n",
        "from sklearn.model_selection import GridSearchCV"
      ],
      "metadata": {
        "id": "Y-E2vXYknCsb"
      },
      "execution_count": 6,
      "outputs": []
    },
    {
      "cell_type": "code",
      "source": [
        "from sklearn import linear_model\n",
        "from sklearn.linear_model import LinearRegression\n",
        "from sklearn.metrics import r2_score\n",
        "from sklearn.metrics import mean_absolute_error\n",
        "from sklearn.model_selection import cross_val_score\n",
        "from sklearn.linear_model import Ridge\n",
        "from sklearn.model_selection import GridSearchCV\n",
        "from sklearn.preprocessing import PolynomialFeatures\n",
        "\n",
        "from sklearn.neighbors import KNeighborsRegressor\n",
        "from sklearn.neighbors import DistanceMetric\n",
        "\n",
        "from sklearn.tree import DecisionTreeRegressor\n",
        "from sklearn.tree import plot_tree\n",
        "import matplotlib.pyplot as plt\n",
        "\n",
        "from sklearn.ensemble import RandomForestRegressor\n",
        "\n",
        "from sklearn.svm import SVR\n",
        "\n",
        "from xgboost import XGBRegressor"
      ],
      "metadata": {
        "id": "Z9Vw9UL3nE_K"
      },
      "execution_count": 7,
      "outputs": []
    },
    {
      "cell_type": "code",
      "source": [
        "df = pd.read_csv(\"TRN1 Density-R1.csv\")\n",
        "print(df.shape)\n",
        "print(df.head())\n",
        "df.describe()\n",
        "df.head()"
      ],
      "metadata": {
        "colab": {
          "base_uri": "https://localhost:8080/",
          "height": 692
        },
        "id": "7sei32qsnHeZ",
        "outputId": "f0d2a051-7472-42b0-9f64-3df856b1d4a0"
      },
      "execution_count": 8,
      "outputs": [
        {
          "output_type": "stream",
          "name": "stdout",
          "text": [
            "(2328, 15)\n",
            "   XI1428-PV  XI1401A-PV   II1126.PV  XI1400A.PV   TI1129-PV  XI1403A-PV  \\\n",
            "0  93.834503   19.301304  164.141892  121.100372  284.682892    0.349452   \n",
            "1  93.824081   19.371960  164.837189  121.363518  284.354370    0.348382   \n",
            "2  94.378799   19.280579  163.339981  121.378845  284.706665    0.350016   \n",
            "3  93.612228   19.293215  164.168350  121.119019  284.087433    0.349595   \n",
            "4  93.540222   19.250935  165.780884  121.486221  284.200043    0.350191   \n",
            "\n",
            "   Tot CAT Flow  CoCAT/CAT  Tot H2 Flow  PDI1140.PV  #1 Sieve DP  TI4304A.PV  \\\n",
            "0     10.955372   2.343621     3.168845    0.640164     0.286146  190.949799   \n",
            "1     11.063857   2.300564     3.140994    0.719158     0.327414  190.840362   \n",
            "2     11.005821   2.315915     2.788568    0.809924     0.331234  190.974167   \n",
            "3     11.142930   2.266358     2.984952    0.180891     0.286641  192.412201   \n",
            "4     11.134962   2.174996     3.199985    0.211178     0.233596  193.289215   \n",
            "\n",
            "   #1Extrdr Die DP  II3349A.PV  TRN1-Density-R1  \n",
            "0         2.163792  401.941193           0.9324  \n",
            "1         2.049963  402.318542           0.9320  \n",
            "2         2.110838  418.283875           0.9323  \n",
            "3         2.446724  433.225006           0.9328  \n",
            "4         2.667099  437.882202           0.9330  \n"
          ]
        },
        {
          "output_type": "execute_result",
          "data": {
            "text/html": [
              "\n",
              "  <div id=\"df-0075f159-3804-4e54-b59a-df73d1e4924b\">\n",
              "    <div class=\"colab-df-container\">\n",
              "      <div>\n",
              "<style scoped>\n",
              "    .dataframe tbody tr th:only-of-type {\n",
              "        vertical-align: middle;\n",
              "    }\n",
              "\n",
              "    .dataframe tbody tr th {\n",
              "        vertical-align: top;\n",
              "    }\n",
              "\n",
              "    .dataframe thead th {\n",
              "        text-align: right;\n",
              "    }\n",
              "</style>\n",
              "<table border=\"1\" class=\"dataframe\">\n",
              "  <thead>\n",
              "    <tr style=\"text-align: right;\">\n",
              "      <th></th>\n",
              "      <th>XI1428-PV</th>\n",
              "      <th>XI1401A-PV</th>\n",
              "      <th>II1126.PV</th>\n",
              "      <th>XI1400A.PV</th>\n",
              "      <th>TI1129-PV</th>\n",
              "      <th>XI1403A-PV</th>\n",
              "      <th>Tot CAT Flow</th>\n",
              "      <th>CoCAT/CAT</th>\n",
              "      <th>Tot H2 Flow</th>\n",
              "      <th>PDI1140.PV</th>\n",
              "      <th>#1 Sieve DP</th>\n",
              "      <th>TI4304A.PV</th>\n",
              "      <th>#1Extrdr Die DP</th>\n",
              "      <th>II3349A.PV</th>\n",
              "      <th>TRN1-Density-R1</th>\n",
              "    </tr>\n",
              "  </thead>\n",
              "  <tbody>\n",
              "    <tr>\n",
              "      <th>0</th>\n",
              "      <td>93.834503</td>\n",
              "      <td>19.301304</td>\n",
              "      <td>164.141892</td>\n",
              "      <td>121.100372</td>\n",
              "      <td>284.682892</td>\n",
              "      <td>0.349452</td>\n",
              "      <td>10.955372</td>\n",
              "      <td>2.343621</td>\n",
              "      <td>3.168845</td>\n",
              "      <td>0.640164</td>\n",
              "      <td>0.286146</td>\n",
              "      <td>190.949799</td>\n",
              "      <td>2.163792</td>\n",
              "      <td>401.941193</td>\n",
              "      <td>0.9324</td>\n",
              "    </tr>\n",
              "    <tr>\n",
              "      <th>1</th>\n",
              "      <td>93.824081</td>\n",
              "      <td>19.371960</td>\n",
              "      <td>164.837189</td>\n",
              "      <td>121.363518</td>\n",
              "      <td>284.354370</td>\n",
              "      <td>0.348382</td>\n",
              "      <td>11.063857</td>\n",
              "      <td>2.300564</td>\n",
              "      <td>3.140994</td>\n",
              "      <td>0.719158</td>\n",
              "      <td>0.327414</td>\n",
              "      <td>190.840362</td>\n",
              "      <td>2.049963</td>\n",
              "      <td>402.318542</td>\n",
              "      <td>0.9320</td>\n",
              "    </tr>\n",
              "    <tr>\n",
              "      <th>2</th>\n",
              "      <td>94.378799</td>\n",
              "      <td>19.280579</td>\n",
              "      <td>163.339981</td>\n",
              "      <td>121.378845</td>\n",
              "      <td>284.706665</td>\n",
              "      <td>0.350016</td>\n",
              "      <td>11.005821</td>\n",
              "      <td>2.315915</td>\n",
              "      <td>2.788568</td>\n",
              "      <td>0.809924</td>\n",
              "      <td>0.331234</td>\n",
              "      <td>190.974167</td>\n",
              "      <td>2.110838</td>\n",
              "      <td>418.283875</td>\n",
              "      <td>0.9323</td>\n",
              "    </tr>\n",
              "    <tr>\n",
              "      <th>3</th>\n",
              "      <td>93.612228</td>\n",
              "      <td>19.293215</td>\n",
              "      <td>164.168350</td>\n",
              "      <td>121.119019</td>\n",
              "      <td>284.087433</td>\n",
              "      <td>0.349595</td>\n",
              "      <td>11.142930</td>\n",
              "      <td>2.266358</td>\n",
              "      <td>2.984952</td>\n",
              "      <td>0.180891</td>\n",
              "      <td>0.286641</td>\n",
              "      <td>192.412201</td>\n",
              "      <td>2.446724</td>\n",
              "      <td>433.225006</td>\n",
              "      <td>0.9328</td>\n",
              "    </tr>\n",
              "    <tr>\n",
              "      <th>4</th>\n",
              "      <td>93.540222</td>\n",
              "      <td>19.250935</td>\n",
              "      <td>165.780884</td>\n",
              "      <td>121.486221</td>\n",
              "      <td>284.200043</td>\n",
              "      <td>0.350191</td>\n",
              "      <td>11.134962</td>\n",
              "      <td>2.174996</td>\n",
              "      <td>3.199985</td>\n",
              "      <td>0.211178</td>\n",
              "      <td>0.233596</td>\n",
              "      <td>193.289215</td>\n",
              "      <td>2.667099</td>\n",
              "      <td>437.882202</td>\n",
              "      <td>0.9330</td>\n",
              "    </tr>\n",
              "  </tbody>\n",
              "</table>\n",
              "</div>\n",
              "      <button class=\"colab-df-convert\" onclick=\"convertToInteractive('df-0075f159-3804-4e54-b59a-df73d1e4924b')\"\n",
              "              title=\"Convert this dataframe to an interactive table.\"\n",
              "              style=\"display:none;\">\n",
              "        \n",
              "  <svg xmlns=\"http://www.w3.org/2000/svg\" height=\"24px\"viewBox=\"0 0 24 24\"\n",
              "       width=\"24px\">\n",
              "    <path d=\"M0 0h24v24H0V0z\" fill=\"none\"/>\n",
              "    <path d=\"M18.56 5.44l.94 2.06.94-2.06 2.06-.94-2.06-.94-.94-2.06-.94 2.06-2.06.94zm-11 1L8.5 8.5l.94-2.06 2.06-.94-2.06-.94L8.5 2.5l-.94 2.06-2.06.94zm10 10l.94 2.06.94-2.06 2.06-.94-2.06-.94-.94-2.06-.94 2.06-2.06.94z\"/><path d=\"M17.41 7.96l-1.37-1.37c-.4-.4-.92-.59-1.43-.59-.52 0-1.04.2-1.43.59L10.3 9.45l-7.72 7.72c-.78.78-.78 2.05 0 2.83L4 21.41c.39.39.9.59 1.41.59.51 0 1.02-.2 1.41-.59l7.78-7.78 2.81-2.81c.8-.78.8-2.07 0-2.86zM5.41 20L4 18.59l7.72-7.72 1.47 1.35L5.41 20z\"/>\n",
              "  </svg>\n",
              "      </button>\n",
              "      \n",
              "  <style>\n",
              "    .colab-df-container {\n",
              "      display:flex;\n",
              "      flex-wrap:wrap;\n",
              "      gap: 12px;\n",
              "    }\n",
              "\n",
              "    .colab-df-convert {\n",
              "      background-color: #E8F0FE;\n",
              "      border: none;\n",
              "      border-radius: 50%;\n",
              "      cursor: pointer;\n",
              "      display: none;\n",
              "      fill: #1967D2;\n",
              "      height: 32px;\n",
              "      padding: 0 0 0 0;\n",
              "      width: 32px;\n",
              "    }\n",
              "\n",
              "    .colab-df-convert:hover {\n",
              "      background-color: #E2EBFA;\n",
              "      box-shadow: 0px 1px 2px rgba(60, 64, 67, 0.3), 0px 1px 3px 1px rgba(60, 64, 67, 0.15);\n",
              "      fill: #174EA6;\n",
              "    }\n",
              "\n",
              "    [theme=dark] .colab-df-convert {\n",
              "      background-color: #3B4455;\n",
              "      fill: #D2E3FC;\n",
              "    }\n",
              "\n",
              "    [theme=dark] .colab-df-convert:hover {\n",
              "      background-color: #434B5C;\n",
              "      box-shadow: 0px 1px 3px 1px rgba(0, 0, 0, 0.15);\n",
              "      filter: drop-shadow(0px 1px 2px rgba(0, 0, 0, 0.3));\n",
              "      fill: #FFFFFF;\n",
              "    }\n",
              "  </style>\n",
              "\n",
              "      <script>\n",
              "        const buttonEl =\n",
              "          document.querySelector('#df-0075f159-3804-4e54-b59a-df73d1e4924b button.colab-df-convert');\n",
              "        buttonEl.style.display =\n",
              "          google.colab.kernel.accessAllowed ? 'block' : 'none';\n",
              "\n",
              "        async function convertToInteractive(key) {\n",
              "          const element = document.querySelector('#df-0075f159-3804-4e54-b59a-df73d1e4924b');\n",
              "          const dataTable =\n",
              "            await google.colab.kernel.invokeFunction('convertToInteractive',\n",
              "                                                     [key], {});\n",
              "          if (!dataTable) return;\n",
              "\n",
              "          const docLinkHtml = 'Like what you see? Visit the ' +\n",
              "            '<a target=\"_blank\" href=https://colab.research.google.com/notebooks/data_table.ipynb>data table notebook</a>'\n",
              "            + ' to learn more about interactive tables.';\n",
              "          element.innerHTML = '';\n",
              "          dataTable['output_type'] = 'display_data';\n",
              "          await google.colab.output.renderOutput(dataTable, element);\n",
              "          const docLink = document.createElement('div');\n",
              "          docLink.innerHTML = docLinkHtml;\n",
              "          element.appendChild(docLink);\n",
              "        }\n",
              "      </script>\n",
              "    </div>\n",
              "  </div>\n",
              "  "
            ],
            "text/plain": [
              "   XI1428-PV  XI1401A-PV   II1126.PV  XI1400A.PV   TI1129-PV  XI1403A-PV  \\\n",
              "0  93.834503   19.301304  164.141892  121.100372  284.682892    0.349452   \n",
              "1  93.824081   19.371960  164.837189  121.363518  284.354370    0.348382   \n",
              "2  94.378799   19.280579  163.339981  121.378845  284.706665    0.350016   \n",
              "3  93.612228   19.293215  164.168350  121.119019  284.087433    0.349595   \n",
              "4  93.540222   19.250935  165.780884  121.486221  284.200043    0.350191   \n",
              "\n",
              "   Tot CAT Flow  CoCAT/CAT  Tot H2 Flow  PDI1140.PV  #1 Sieve DP  TI4304A.PV  \\\n",
              "0     10.955372   2.343621     3.168845    0.640164     0.286146  190.949799   \n",
              "1     11.063857   2.300564     3.140994    0.719158     0.327414  190.840362   \n",
              "2     11.005821   2.315915     2.788568    0.809924     0.331234  190.974167   \n",
              "3     11.142930   2.266358     2.984952    0.180891     0.286641  192.412201   \n",
              "4     11.134962   2.174996     3.199985    0.211178     0.233596  193.289215   \n",
              "\n",
              "   #1Extrdr Die DP  II3349A.PV  TRN1-Density-R1  \n",
              "0         2.163792  401.941193           0.9324  \n",
              "1         2.049963  402.318542           0.9320  \n",
              "2         2.110838  418.283875           0.9323  \n",
              "3         2.446724  433.225006           0.9328  \n",
              "4         2.667099  437.882202           0.9330  "
            ]
          },
          "metadata": {},
          "execution_count": 8
        }
      ]
    },
    {
      "cell_type": "code",
      "source": [
        "#X1 = df.drop('TRN1-MFI', axis =1)\n",
        "X = df.drop('TRN1-Density-R1', axis=1)\n",
        "y  = df['TRN1-Density-R1']\n",
        "\n",
        "X_train, X_test, y_train, y_test = train_test_split(X, y, train_size =0.8, random_state = 20)\n",
        "X_train.shape\n",
        "X.shape\n",
        "y.head()\n",
        "X_test.head()"
      ],
      "metadata": {
        "colab": {
          "base_uri": "https://localhost:8080/",
          "height": 391
        },
        "id": "4VPfEm9YnT2K",
        "outputId": "de50b9b6-33c2-469d-afa6-9ee3f4cd9407"
      },
      "execution_count": 9,
      "outputs": [
        {
          "output_type": "execute_result",
          "data": {
            "text/html": [
              "\n",
              "  <div id=\"df-2da221c0-99d9-4317-9633-0391bd8f7bbd\">\n",
              "    <div class=\"colab-df-container\">\n",
              "      <div>\n",
              "<style scoped>\n",
              "    .dataframe tbody tr th:only-of-type {\n",
              "        vertical-align: middle;\n",
              "    }\n",
              "\n",
              "    .dataframe tbody tr th {\n",
              "        vertical-align: top;\n",
              "    }\n",
              "\n",
              "    .dataframe thead th {\n",
              "        text-align: right;\n",
              "    }\n",
              "</style>\n",
              "<table border=\"1\" class=\"dataframe\">\n",
              "  <thead>\n",
              "    <tr style=\"text-align: right;\">\n",
              "      <th></th>\n",
              "      <th>XI1428-PV</th>\n",
              "      <th>XI1401A-PV</th>\n",
              "      <th>II1126.PV</th>\n",
              "      <th>XI1400A.PV</th>\n",
              "      <th>TI1129-PV</th>\n",
              "      <th>XI1403A-PV</th>\n",
              "      <th>Tot CAT Flow</th>\n",
              "      <th>CoCAT/CAT</th>\n",
              "      <th>Tot H2 Flow</th>\n",
              "      <th>PDI1140.PV</th>\n",
              "      <th>#1 Sieve DP</th>\n",
              "      <th>TI4304A.PV</th>\n",
              "      <th>#1Extrdr Die DP</th>\n",
              "      <th>II3349A.PV</th>\n",
              "    </tr>\n",
              "  </thead>\n",
              "  <tbody>\n",
              "    <tr>\n",
              "      <th>1594</th>\n",
              "      <td>92.832329</td>\n",
              "      <td>16.716000</td>\n",
              "      <td>138.402313</td>\n",
              "      <td>171.108765</td>\n",
              "      <td>245.371033</td>\n",
              "      <td>4.981488e-01</td>\n",
              "      <td>16.435396</td>\n",
              "      <td>2.143909</td>\n",
              "      <td>4.340000e-34</td>\n",
              "      <td>11.860645</td>\n",
              "      <td>4.497269</td>\n",
              "      <td>190.460052</td>\n",
              "      <td>25.785683</td>\n",
              "      <td>1753.997803</td>\n",
              "    </tr>\n",
              "    <tr>\n",
              "      <th>1989</th>\n",
              "      <td>93.464577</td>\n",
              "      <td>19.294861</td>\n",
              "      <td>167.858810</td>\n",
              "      <td>221.535614</td>\n",
              "      <td>275.318726</td>\n",
              "      <td>2.845495e-01</td>\n",
              "      <td>21.014038</td>\n",
              "      <td>2.078987</td>\n",
              "      <td>1.284164e+00</td>\n",
              "      <td>3.488406</td>\n",
              "      <td>1.425171</td>\n",
              "      <td>198.241745</td>\n",
              "      <td>12.265923</td>\n",
              "      <td>756.746216</td>\n",
              "    </tr>\n",
              "    <tr>\n",
              "      <th>313</th>\n",
              "      <td>98.226883</td>\n",
              "      <td>16.650072</td>\n",
              "      <td>174.916656</td>\n",
              "      <td>195.902893</td>\n",
              "      <td>254.448364</td>\n",
              "      <td>4.811446e-01</td>\n",
              "      <td>24.469938</td>\n",
              "      <td>2.043803</td>\n",
              "      <td>2.730000e-22</td>\n",
              "      <td>21.884701</td>\n",
              "      <td>5.422790</td>\n",
              "      <td>196.885422</td>\n",
              "      <td>33.835358</td>\n",
              "      <td>2241.604004</td>\n",
              "    </tr>\n",
              "    <tr>\n",
              "      <th>1662</th>\n",
              "      <td>89.401031</td>\n",
              "      <td>17.791555</td>\n",
              "      <td>150.172043</td>\n",
              "      <td>189.501160</td>\n",
              "      <td>248.395508</td>\n",
              "      <td>3.698084e-01</td>\n",
              "      <td>28.731907</td>\n",
              "      <td>2.008188</td>\n",
              "      <td>4.150000e-25</td>\n",
              "      <td>14.193840</td>\n",
              "      <td>5.215310</td>\n",
              "      <td>220.252472</td>\n",
              "      <td>29.724808</td>\n",
              "      <td>1960.342651</td>\n",
              "    </tr>\n",
              "    <tr>\n",
              "      <th>806</th>\n",
              "      <td>100.000000</td>\n",
              "      <td>20.321680</td>\n",
              "      <td>146.083344</td>\n",
              "      <td>154.736786</td>\n",
              "      <td>298.867645</td>\n",
              "      <td>3.460000e-17</td>\n",
              "      <td>13.754229</td>\n",
              "      <td>2.015866</td>\n",
              "      <td>3.669394e+00</td>\n",
              "      <td>1.519508</td>\n",
              "      <td>0.508281</td>\n",
              "      <td>197.280975</td>\n",
              "      <td>6.853199</td>\n",
              "      <td>593.568115</td>\n",
              "    </tr>\n",
              "  </tbody>\n",
              "</table>\n",
              "</div>\n",
              "      <button class=\"colab-df-convert\" onclick=\"convertToInteractive('df-2da221c0-99d9-4317-9633-0391bd8f7bbd')\"\n",
              "              title=\"Convert this dataframe to an interactive table.\"\n",
              "              style=\"display:none;\">\n",
              "        \n",
              "  <svg xmlns=\"http://www.w3.org/2000/svg\" height=\"24px\"viewBox=\"0 0 24 24\"\n",
              "       width=\"24px\">\n",
              "    <path d=\"M0 0h24v24H0V0z\" fill=\"none\"/>\n",
              "    <path d=\"M18.56 5.44l.94 2.06.94-2.06 2.06-.94-2.06-.94-.94-2.06-.94 2.06-2.06.94zm-11 1L8.5 8.5l.94-2.06 2.06-.94-2.06-.94L8.5 2.5l-.94 2.06-2.06.94zm10 10l.94 2.06.94-2.06 2.06-.94-2.06-.94-.94-2.06-.94 2.06-2.06.94z\"/><path d=\"M17.41 7.96l-1.37-1.37c-.4-.4-.92-.59-1.43-.59-.52 0-1.04.2-1.43.59L10.3 9.45l-7.72 7.72c-.78.78-.78 2.05 0 2.83L4 21.41c.39.39.9.59 1.41.59.51 0 1.02-.2 1.41-.59l7.78-7.78 2.81-2.81c.8-.78.8-2.07 0-2.86zM5.41 20L4 18.59l7.72-7.72 1.47 1.35L5.41 20z\"/>\n",
              "  </svg>\n",
              "      </button>\n",
              "      \n",
              "  <style>\n",
              "    .colab-df-container {\n",
              "      display:flex;\n",
              "      flex-wrap:wrap;\n",
              "      gap: 12px;\n",
              "    }\n",
              "\n",
              "    .colab-df-convert {\n",
              "      background-color: #E8F0FE;\n",
              "      border: none;\n",
              "      border-radius: 50%;\n",
              "      cursor: pointer;\n",
              "      display: none;\n",
              "      fill: #1967D2;\n",
              "      height: 32px;\n",
              "      padding: 0 0 0 0;\n",
              "      width: 32px;\n",
              "    }\n",
              "\n",
              "    .colab-df-convert:hover {\n",
              "      background-color: #E2EBFA;\n",
              "      box-shadow: 0px 1px 2px rgba(60, 64, 67, 0.3), 0px 1px 3px 1px rgba(60, 64, 67, 0.15);\n",
              "      fill: #174EA6;\n",
              "    }\n",
              "\n",
              "    [theme=dark] .colab-df-convert {\n",
              "      background-color: #3B4455;\n",
              "      fill: #D2E3FC;\n",
              "    }\n",
              "\n",
              "    [theme=dark] .colab-df-convert:hover {\n",
              "      background-color: #434B5C;\n",
              "      box-shadow: 0px 1px 3px 1px rgba(0, 0, 0, 0.15);\n",
              "      filter: drop-shadow(0px 1px 2px rgba(0, 0, 0, 0.3));\n",
              "      fill: #FFFFFF;\n",
              "    }\n",
              "  </style>\n",
              "\n",
              "      <script>\n",
              "        const buttonEl =\n",
              "          document.querySelector('#df-2da221c0-99d9-4317-9633-0391bd8f7bbd button.colab-df-convert');\n",
              "        buttonEl.style.display =\n",
              "          google.colab.kernel.accessAllowed ? 'block' : 'none';\n",
              "\n",
              "        async function convertToInteractive(key) {\n",
              "          const element = document.querySelector('#df-2da221c0-99d9-4317-9633-0391bd8f7bbd');\n",
              "          const dataTable =\n",
              "            await google.colab.kernel.invokeFunction('convertToInteractive',\n",
              "                                                     [key], {});\n",
              "          if (!dataTable) return;\n",
              "\n",
              "          const docLinkHtml = 'Like what you see? Visit the ' +\n",
              "            '<a target=\"_blank\" href=https://colab.research.google.com/notebooks/data_table.ipynb>data table notebook</a>'\n",
              "            + ' to learn more about interactive tables.';\n",
              "          element.innerHTML = '';\n",
              "          dataTable['output_type'] = 'display_data';\n",
              "          await google.colab.output.renderOutput(dataTable, element);\n",
              "          const docLink = document.createElement('div');\n",
              "          docLink.innerHTML = docLinkHtml;\n",
              "          element.appendChild(docLink);\n",
              "        }\n",
              "      </script>\n",
              "    </div>\n",
              "  </div>\n",
              "  "
            ],
            "text/plain": [
              "       XI1428-PV  XI1401A-PV   II1126.PV  XI1400A.PV   TI1129-PV  \\\n",
              "1594   92.832329   16.716000  138.402313  171.108765  245.371033   \n",
              "1989   93.464577   19.294861  167.858810  221.535614  275.318726   \n",
              "313    98.226883   16.650072  174.916656  195.902893  254.448364   \n",
              "1662   89.401031   17.791555  150.172043  189.501160  248.395508   \n",
              "806   100.000000   20.321680  146.083344  154.736786  298.867645   \n",
              "\n",
              "        XI1403A-PV  Tot CAT Flow  CoCAT/CAT   Tot H2 Flow  PDI1140.PV  \\\n",
              "1594  4.981488e-01     16.435396   2.143909  4.340000e-34   11.860645   \n",
              "1989  2.845495e-01     21.014038   2.078987  1.284164e+00    3.488406   \n",
              "313   4.811446e-01     24.469938   2.043803  2.730000e-22   21.884701   \n",
              "1662  3.698084e-01     28.731907   2.008188  4.150000e-25   14.193840   \n",
              "806   3.460000e-17     13.754229   2.015866  3.669394e+00    1.519508   \n",
              "\n",
              "      #1 Sieve DP  TI4304A.PV  #1Extrdr Die DP   II3349A.PV  \n",
              "1594     4.497269  190.460052        25.785683  1753.997803  \n",
              "1989     1.425171  198.241745        12.265923   756.746216  \n",
              "313      5.422790  196.885422        33.835358  2241.604004  \n",
              "1662     5.215310  220.252472        29.724808  1960.342651  \n",
              "806      0.508281  197.280975         6.853199   593.568115  "
            ]
          },
          "metadata": {},
          "execution_count": 9
        }
      ]
    },
    {
      "cell_type": "code",
      "source": [
        "df.isna().sum()\n",
        "print(df.dtypes)"
      ],
      "metadata": {
        "colab": {
          "base_uri": "https://localhost:8080/"
        },
        "id": "HtitqrZpnbAa",
        "outputId": "db08257d-14fe-4cdf-b71b-8fbb53d266ac"
      },
      "execution_count": 12,
      "outputs": [
        {
          "output_type": "stream",
          "name": "stdout",
          "text": [
            "XI1428-PV          float64\n",
            "XI1401A-PV         float64\n",
            "II1126.PV          float64\n",
            "XI1400A.PV         float64\n",
            "TI1129-PV          float64\n",
            "XI1403A-PV         float64\n",
            "Tot CAT Flow       float64\n",
            "CoCAT/CAT          float64\n",
            "Tot H2 Flow        float64\n",
            "PDI1140.PV         float64\n",
            "#1 Sieve DP        float64\n",
            "TI4304A.PV         float64\n",
            "#1Extrdr Die DP    float64\n",
            "II3349A.PV         float64\n",
            "TRN1-Density-R1    float64\n",
            "dtype: object\n"
          ]
        }
      ]
    },
    {
      "cell_type": "code",
      "source": [
        "count=0\n",
        "for ele in list(df[\"CoCAT/CAT\"]):\n",
        "  if(isinstance(ele,str)):\n",
        "    print(ele)\n",
        "    count+=1\n",
        "    \n",
        "print(count)"
      ],
      "metadata": {
        "colab": {
          "base_uri": "https://localhost:8080/"
        },
        "id": "g3_4zbq1nyQ5",
        "outputId": "aa1111ed-047c-4da2-c17f-31b9ec3b577f"
      },
      "execution_count": null,
      "outputs": [
        {
          "output_type": "stream",
          "name": "stdout",
          "text": [
            "0\n"
          ]
        }
      ]
    },
    {
      "cell_type": "code",
      "source": [
        "from sklearn.preprocessing import StandardScaler\n",
        "scaler=StandardScaler()\n",
        "scaler.fit(X_train)\n",
        "\n",
        "X_train_scaled = scaler.transform(X_train)\n",
        "X_test_scaled = scaler.transform(X_test)\n",
        "\n",
        "#scaler1=StandardScaler()\n",
        "#scaler1.fit(X)\n",
        "X_scaled = scaler.transform(X)"
      ],
      "metadata": {
        "id": "tKXsWnVntW1-"
      },
      "execution_count": 13,
      "outputs": []
    },
    {
      "cell_type": "markdown",
      "source": [
        "**LINEAR REGRESSION**"
      ],
      "metadata": {
        "id": "sT6UPC4EthS6"
      }
    },
    {
      "cell_type": "code",
      "source": [
        "from sklearn.linear_model import LinearRegression\n",
        "from sklearn.metrics import r2_score\n",
        "reg = LinearRegression().fit(X_train_scaled, y_train)\n",
        "\n",
        "from sklearn.metrics import mean_absolute_error\n",
        "\n",
        "yL_test_pred = reg.predict(X_test_scaled)\n",
        "print(\"MAE test:\", mean_absolute_error(y_test, yL_test_pred))\n",
        "\n",
        "yL_pred = reg.predict(X_scaled)\n",
        "print(\"MAE:\", mean_absolute_error(y, yL_pred))\n",
        "\n",
        "print(\"R2 score test:\", r2_score(y_test,yL_test_pred))\n",
        "print(\"R2 score:\", r2_score(y,yL_pred))\n",
        "\n",
        "count=0\n",
        "for idx in range(len(yL_pred)):\n",
        "  if(abs(y[idx]-yL_pred[idx])>0.003):\n",
        "    count = count+1\n",
        "\n",
        "print(count)"
      ],
      "metadata": {
        "colab": {
          "base_uri": "https://localhost:8080/"
        },
        "id": "xO5dCIlFtjgs",
        "outputId": "0b93c848-6d9d-4e11-bb2f-a4903d74a108"
      },
      "execution_count": 14,
      "outputs": [
        {
          "output_type": "stream",
          "name": "stdout",
          "text": [
            "MAE test: 0.0030946193811861584\n",
            "MAE: 0.003013605761088772\n",
            "R2 score test: 0.9082816527110029\n",
            "R2 score: 0.9063429215681492\n",
            "964\n"
          ]
        }
      ]
    },
    {
      "cell_type": "markdown",
      "source": [
        "**LINEAR REGRESSION - L1 Regularization**"
      ],
      "metadata": {
        "id": "zSQEkYQQt3UL"
      }
    },
    {
      "cell_type": "code",
      "source": [
        "from sklearn import linear_model\n",
        "from sklearn.metrics import r2_score\n",
        "L1_reg = linear_model.Lasso(alpha=.051)\n",
        "#L1_reg = linear_model.Lasso(alpha=0.12)\n",
        "L1_reg.fit(X_train_scaled, y_train)\n",
        "\n",
        "from sklearn.metrics import mean_absolute_error\n",
        "\n",
        "yL1_test_pred = reg.predict(X_test_scaled)\n",
        "print(\"MAE test:\", mean_absolute_error(y_test, yL1_test_pred))\n",
        "\n",
        "yL1_pred = reg.predict(X_scaled)\n",
        "print(\"MAE:\", mean_absolute_error(y, yL1_pred))\n",
        "\n",
        "print(\"R2 score test:\", r2_score(y_test,yL1_test_pred))\n",
        "print(\"R2 score:\", r2_score(y,yL1_pred))\n",
        "\n",
        "count=0\n",
        "for idx in range(len(yL1_pred)):\n",
        "  if(abs(y[idx]-yL1_pred[idx])>0.003):\n",
        "    count = count+1\n",
        "\n",
        "print(count)"
      ],
      "metadata": {
        "colab": {
          "base_uri": "https://localhost:8080/"
        },
        "id": "Lq_RI95st5V8",
        "outputId": "ad41f4a7-aec0-4db8-91fc-4b96f8e132c8"
      },
      "execution_count": 15,
      "outputs": [
        {
          "output_type": "stream",
          "name": "stdout",
          "text": [
            "MAE test: 0.0030946193811861584\n",
            "MAE: 0.003013605761088772\n",
            "R2 score test: 0.9082816527110029\n",
            "R2 score: 0.9063429215681492\n",
            "964\n"
          ]
        }
      ]
    },
    {
      "cell_type": "markdown",
      "source": [
        "**LINEAR REGRESSION - L2 Regularization**"
      ],
      "metadata": {
        "id": "CG21t9nJt_VU"
      }
    },
    {
      "cell_type": "code",
      "source": [
        "from sklearn import linear_model\n",
        "from sklearn.model_selection import GridSearchCV\n",
        "from sklearn.metrics import r2_score\n",
        "\n",
        "L2_reg = linear_model.Ridge(alpha=5)\n",
        "L2_reg.fit(X_train_scaled, y_train)\n",
        "\n",
        "from sklearn.metrics import mean_absolute_error\n",
        "\n",
        "yL2_test_pred = L2_reg.predict(X_test_scaled)\n",
        "print(\"MAE TEST:\", mean_absolute_error(y_test, yL2_test_pred))\n",
        "\n",
        "yL2_pred = L2_reg.predict(X_scaled)\n",
        "print(\"MAE:\", mean_absolute_error(y, yL2_pred))\n",
        "\n",
        "print(\"R2 score test:\", r2_score(y_test, yL2_test_pred))\n",
        "print(\"R2 score:\", r2_score(y, yL2_pred))\n",
        "\n",
        "count=0\n",
        "for idx in range(len(yL2_pred)):\n",
        "  if(abs(y[idx]-yL2_pred[idx])>0.003):\n",
        "    count = count+1\n",
        "\n",
        "print(count)"
      ],
      "metadata": {
        "colab": {
          "base_uri": "https://localhost:8080/"
        },
        "id": "u6VIMU7OuAyc",
        "outputId": "59fd319b-ea95-4c5a-ecdf-c78037635ba1"
      },
      "execution_count": 16,
      "outputs": [
        {
          "output_type": "stream",
          "name": "stdout",
          "text": [
            "MAE TEST: 0.003098544848648258\n",
            "MAE: 0.003016576180378648\n",
            "R2 score test: 0.9082059002477503\n",
            "R2 score: 0.9062888745477696\n",
            "966\n"
          ]
        }
      ]
    },
    {
      "cell_type": "markdown",
      "source": [
        "**Grid Search - Linear Regression - L2 Regularization**"
      ],
      "metadata": {
        "id": "kk8P_HutuGIU"
      }
    },
    {
      "cell_type": "code",
      "source": [
        "from sklearn.linear_model import Ridge\n",
        "from sklearn.model_selection import GridSearchCV\n",
        "\n",
        "ridge = Ridge()\n",
        "Parameters = {'alpha':[1e-15, 1e-10, 1e-8, 1e-3, 1e-2, 1, 5, 10, 20, 30, 35, 40, 45, 50, 55, 100, 200]}\n",
        "ridge_regressor = GridSearchCV(ridge, param_grid = Parameters, scoring ='neg_mean_squared_error', cv=15)\n",
        "\n",
        "ridge_regressor.fit(X_train_scaled,y_train)"
      ],
      "metadata": {
        "colab": {
          "base_uri": "https://localhost:8080/"
        },
        "id": "dK5MdxSKuIMz",
        "outputId": "8fa95467-f894-4b91-da93-3a65c72c662e"
      },
      "execution_count": 17,
      "outputs": [
        {
          "output_type": "execute_result",
          "data": {
            "text/plain": [
              "GridSearchCV(cv=15, estimator=Ridge(),\n",
              "             param_grid={'alpha': [1e-15, 1e-10, 1e-08, 0.001, 0.01, 1, 5, 10,\n",
              "                                   20, 30, 35, 40, 45, 50, 55, 100, 200]},\n",
              "             scoring='neg_mean_squared_error')"
            ]
          },
          "metadata": {},
          "execution_count": 17
        }
      ]
    },
    {
      "cell_type": "code",
      "source": [
        "from sklearn.metrics import r2_score\n",
        "print(ridge_regressor.best_params_)\n",
        "print(ridge_regressor.best_score_)\n",
        "\n",
        "yL2G_test_pred=ridge_regressor.predict(X_test_scaled)\n",
        "print(mean_absolute_error(y_test, yL2G_test_pred))\n",
        "\n",
        "yL2G_pred=ridge_regressor.predict(X_scaled)\n",
        "print(mean_absolute_error(y, yL2G_pred))\n",
        "\n",
        "print(\"R2 score test:\", r2_score(y_test, yL2G_test_pred))\n",
        "print(\"R2 score:\", r2_score(y, yL2G_pred))\n",
        "\n",
        "count=0\n",
        "for idx in range(len(yL2G_pred)):\n",
        "  if(abs(y[idx]-yL2G_pred[idx])>0.003):\n",
        "    count = count+1\n",
        "\n",
        "print(count)"
      ],
      "metadata": {
        "colab": {
          "base_uri": "https://localhost:8080/"
        },
        "id": "8diGKgt3uK88",
        "outputId": "f3a8ee95-268b-44a8-81f8-a96723d5dfbd"
      },
      "execution_count": 18,
      "outputs": [
        {
          "output_type": "stream",
          "name": "stdout",
          "text": [
            "{'alpha': 1}\n",
            "-1.530366409337261e-05\n",
            "0.003095129147646219\n",
            "0.00301401953906425\n",
            "R2 score test: 0.9082724474063113\n",
            "R2 score: 0.906339166510829\n",
            "962\n"
          ]
        }
      ]
    },
    {
      "cell_type": "markdown",
      "source": [
        "**Polynomial Regression**"
      ],
      "metadata": {
        "id": "N9lCZ-fQuPlT"
      }
    },
    {
      "cell_type": "code",
      "source": [
        "from sklearn.preprocessing import PolynomialFeatures\n",
        "from sklearn.linear_model import LinearRegression\n",
        "from sklearn.metrics import mean_absolute_error\n",
        "\n",
        "poly = PolynomialFeatures(degree=3)\n",
        "\n",
        "poly_reg = LinearRegression()\n",
        "X_train_poly = poly.fit_transform(X_train_scaled)\n",
        "poly_reg.fit(X_train_poly, y_train)\n",
        "\n",
        "X_test_poly = poly.fit_transform(X_test_scaled)\n",
        "yp_test_pred = poly_reg.predict(X_test_poly)\n",
        "print(\"Rsquare_test:\", poly_reg.score(X_test_poly,y_test))\n",
        "print(\"MAE_test:\", mean_absolute_error(y_test, yp_test_pred))\n",
        "\n",
        "X_poly = poly.fit_transform(X_scaled)\n",
        "yp_pred = poly_reg.predict(X_poly)\n",
        "\n",
        "print(\"Rsquare:\", poly_reg.score(X_poly,y))\n",
        "#print(\"Rsquarett:\", r2_score(y,yp_pred))\n",
        "\n",
        "print(\"MAE:\", mean_absolute_error(y, yp_pred))\n",
        "\n",
        "poly_count=0\n",
        "for idx in range(len(yp_pred)):\n",
        "  if(abs(y[idx]-yp_pred[idx])>0.0035):\n",
        "    poly_count = poly_count+1\n",
        "\n",
        "print(poly_count)"
      ],
      "metadata": {
        "colab": {
          "base_uri": "https://localhost:8080/"
        },
        "id": "wvhSmLmVuRHz",
        "outputId": "77f93094-d129-4ee8-fa73-1c8cf6062f26"
      },
      "execution_count": 21,
      "outputs": [
        {
          "output_type": "stream",
          "name": "stdout",
          "text": [
            "Rsquare_test: 0.8508819664004696\n",
            "MAE_test: 0.002642341018237517\n",
            "Rsquare: 0.9493307704189672\n",
            "MAE: 0.00171129134867937\n",
            "272\n"
          ]
        }
      ]
    },
    {
      "cell_type": "markdown",
      "source": [
        "**k-NN Regression**"
      ],
      "metadata": {
        "id": "3H0X8B90uVut"
      }
    },
    {
      "cell_type": "code",
      "source": [
        "from sklearn.neighbors import KNeighborsRegressor\n",
        "\n",
        "KNR = KNeighborsRegressor(3)\n",
        "KNR.fit(X_train, y_train)"
      ],
      "metadata": {
        "colab": {
          "base_uri": "https://localhost:8080/"
        },
        "id": "ID7Z1rkxuZN8",
        "outputId": "b2039d97-5900-451c-cefd-6e897ebf9891"
      },
      "execution_count": 22,
      "outputs": [
        {
          "output_type": "execute_result",
          "data": {
            "text/plain": [
              "KNeighborsRegressor(n_neighbors=3)"
            ]
          },
          "metadata": {},
          "execution_count": 22
        }
      ]
    },
    {
      "cell_type": "code",
      "source": [
        "y_test_pred_kNN = KNR.predict(X_test)\n",
        "y_pred_kNN = KNR.predict(X)\n",
        "#print(y_train[:1].values)\n",
        "from sklearn.metrics import mean_absolute_error\n",
        "print(\"MAE test:\", mean_absolute_error(y_test, y_test_pred_kNN))\n",
        "print(\"MAE:\", mean_absolute_error(y, y_pred_kNN))\n",
        "\n",
        "from sklearn.metrics import r2_score\n",
        "print(\"R2 score:\", r2_score(y, y_pred_kNN))\n",
        "print(\"R2 score test:\", r2_score(y_test, y_test_pred_kNN))\n",
        "\n",
        "kNN_count=0\n",
        "for idx in range(len(y_pred_kNN)):\n",
        "  if(abs(y[idx]-y_pred_kNN[idx])>0.003):\n",
        "    kNN_count = kNN_count+1\n",
        "\n",
        "print(kNN_count)"
      ],
      "metadata": {
        "colab": {
          "base_uri": "https://localhost:8080/"
        },
        "id": "HdtH8oLsucJk",
        "outputId": "39532438-170e-4659-c6c9-c28de8207e3f"
      },
      "execution_count": 23,
      "outputs": [
        {
          "output_type": "stream",
          "name": "stdout",
          "text": [
            "MAE test: 0.002466380543633772\n",
            "MAE: 0.0019732674684994336\n",
            "R2 score: 0.93225051160772\n",
            "R2 score test: 0.8838246151664462\n",
            "447\n"
          ]
        }
      ]
    },
    {
      "cell_type": "markdown",
      "source": [
        "**GridSearchCV- kNN**"
      ],
      "metadata": {
        "id": "uhrgNQWJugNs"
      }
    },
    {
      "cell_type": "code",
      "source": [
        "from sklearn.neighbors import KNeighborsRegressor\n",
        "from sklearn.model_selection import GridSearchCV\n",
        "from sklearn.metrics import mean_absolute_error\n",
        "import numpy as np\n",
        "from sklearn.neighbors import DistanceMetric\n",
        "\n",
        "k=np.arange(2,30)\n",
        "KNN_R = KNeighborsRegressor()\n",
        "params = dict(n_neighbors=k)\n",
        "GridSearch_kNN = GridSearchCV(KNN_R, param_grid = params, cv=20)\n",
        "GridSearch_kNN.fit(X_train, y_train)\n",
        "print(GridSearch_kNN.best_params_)\n",
        "print(GridSearch_kNN.best_score_)\n",
        "\n",
        "\n",
        "ykNNG_test_pred = GridSearch_kNN.predict(X_test)\n",
        "print(\"MAE test:\", mean_absolute_error(y_test, ykNNG_test_pred))\n",
        "\n",
        "ykNNG_pred = GridSearch_kNN.predict(X)\n",
        "print(\"MAE:\", mean_absolute_error(y, ykNNG_pred))\n",
        "\n",
        "from sklearn.metrics import r2_score\n",
        "print(\"R2 score:\", r2_score(y, ykNNG_pred))\n",
        "\n",
        "print(\"R2 score test:\", r2_score(y_test, ykNNG_test_pred))\n",
        "\n",
        "kNNG_count=0\n",
        "for idx in range(len(ykNNG_pred)):\n",
        "  if(abs(y[idx]-ykNNG_pred[idx])>0.003):\n",
        "    kNNG_count = kNNG_count+1\n",
        "\n",
        "print(kNNG_count)"
      ],
      "metadata": {
        "colab": {
          "base_uri": "https://localhost:8080/"
        },
        "id": "kUAuZhu4uilr",
        "outputId": "21c2f322-3c8e-4536-8965-f71517c05df3"
      },
      "execution_count": 25,
      "outputs": [
        {
          "output_type": "stream",
          "name": "stdout",
          "text": [
            "{'n_neighbors': 5}\n",
            "0.8818546742026593\n",
            "MAE test: 0.0023812875536480755\n",
            "MAE: 0.0021702147766323094\n",
            "R2 score: 0.9190331924657311\n",
            "R2 score test: 0.8913113783360865\n",
            "487\n"
          ]
        }
      ]
    },
    {
      "cell_type": "markdown",
      "source": [
        "**Outliers**"
      ],
      "metadata": {
        "id": "VBotbuvnuy0F"
      }
    },
    {
      "cell_type": "code",
      "source": [
        "import numpy as np\n",
        "outliers =[]\n",
        "n_sigma =3\n",
        "mean = np.mean(y)\n",
        "std = np.std(y)\n",
        "for ele1 in y:\n",
        "  z_score = abs((ele1-mean)/std)\n",
        "  if z_score>n_sigma:\n",
        "    outliers.append(y)\n",
        "\n",
        "print(len(outliers))\n",
        "#outliers"
      ],
      "metadata": {
        "colab": {
          "base_uri": "https://localhost:8080/"
        },
        "id": "XEYrb8f3u1C2",
        "outputId": "9a12b3a3-fe73-4210-cd8d-ee5fbbc1338e"
      },
      "execution_count": 26,
      "outputs": [
        {
          "output_type": "stream",
          "name": "stdout",
          "text": [
            "10\n"
          ]
        }
      ]
    },
    {
      "cell_type": "markdown",
      "source": [
        "**Outliers - IQR**"
      ],
      "metadata": {
        "id": "ISQqXOBVu3ON"
      }
    },
    {
      "cell_type": "code",
      "source": [
        "import numpy as np\n",
        "q1, q3 = np.percentile(y,[25,75])\n",
        "print(q1, q3)\n",
        "IQR =q3-q1\n",
        "print(\"IQR:\", IQR)\n",
        "lower_bound_value = q1-(IQR*1.5)\n",
        "upper_bound_value = q3+(IQR*1.5)\n",
        "\n",
        "print(lower_bound_value, upper_bound_value)"
      ],
      "metadata": {
        "colab": {
          "base_uri": "https://localhost:8080/"
        },
        "id": "PTA9suqFu4Wm",
        "outputId": "66894565-eb72-4548-8373-0ac4b3a30a4a"
      },
      "execution_count": 27,
      "outputs": [
        {
          "output_type": "stream",
          "name": "stdout",
          "text": [
            "0.9197 0.9321\n",
            "IQR: 0.012400000000000078\n",
            "0.9010999999999998 0.9507000000000001\n"
          ]
        }
      ]
    },
    {
      "cell_type": "markdown",
      "source": [
        "**Decision Tree**"
      ],
      "metadata": {
        "id": "LO3lfJmBu7a0"
      }
    },
    {
      "cell_type": "code",
      "source": [
        "from sklearn.tree import DecisionTreeRegressor\n",
        "from sklearn.metrics import mean_absolute_error, r2_score\n",
        "\n",
        "#tree = DecisionTreeRegressor()\n",
        "tree = DecisionTreeRegressor()\n",
        "tree.fit(X_train_scaled, y_train)\n",
        "\n",
        "yDT_test_pred = tree.predict(X_test_scaled)\n",
        "print(\"MAE_test:\", mean_absolute_error(y_test,yDT_test_pred))\n",
        "\n",
        "yDT_pred = tree.predict(X_scaled)\n",
        "print(\"MAE:\", mean_absolute_error(y,yDT_pred))\n",
        "\n",
        "print(\"R2 Square:\", r2_score(y,yDT_pred))\n",
        "print(\"R2 Square_test:\", r2_score(y_test,yDT_test_pred))\n",
        "\n",
        "DT_count=0\n",
        "for idx in range(len(yDT_pred)):\n",
        "  if(abs(y[idx]-yDT_pred[idx])>0.003):\n",
        "    DT_count = DT_count+1\n",
        "\n",
        "print(DT_count)\n",
        "\n",
        "print(tree.criterion)\n",
        "print(tree.splitter)\n",
        "print(tree.max_depth)\n",
        "print(tree.max_features)\n",
        "print(tree.min_samples_split)"
      ],
      "metadata": {
        "colab": {
          "base_uri": "https://localhost:8080/"
        },
        "id": "vEXgZna_u9v1",
        "outputId": "df45a387-aa31-4d8f-d307-61ced7b71942"
      },
      "execution_count": 28,
      "outputs": [
        {
          "output_type": "stream",
          "name": "stdout",
          "text": [
            "MAE_test: 0.002503433476394854\n",
            "MAE: 0.0005011168384879737\n",
            "R2 Square: 0.9843266899628229\n",
            "R2 Square_test: 0.9250287323565713\n",
            "135\n",
            "squared_error\n",
            "best\n",
            "None\n",
            "None\n",
            "2\n"
          ]
        }
      ]
    },
    {
      "cell_type": "markdown",
      "source": [
        "**Decision Tree - GridSearchCV**"
      ],
      "metadata": {
        "id": "wfqcwcAQvIfb"
      }
    },
    {
      "cell_type": "code",
      "source": [
        "from sklearn.tree import DecisionTreeRegressor\n",
        "from sklearn.metrics import mean_absolute_error, r2_score\n",
        "\n",
        "import warnings\n",
        "warnings.filterwarnings(\"ignore\")\n",
        "\n",
        "params= {\n",
        "    \"max_depth\": [2,4,8,10,None],\n",
        "    #\"max_depth\": [None],\n",
        "    \"min_samples_split\":[0.25,0.5,1,2,3,4,5,6,7]\n",
        "}\n",
        "model = DecisionTreeRegressor()\n",
        "DT_grid = GridSearchCV(model, param_grid=params, cv=20)\n",
        "DT_grid.fit(X_train_scaled, y_train)\n",
        "\n",
        "yDT_grid_test_pred = DT_grid.predict(X_test_scaled)\n",
        "print(\"MAE_test:\", mean_absolute_error(y_test,yDT_grid_test_pred))\n",
        "\n",
        "yDT_grid_pred = DT_grid.predict(X_scaled)\n",
        "print(\"MAE:\", mean_absolute_error(y,yDT_grid_pred))\n",
        "\n",
        "print(\"R2 Square:\", r2_score(y,yDT_grid_pred))\n",
        "print(\"R2 Square test:\", r2_score(y_test,yDT_grid_test_pred))\n",
        "\n",
        "print(DT_grid.best_params_)\n",
        "\n",
        "DTG_count=0\n",
        "for idx in range(len(yDT_grid_pred)):\n",
        "  if(abs(y[idx]-yDT_grid_pred[idx])>0.003):\n",
        "    DTG_count = DTG_count+1\n",
        "\n",
        "print(DTG_count)"
      ],
      "metadata": {
        "colab": {
          "base_uri": "https://localhost:8080/"
        },
        "id": "5bL85ganvKQV",
        "outputId": "00f334f9-3445-44e9-be85-b0518fcd0af6"
      },
      "execution_count": 30,
      "outputs": [
        {
          "output_type": "stream",
          "name": "stdout",
          "text": [
            "MAE_test: 0.0017992002524650377\n",
            "MAE: 0.0018623903822019817\n",
            "R2 Square: 0.9593595987992857\n",
            "R2 Square test: 0.9626411192736377\n",
            "{'max_depth': 4, 'min_samples_split': 6}\n",
            "418\n"
          ]
        }
      ]
    },
    {
      "cell_type": "code",
      "source": [
        "DT_grid.best_params_"
      ],
      "metadata": {
        "colab": {
          "base_uri": "https://localhost:8080/"
        },
        "id": "AFl_NIypvXf0",
        "outputId": "67e87853-ea71-4a78-e627-5fb1525d5c54"
      },
      "execution_count": 33,
      "outputs": [
        {
          "output_type": "execute_result",
          "data": {
            "text/plain": [
              "{'max_depth': 4, 'min_samples_split': 6}"
            ]
          },
          "metadata": {},
          "execution_count": 33
        }
      ]
    },
    {
      "cell_type": "code",
      "source": [
        "for importance, name in sorted(zip(tree.feature_importances_, X_train.columns), reverse=True):\n",
        "  print(name, importance)"
      ],
      "metadata": {
        "colab": {
          "base_uri": "https://localhost:8080/"
        },
        "id": "2VxXQZsgvaT3",
        "outputId": "d21d8511-43c4-4c76-a693-c8af80ba0bf9"
      },
      "execution_count": 34,
      "outputs": [
        {
          "output_type": "stream",
          "name": "stdout",
          "text": [
            "XI1403A-PV 0.8377717931949744\n",
            "#1 Sieve DP 0.12035334828815315\n",
            "XI1401A-PV 0.004581010214172005\n",
            "CoCAT/CAT 0.004508192030045148\n",
            "II3349A.PV 0.0043494438144387765\n",
            "II1126.PV 0.004323701194228862\n",
            "PDI1140.PV 0.003946400908836875\n",
            "TI4304A.PV 0.0036619350560819245\n",
            "#1Extrdr Die DP 0.003618754939686959\n",
            "XI1400A.PV 0.00355259903455289\n",
            "Tot CAT Flow 0.00347821905170504\n",
            "XI1428-PV 0.0027459289405621285\n",
            "TI1129-PV 0.002132675190221019\n",
            "Tot H2 Flow 0.0009759981423406583\n"
          ]
        }
      ]
    },
    {
      "cell_type": "markdown",
      "source": [
        "**Random Forest**"
      ],
      "metadata": {
        "id": "zncr_LTqvnhd"
      }
    },
    {
      "cell_type": "code",
      "source": [
        "from sklearn.ensemble import RandomForestRegressor\n",
        "from sklearn.metrics import mean_absolute_error, r2_score\n",
        "\n",
        "Rforest = RandomForestRegressor(max_depth=4, bootstrap=True, n_estimators =33,  min_samples_split=2, min_samples_leaf=1, max_features= 'sqrt')\n",
        "Rforest.fit(X_train_scaled, y_train)\n",
        "\n",
        "yRF_test_pred = Rforest.predict(X_test_scaled)\n",
        "print(\"MAE_test:\", mean_absolute_error(y_test,yRF_test_pred))\n",
        "\n",
        "yRF_pred = Rforest.predict(X_scaled)\n",
        "print(\"MAE:\", mean_absolute_error(y,yRF_pred))\n",
        "\n",
        "print(\"R2 Square:\", r2_score(y,yRF_pred))\n",
        "print(\"R2 Square test:\", r2_score(y_test,yRF_test_pred))\n",
        "\n",
        "RF_count=0\n",
        "for idx in range(len(yRF_pred)):\n",
        "  if(abs(y[idx]-yRF_pred[idx])>0.003):\n",
        "    RF_count = RF_count+1\n",
        "\n",
        "print(RF_count)\n",
        "\n",
        "print(Rforest.max_features)\n",
        "print(Rforest.max_depth)\n",
        "print(Rforest.min_samples_split)\n",
        "print(Rforest.min_samples_leaf)\n",
        "print(Rforest.bootstrap)"
      ],
      "metadata": {
        "colab": {
          "base_uri": "https://localhost:8080/"
        },
        "id": "ouampV49vpEG",
        "outputId": "d9fbc1e0-f55f-48e1-e25f-c3253e986964"
      },
      "execution_count": 35,
      "outputs": [
        {
          "output_type": "stream",
          "name": "stdout",
          "text": [
            "MAE_test: 0.0019299484171322737\n",
            "MAE: 0.0019681124659954026\n",
            "R2 Square: 0.9555159096608824\n",
            "R2 Square test: 0.9574789085336216\n",
            "443\n",
            "sqrt\n",
            "4\n",
            "2\n",
            "1\n",
            "True\n"
          ]
        }
      ]
    },
    {
      "cell_type": "markdown",
      "source": [
        "**Random Forest - Feature Importance**"
      ],
      "metadata": {
        "id": "VYEjYYYOvvZl"
      }
    },
    {
      "cell_type": "code",
      "source": [
        "for importance, name in sorted(zip(Rforest.feature_importances_, X_train.columns), reverse=True):\n",
        "  print(name, importance)"
      ],
      "metadata": {
        "colab": {
          "base_uri": "https://localhost:8080/"
        },
        "id": "t80Upib3vxOH",
        "outputId": "f66f00ae-f42f-442c-8805-09a188eef0b2"
      },
      "execution_count": 36,
      "outputs": [
        {
          "output_type": "stream",
          "name": "stdout",
          "text": [
            "XI1401A-PV 0.17626433984704695\n",
            "XI1403A-PV 0.1724860185471439\n",
            "II3349A.PV 0.16347535523150925\n",
            "#1 Sieve DP 0.15039042405333033\n",
            "TI1129-PV 0.13714829933600745\n",
            "#1Extrdr Die DP 0.12677492020334868\n",
            "Tot H2 Flow 0.02983099071867674\n",
            "PDI1140.PV 0.015378347197736378\n",
            "Tot CAT Flow 0.012101974016891056\n",
            "TI4304A.PV 0.005160000376751973\n",
            "XI1428-PV 0.0040953520612579735\n",
            "II1126.PV 0.002985909091613375\n",
            "XI1400A.PV 0.001974905076018309\n",
            "CoCAT/CAT 0.0019331642426675508\n"
          ]
        }
      ]
    },
    {
      "cell_type": "markdown",
      "source": [
        "**Random Forest - GridSearchCV**"
      ],
      "metadata": {
        "id": "23lgN8nwwx0v"
      }
    },
    {
      "cell_type": "code",
      "source": [
        "import numpy as np\n",
        "from sklearn.ensemble import RandomForestRegressor\n",
        "from sklearn.model_selection import GridSearchCV\n",
        "from sklearn.metrics import mean_absolute_error, r2_score\n",
        "\n",
        "import warnings\n",
        "warnings.filterwarnings(\"ignore\")\n",
        "#no. of trees in RF\n",
        "#n_estimators = [int(x) for x in np.linspace(start=10, stop=80, num=10)]\n",
        "n_estimators = [int(x) for x in np.linspace(start=10, stop=80, num=10)]\n",
        "#No. of features to consider at every split\n",
        "max_features = ['auto', 'sqrt']\n",
        "#max no. of levels in a tree\n",
        "max_depth = [2,4]\n",
        "#min no. of samples required to split a node\n",
        "min_samples_split = [2,5]\n",
        "#Min no. of samples required at each leaf node\n",
        "min_samples_leaf = [1,2]\n",
        "#Method of selecting samples for training each tree\n",
        "bootstrap = [True, False]\n",
        "\n",
        "#Create the param grid\n",
        "params = {'n_estimators': n_estimators,\n",
        "              'max_features': max_features,\n",
        "              'max_depth': max_depth,\n",
        "              'min_samples_split': min_samples_split,\n",
        "              'min_samples_leaf': min_samples_leaf,\n",
        "              'bootstrap': bootstrap}\n",
        "\n",
        "#print(param_grid)\n",
        "\n",
        "Rforest_grid = RandomForestRegressor()\n",
        "RF_grid = GridSearchCV(Rforest_grid, param_grid=params, cv=5)\n",
        "RF_grid.fit(X_train_scaled, y_train)\n",
        "\n",
        "yRF_grid_test_pred = RF_grid.predict(X_test_scaled)\n",
        "print(\"MAE_test:\", mean_absolute_error(y_test,yRF_grid_test_pred))\n",
        "\n",
        "yRF_grid_pred = RF_grid.predict(X_scaled)\n",
        "print(\"MAE:\", mean_absolute_error(y,yRF_grid_pred))\n",
        "\n",
        "print(\"R2 Square:\", r2_score(y,yRF_grid_pred))\n",
        "print(\"R2 Square test:\", r2_score(y_test,yRF_grid_test_pred))\n",
        "\n",
        "RFG_count=0\n",
        "for idx in range(len(yRF_grid_pred)):\n",
        "  if(abs(y[idx]-yRF_grid_pred[idx])>0.003):\n",
        "    RFG_count = RFG_count+1\n",
        "\n",
        "print(RFG_count)\n",
        "\n",
        "print(Rforest_grid.max_features)\n",
        "print(Rforest_grid.max_depth)\n",
        "print(Rforest_grid.min_samples_split)\n",
        "print(Rforest_grid.min_samples_leaf)\n",
        "print(Rforest_grid.bootstrap)\n",
        "print(Rforest_grid.n_estimators)"
      ],
      "metadata": {
        "colab": {
          "base_uri": "https://localhost:8080/"
        },
        "id": "mFrFyLhDw1Zu",
        "outputId": "df695bef-98c2-47f9-c6f8-43b70ea2629c"
      },
      "execution_count": 37,
      "outputs": [
        {
          "output_type": "stream",
          "name": "stdout",
          "text": [
            "MAE_test: 0.0017434060594249507\n",
            "MAE: 0.0018382145612520588\n",
            "R2 Square: 0.9608310230273044\n",
            "R2 Square test: 0.9660791230965805\n",
            "390\n",
            "auto\n",
            "None\n",
            "2\n",
            "1\n",
            "True\n",
            "100\n"
          ]
        }
      ]
    },
    {
      "cell_type": "code",
      "source": [
        "RFG_count=0\n",
        "for idx in range(len(yRF_grid_pred)):\n",
        "  if(abs(y[idx]-yRF_grid_pred[idx])>0.0035):\n",
        "    RFG_count = RFG_count+1\n",
        "\n",
        "print(RFG_count)"
      ],
      "metadata": {
        "colab": {
          "base_uri": "https://localhost:8080/"
        },
        "id": "g6J6esw7Gikn",
        "outputId": "c9176781-5f8f-4c93-ea40-d7909da80e79"
      },
      "execution_count": 38,
      "outputs": [
        {
          "output_type": "stream",
          "name": "stdout",
          "text": [
            "302\n"
          ]
        }
      ]
    },
    {
      "cell_type": "code",
      "source": [
        "RF_grid.best_params_"
      ],
      "metadata": {
        "colab": {
          "base_uri": "https://localhost:8080/"
        },
        "id": "vDxi_FLZz0TG",
        "outputId": "b0a75736-858f-49fc-bc33-3cd950670fab"
      },
      "execution_count": 39,
      "outputs": [
        {
          "output_type": "execute_result",
          "data": {
            "text/plain": [
              "{'bootstrap': True,\n",
              " 'max_depth': 4,\n",
              " 'max_features': 'auto',\n",
              " 'min_samples_leaf': 2,\n",
              " 'min_samples_split': 2,\n",
              " 'n_estimators': 33}"
            ]
          },
          "metadata": {},
          "execution_count": 39
        }
      ]
    },
    {
      "cell_type": "code",
      "source": [
        "print(Rforest_grid.n_estimators)\n",
        "n_estimators"
      ],
      "metadata": {
        "colab": {
          "base_uri": "https://localhost:8080/"
        },
        "id": "Fe8P-U4Qz37H",
        "outputId": "09f278f3-216d-4395-847d-7d9239b3d2ea"
      },
      "execution_count": 42,
      "outputs": [
        {
          "output_type": "stream",
          "name": "stdout",
          "text": [
            "100\n"
          ]
        },
        {
          "output_type": "execute_result",
          "data": {
            "text/plain": [
              "[10, 17, 25, 33, 41, 48, 56, 64, 72, 80]"
            ]
          },
          "metadata": {},
          "execution_count": 42
        }
      ]
    },
    {
      "cell_type": "markdown",
      "source": [
        "**Support Vector Regression**"
      ],
      "metadata": {
        "id": "O5EQ0B-_yaTj"
      }
    },
    {
      "cell_type": "code",
      "source": [
        "import warnings\n",
        "warnings.filterwarnings(\"ignore\")\n",
        "\n",
        "from sklearn.svm import SVR\n",
        "from sklearn.metrics import mean_absolute_error, r2_score\n",
        "#SVR_reg = SVR(kernel = \"poly\", degree=3)\n",
        "SVR_reg = SVR(kernel = \"rbf\", C=5, gamma = 'auto')\n",
        "SVR_reg.fit(X_train_scaled, y_train)\n",
        "\n",
        "ySVR_test_pred = SVR_reg.predict(X_test_scaled)\n",
        "print(\"MAE test:\", mean_absolute_error(y_test, ySVR_test_pred))\n",
        "\n",
        "ySVR_pred = SVR_reg.predict(X_scaled)\n",
        "print(\"MAE:\", mean_absolute_error(y, ySVR_pred))\n",
        "\n",
        "print(\"R Square:\",r2_score(y, ySVR_pred) )\n",
        "print(\"R Square test:\",r2_score(y_test, ySVR_test_pred) )\n",
        "\n",
        "\n",
        "SVR_count=0\n",
        "for idx in range(len(ySVR_pred)):\n",
        "  if(abs(y[idx]-ySVR_pred[idx])>0.003):\n",
        "    SVR_count = SVR_count+1\n",
        "\n",
        "print(SVR_count)"
      ],
      "metadata": {
        "colab": {
          "base_uri": "https://localhost:8080/"
        },
        "id": "s8tnJ8gLyb9S",
        "outputId": "9fc193a8-47a2-45cd-b769-82471b4065a5"
      },
      "execution_count": 43,
      "outputs": [
        {
          "output_type": "stream",
          "name": "stdout",
          "text": [
            "MAE test: 0.017610300429184537\n",
            "MAE: 0.01785996563573882\n",
            "R Square: -1.1521702422255293\n",
            "R Square test: -1.0167583439270649\n",
            "2321\n"
          ]
        }
      ]
    },
    {
      "cell_type": "markdown",
      "source": [
        "**GridSearchCV_SVR**"
      ],
      "metadata": {
        "id": "XlPOV5BSzose"
      }
    },
    {
      "cell_type": "code",
      "source": [
        "import warnings\n",
        "warnings.filterwarnings(\"ignore\")\n",
        "\n",
        "#Create the param grid\n",
        "params = {#'kernel': ('linear', 'poly', 'rbf', 'sigmoid'),\n",
        "          'kernel': ('linear', 'poly', 'rbf', 'sigmoid'),\n",
        "              'C': [x for x in np.linspace(start=.01, stop=2, num=10)],\n",
        "              'degree': [int(x) for x in np.linspace(start=2, stop=5, num=3)],\n",
        "              #'coef0': [x for x in np.linspace(start=0.001, stop=10, num=4)],\n",
        "              'gamma': ['auto', 'scale']\n",
        "              #'gamma': ['auto']\n",
        "              }\n",
        "\n",
        "#print(param_grid)\n",
        "\n",
        "SVR_grid = SVR()\n",
        "SVR_grid = GridSearchCV(SVR_grid, param_grid=params, cv=5)\n",
        "SVR_grid.fit(X_train_scaled, y_train)\n",
        "\n",
        "ySVR_grid_test_pred = SVR_grid.predict(X_test_scaled)\n",
        "print(\"MAE_test:\", mean_absolute_error(y_test,ySVR_grid_test_pred))\n",
        "\n",
        "ySVR_grid_pred = SVR_grid.predict(X_scaled)\n",
        "print(\"MAE:\", mean_absolute_error(y,ySVR_grid_pred))\n",
        "\n",
        "print(\"R2 Square:\", r2_score(y,ySVR_grid_pred))\n",
        "print(\"R2 Square test:\", r2_score(y_test,ySVR_grid_test_pred))\n",
        "\n",
        "SVR_grid_count=0\n",
        "for idx in range(len(ySVR_grid_pred)):\n",
        "  if(abs(y[idx]-ySVR_grid_pred[idx])>0.003):\n",
        "    SVR_grid_count = SVR_grid_count+1\n",
        "\n",
        "print(SVR_grid_count)"
      ],
      "metadata": {
        "colab": {
          "base_uri": "https://localhost:8080/"
        },
        "id": "_a1HLpfazqU3",
        "outputId": "bfb5ea9d-90c7-40ce-e21f-764436fbb4e9"
      },
      "execution_count": 44,
      "outputs": [
        {
          "output_type": "stream",
          "name": "stdout",
          "text": [
            "MAE_test: 0.017610300429184537\n",
            "MAE: 0.01785996563573882\n",
            "R2 Square: -1.1521702422255293\n",
            "R2 Square test: -1.0167583439270649\n",
            "2321\n"
          ]
        }
      ]
    },
    {
      "cell_type": "markdown",
      "source": [
        "**XG Boost**"
      ],
      "metadata": {
        "id": "V5bMhAetz9FO"
      }
    },
    {
      "cell_type": "code",
      "source": [
        "import warnings\n",
        "warnings.filterwarnings(\"ignore\")\n",
        "\n",
        "from xgboost import XGBRegressor\n",
        "from sklearn.metrics import mean_absolute_error, r2_score\n",
        "\n",
        "Xg_reg  = XGBRegressor()\n",
        "Xg_reg.fit(X_train_scaled, y_train)\n",
        "\n",
        "yXg_test_pred = Xg_reg.predict(X_test_scaled)\n",
        "print(\"MAE test:\", mean_absolute_error(y_test, yXg_test_pred))\n",
        "\n",
        "yXg_pred = Xg_reg.predict(X_scaled)\n",
        "print(\"MAE:\", mean_absolute_error(y, yXg_pred))\n",
        "\n",
        "print(\"R Square:\", r2_score(y, yXg_pred))\n",
        "print(\"R Square test:\", r2_score(y_test, yXg_test_pred))\n",
        "\n",
        "XG_count=0\n",
        "for idx in range(len(yXg_pred)):\n",
        "  if(abs(y[idx]-yXg_pred[idx])>0.003):\n",
        "    XG_count = XG_count+1\n",
        "\n",
        "print(XG_count)\n",
        "\n",
        "print(\"n_estimators:\", Xg_reg.n_estimators)\n",
        "print(\"max_depth:\", Xg_reg.max_depth)\n",
        "print(\"Learning rate:\", Xg_reg.learning_rate)\n",
        "print(\"min_child_weight:\", Xg_reg.min_child_weight)\n",
        "print(\"booster:\", Xg_reg.booster)\n",
        "print(\"base_score:\", Xg_reg.base_score)"
      ],
      "metadata": {
        "colab": {
          "base_uri": "https://localhost:8080/"
        },
        "id": "mHWhKY1jz-hl",
        "outputId": "d1cbfd33-9206-400d-e877-d533cc49b5c2"
      },
      "execution_count": 45,
      "outputs": [
        {
          "output_type": "stream",
          "name": "stdout",
          "text": [
            "[21:19:28] WARNING: /workspace/src/objective/regression_obj.cu:152: reg:linear is now deprecated in favor of reg:squarederror.\n",
            "MAE test: 0.001729419204400845\n",
            "MAE: 0.001714962330265966\n",
            "R Square: 0.9663246865348987\n",
            "R Square test: 0.9663841911856318\n",
            "350\n",
            "n_estimators: 100\n",
            "max_depth: 3\n",
            "Learning rate: 0.1\n",
            "min_child_weight: 1\n",
            "booster: gbtree\n",
            "base_score: 0.5\n"
          ]
        }
      ]
    },
    {
      "cell_type": "code",
      "source": [
        "\n",
        "XG_count=0\n",
        "for idx in range(len(yXg_pred)):\n",
        "  if(abs(y[idx]-yXg_pred[idx])>0.0035):\n",
        "    XG_count = XG_count+1\n",
        "\n",
        "print(XG_count)"
      ],
      "metadata": {
        "colab": {
          "base_uri": "https://localhost:8080/"
        },
        "id": "SXLjjXQFJX-p",
        "outputId": "d5f48e7f-7323-4d63-ee20-1e67662b9aab"
      },
      "execution_count": 46,
      "outputs": [
        {
          "output_type": "stream",
          "name": "stdout",
          "text": [
            "279\n"
          ]
        }
      ]
    },
    {
      "cell_type": "code",
      "source": [
        "from xgboost.training import cv\n",
        "n_estimators = [int(x) for x in np.linspace(start=10, stop=100, num=5)]\n",
        "\n",
        "params = {\"learning_rate\": [0.001, 0.01, 0.1, 0.25, 0.4, 0.5],\n",
        "          \"max_depth\": [1,2,3,4,5,6,7],\n",
        "          \"max_features\": [1,2,3,4,5,6,7],\n",
        "          \"n_estimators\": n_estimators\n",
        "    }\n",
        "\n",
        "Xg_reg_grid  = XGBRegressor()\n",
        "Xg_grid = GridSearchCV(Xg_reg_grid, param_grid = params, cv=10, n_jobs = -1, verbose=0)\n",
        "Xg_grid.fit(X_train_scaled, y_train)\n",
        "\n",
        "yXg_grid_test_pred = Xg_grid.predict(X_test_scaled)\n",
        "print(\"MAE test:\", mean_absolute_error(y_test, yXg_grid_test_pred))\n",
        "\n",
        "yXg_grid_pred = Xg_grid.predict(X_scaled)\n",
        "print(\"MAE:\", mean_absolute_error(y, yXg_grid_pred))\n",
        "\n",
        "print(\"R Square:\", r2_score(y, yXg_grid_pred))\n",
        "print(\"R Square test:\", r2_score(y_test, yXg_grid_test_pred))\n",
        "\n",
        "XGG_count=0\n",
        "for idx in range(len(yXg_grid_pred)):\n",
        "  if(abs(y[idx]-yXg_grid_pred[idx])>0.003):\n",
        "    XGG_count = XGG_count+1\n",
        "\n",
        "print(XGG_count)\n",
        "\n",
        "print(Xg_reg_grid.n_estimators)\n",
        "#print(Xg_reg_grid.max_features)\n",
        "print(Xg_reg_grid.max_depth)\n",
        "print(Xg_reg_grid.learning_rate)\n"
      ],
      "metadata": {
        "colab": {
          "base_uri": "https://localhost:8080/"
        },
        "id": "2Jj4ty_20K8W",
        "outputId": "59cc4383-9a9e-4aab-b703-a38004edc33a"
      },
      "execution_count": 47,
      "outputs": [
        {
          "output_type": "stream",
          "name": "stdout",
          "text": [
            "[21:41:26] WARNING: /workspace/src/objective/regression_obj.cu:152: reg:linear is now deprecated in favor of reg:squarederror.\n",
            "MAE test: 0.0017016424291635287\n",
            "MAE: 0.0013159352791268428\n",
            "R Square: 0.9787687206246651\n",
            "R Square test: 0.9662248560179936\n",
            "236\n",
            "100\n",
            "3\n",
            "0.1\n"
          ]
        }
      ]
    },
    {
      "cell_type": "code",
      "source": [
        "print(Xg_grid.best_params_)\n",
        "print(n_estimators)"
      ],
      "metadata": {
        "colab": {
          "base_uri": "https://localhost:8080/"
        },
        "id": "ga3w6Odzomi2",
        "outputId": "80088c49-8a66-4ba2-f823-67f00b9a45ed"
      },
      "execution_count": 51,
      "outputs": [
        {
          "output_type": "stream",
          "name": "stdout",
          "text": [
            "{'learning_rate': 0.1, 'max_depth': 7, 'max_features': 1, 'n_estimators': 77}\n",
            "[10, 32, 55, 77, 100]\n"
          ]
        }
      ]
    },
    {
      "cell_type": "code",
      "source": [
        "XGG_count=0\n",
        "for idx in range(len(yXg_grid_pred)):\n",
        "  if(abs(y[idx]-yXg_grid_pred[idx])>0.0035):\n",
        "    XGG_count = XGG_count+1\n",
        "\n",
        "print(XGG_count)"
      ],
      "metadata": {
        "colab": {
          "base_uri": "https://localhost:8080/"
        },
        "id": "IXOKpA4doWMB",
        "outputId": "95b770f7-6a8d-4f1f-9765-2acca5318ee5"
      },
      "execution_count": 48,
      "outputs": [
        {
          "output_type": "stream",
          "name": "stdout",
          "text": [
            "167\n"
          ]
        }
      ]
    }
  ]
}