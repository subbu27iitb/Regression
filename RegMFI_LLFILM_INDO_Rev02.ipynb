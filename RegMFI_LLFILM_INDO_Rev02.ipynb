{
  "nbformat": 4,
  "nbformat_minor": 0,
  "metadata": {
    "colab": {
      "name": "RegMFI_LLFILM_INDO_Rev02.ipynb",
      "provenance": [],
      "authorship_tag": "ABX9TyN45JPqhHiCMghPDw1iYFj9",
      "include_colab_link": true
    },
    "kernelspec": {
      "name": "python3",
      "display_name": "Python 3"
    },
    "language_info": {
      "name": "python"
    }
  },
  "cells": [
    {
      "cell_type": "markdown",
      "metadata": {
        "id": "view-in-github",
        "colab_type": "text"
      },
      "source": [
        "<a href=\"https://colab.research.google.com/github/subbu27iitb/Regression/blob/main/RegMFI_LLFILM_INDO_Rev02.ipynb\" target=\"_parent\"><img src=\"https://colab.research.google.com/assets/colab-badge.svg\" alt=\"Open In Colab\"/></a>"
      ]
    },
    {
      "cell_type": "markdown",
      "source": [
        "TRN1 - Only LLFILM & LL ROTO- Regression"
      ],
      "metadata": {
        "id": "fL4nsMSEAYMT"
      }
    },
    {
      "cell_type": "code",
      "execution_count": null,
      "metadata": {
        "colab": {
          "resources": {
            "http://localhost:8080/nbextensions/google.colab/files.js": {
              "data": "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",
              "ok": true,
              "headers": [
                [
                  "content-type",
                  "application/javascript"
                ]
              ],
              "status": 200,
              "status_text": ""
            }
          },
          "base_uri": "https://localhost:8080/",
          "height": 74
        },
        "id": "oZEjeWukkfyj",
        "outputId": "aefd65df-2904-44cf-cc09-ad3e9a23c8f1"
      },
      "outputs": [
        {
          "output_type": "display_data",
          "data": {
            "text/html": [
              "\n",
              "     <input type=\"file\" id=\"files-93ec14a9-e426-4ca7-a449-c321116ec1f3\" name=\"files[]\" multiple disabled\n",
              "        style=\"border:none\" />\n",
              "     <output id=\"result-93ec14a9-e426-4ca7-a449-c321116ec1f3\">\n",
              "      Upload widget is only available when the cell has been executed in the\n",
              "      current browser session. Please rerun this cell to enable.\n",
              "      </output>\n",
              "      <script src=\"/nbextensions/google.colab/files.js\"></script> "
            ],
            "text/plain": [
              "<IPython.core.display.HTML object>"
            ]
          },
          "metadata": {}
        },
        {
          "output_type": "stream",
          "name": "stdout",
          "text": [
            "Saving TRN1 MFI_LLFILM.csv to TRN1 MFI_LLFILM.csv\n"
          ]
        }
      ],
      "source": [
        "from google.colab import files\n",
        "uploaded = files.upload()"
      ]
    },
    {
      "cell_type": "code",
      "source": [
        "import numpy as np\n",
        "import pandas as pd\n",
        "from sklearn.model_selection import train_test_split\n",
        "from sklearn.preprocessing import StandardScaler\n",
        "from keras.models import Sequential\n",
        "from keras.layers import Dense\n",
        "from keras.wrappers.scikit_learn import KerasRegressor\n",
        "from sklearn.model_selection import cross_val_score\n",
        "from sklearn.model_selection import KFold\n",
        "from sklearn.pipeline import Pipeline\n",
        "from keras.layers import normalization\n",
        "from tensorflow.keras.layers import BatchNormalization\n",
        "from keras.layers import Dropout\n",
        "from tensorflow.keras import initializers\n",
        "from tensorflow.keras.initializers import GlorotUniform\n",
        "from tensorflow.keras.initializers import HeUniform\n",
        "\n",
        "from keras.wrappers.scikit_learn import KerasClassifier\n",
        "from sklearn.model_selection import GridSearchCV"
      ],
      "metadata": {
        "id": "Bnn6I6utl9jm"
      },
      "execution_count": null,
      "outputs": []
    },
    {
      "cell_type": "code",
      "source": [
        "from sklearn import linear_model\n",
        "from sklearn.linear_model import LinearRegression\n",
        "from sklearn.metrics import r2_score\n",
        "from sklearn.metrics import mean_absolute_error\n",
        "from sklearn.model_selection import cross_val_score\n",
        "from sklearn.linear_model import Ridge\n",
        "from sklearn.model_selection import GridSearchCV\n",
        "from sklearn.preprocessing import PolynomialFeatures\n",
        "\n",
        "from sklearn.neighbors import KNeighborsRegressor\n",
        "from sklearn.neighbors import DistanceMetric\n",
        "\n",
        "from sklearn.tree import DecisionTreeRegressor\n",
        "from sklearn.tree import plot_tree\n",
        "import matplotlib.pyplot as plt\n",
        "\n",
        "from sklearn.ensemble import RandomForestRegressor\n",
        "\n",
        "from sklearn.svm import SVR\n",
        "\n",
        "from xgboost import XGBRegressor"
      ],
      "metadata": {
        "id": "20KVKnsjl_28"
      },
      "execution_count": null,
      "outputs": []
    },
    {
      "cell_type": "code",
      "source": [
        "df = pd.read_csv(\"TRN1 MFI_LLFILM.csv\")\n",
        "print(df.shape)\n",
        "print(df.head())\n",
        "df.describe()\n",
        "df.head()"
      ],
      "metadata": {
        "colab": {
          "base_uri": "https://localhost:8080/",
          "height": 655
        },
        "id": "mjRwo96umCG7",
        "outputId": "9b2f2e8c-e52a-4497-c452-31e0b60a7171"
      },
      "execution_count": null,
      "outputs": [
        {
          "output_type": "stream",
          "name": "stdout",
          "text": [
            "(1751, 12)\n",
            "    II1126.PV  XI1400A.PV   TI1129-PV  XI1403A-PV  Tot CAT Flow   Tot H2 Flow  \\\n",
            "0  165.818222  200.623566  274.237274    0.256131     15.431849  0.000000e+00   \n",
            "1  164.401520  200.509186  275.174133    0.254841     16.082146  1.587558e+00   \n",
            "2  165.910339  200.508789  275.571350    0.268407     17.758253  1.447317e+00   \n",
            "3  165.422287  201.735290  276.307739    0.273027     16.746458  1.528968e+00   \n",
            "4  165.271225  190.190124  257.639374    0.559138     12.269920  1.000000e-28   \n",
            "\n",
            "   PDI1140.PV  #1 Sieve DP  TI4304A.PV  #1 Extrdr Die DP   II3349A.PV  \\\n",
            "0    4.917679     1.802371  209.730316         18.324406  1179.207153   \n",
            "1    4.636374     1.719614  209.021317         17.833794  1131.535278   \n",
            "2    5.042731     1.497538  208.739441         18.333740  1161.953979   \n",
            "3    5.518978     1.735398  209.958557         18.776360  1221.541382   \n",
            "4    6.069134     4.232919  205.741821         29.726685  1840.439575   \n",
            "\n",
            "   TRN1-MFI  \n",
            "0      4.40  \n",
            "1      4.60  \n",
            "2      4.60  \n",
            "3      4.60  \n",
            "4      1.19  \n"
          ]
        },
        {
          "output_type": "execute_result",
          "data": {
            "text/html": [
              "\n",
              "  <div id=\"df-4257283b-2801-475a-803c-1dd55a187c8c\">\n",
              "    <div class=\"colab-df-container\">\n",
              "      <div>\n",
              "<style scoped>\n",
              "    .dataframe tbody tr th:only-of-type {\n",
              "        vertical-align: middle;\n",
              "    }\n",
              "\n",
              "    .dataframe tbody tr th {\n",
              "        vertical-align: top;\n",
              "    }\n",
              "\n",
              "    .dataframe thead th {\n",
              "        text-align: right;\n",
              "    }\n",
              "</style>\n",
              "<table border=\"1\" class=\"dataframe\">\n",
              "  <thead>\n",
              "    <tr style=\"text-align: right;\">\n",
              "      <th></th>\n",
              "      <th>II1126.PV</th>\n",
              "      <th>XI1400A.PV</th>\n",
              "      <th>TI1129-PV</th>\n",
              "      <th>XI1403A-PV</th>\n",
              "      <th>Tot CAT Flow</th>\n",
              "      <th>Tot H2 Flow</th>\n",
              "      <th>PDI1140.PV</th>\n",
              "      <th>#1 Sieve DP</th>\n",
              "      <th>TI4304A.PV</th>\n",
              "      <th>#1 Extrdr Die DP</th>\n",
              "      <th>II3349A.PV</th>\n",
              "      <th>TRN1-MFI</th>\n",
              "    </tr>\n",
              "  </thead>\n",
              "  <tbody>\n",
              "    <tr>\n",
              "      <th>0</th>\n",
              "      <td>165.818222</td>\n",
              "      <td>200.623566</td>\n",
              "      <td>274.237274</td>\n",
              "      <td>0.256131</td>\n",
              "      <td>15.431849</td>\n",
              "      <td>0.000000e+00</td>\n",
              "      <td>4.917679</td>\n",
              "      <td>1.802371</td>\n",
              "      <td>209.730316</td>\n",
              "      <td>18.324406</td>\n",
              "      <td>1179.207153</td>\n",
              "      <td>4.40</td>\n",
              "    </tr>\n",
              "    <tr>\n",
              "      <th>1</th>\n",
              "      <td>164.401520</td>\n",
              "      <td>200.509186</td>\n",
              "      <td>275.174133</td>\n",
              "      <td>0.254841</td>\n",
              "      <td>16.082146</td>\n",
              "      <td>1.587558e+00</td>\n",
              "      <td>4.636374</td>\n",
              "      <td>1.719614</td>\n",
              "      <td>209.021317</td>\n",
              "      <td>17.833794</td>\n",
              "      <td>1131.535278</td>\n",
              "      <td>4.60</td>\n",
              "    </tr>\n",
              "    <tr>\n",
              "      <th>2</th>\n",
              "      <td>165.910339</td>\n",
              "      <td>200.508789</td>\n",
              "      <td>275.571350</td>\n",
              "      <td>0.268407</td>\n",
              "      <td>17.758253</td>\n",
              "      <td>1.447317e+00</td>\n",
              "      <td>5.042731</td>\n",
              "      <td>1.497538</td>\n",
              "      <td>208.739441</td>\n",
              "      <td>18.333740</td>\n",
              "      <td>1161.953979</td>\n",
              "      <td>4.60</td>\n",
              "    </tr>\n",
              "    <tr>\n",
              "      <th>3</th>\n",
              "      <td>165.422287</td>\n",
              "      <td>201.735290</td>\n",
              "      <td>276.307739</td>\n",
              "      <td>0.273027</td>\n",
              "      <td>16.746458</td>\n",
              "      <td>1.528968e+00</td>\n",
              "      <td>5.518978</td>\n",
              "      <td>1.735398</td>\n",
              "      <td>209.958557</td>\n",
              "      <td>18.776360</td>\n",
              "      <td>1221.541382</td>\n",
              "      <td>4.60</td>\n",
              "    </tr>\n",
              "    <tr>\n",
              "      <th>4</th>\n",
              "      <td>165.271225</td>\n",
              "      <td>190.190124</td>\n",
              "      <td>257.639374</td>\n",
              "      <td>0.559138</td>\n",
              "      <td>12.269920</td>\n",
              "      <td>1.000000e-28</td>\n",
              "      <td>6.069134</td>\n",
              "      <td>4.232919</td>\n",
              "      <td>205.741821</td>\n",
              "      <td>29.726685</td>\n",
              "      <td>1840.439575</td>\n",
              "      <td>1.19</td>\n",
              "    </tr>\n",
              "  </tbody>\n",
              "</table>\n",
              "</div>\n",
              "      <button class=\"colab-df-convert\" onclick=\"convertToInteractive('df-4257283b-2801-475a-803c-1dd55a187c8c')\"\n",
              "              title=\"Convert this dataframe to an interactive table.\"\n",
              "              style=\"display:none;\">\n",
              "        \n",
              "  <svg xmlns=\"http://www.w3.org/2000/svg\" height=\"24px\"viewBox=\"0 0 24 24\"\n",
              "       width=\"24px\">\n",
              "    <path d=\"M0 0h24v24H0V0z\" fill=\"none\"/>\n",
              "    <path d=\"M18.56 5.44l.94 2.06.94-2.06 2.06-.94-2.06-.94-.94-2.06-.94 2.06-2.06.94zm-11 1L8.5 8.5l.94-2.06 2.06-.94-2.06-.94L8.5 2.5l-.94 2.06-2.06.94zm10 10l.94 2.06.94-2.06 2.06-.94-2.06-.94-.94-2.06-.94 2.06-2.06.94z\"/><path d=\"M17.41 7.96l-1.37-1.37c-.4-.4-.92-.59-1.43-.59-.52 0-1.04.2-1.43.59L10.3 9.45l-7.72 7.72c-.78.78-.78 2.05 0 2.83L4 21.41c.39.39.9.59 1.41.59.51 0 1.02-.2 1.41-.59l7.78-7.78 2.81-2.81c.8-.78.8-2.07 0-2.86zM5.41 20L4 18.59l7.72-7.72 1.47 1.35L5.41 20z\"/>\n",
              "  </svg>\n",
              "      </button>\n",
              "      \n",
              "  <style>\n",
              "    .colab-df-container {\n",
              "      display:flex;\n",
              "      flex-wrap:wrap;\n",
              "      gap: 12px;\n",
              "    }\n",
              "\n",
              "    .colab-df-convert {\n",
              "      background-color: #E8F0FE;\n",
              "      border: none;\n",
              "      border-radius: 50%;\n",
              "      cursor: pointer;\n",
              "      display: none;\n",
              "      fill: #1967D2;\n",
              "      height: 32px;\n",
              "      padding: 0 0 0 0;\n",
              "      width: 32px;\n",
              "    }\n",
              "\n",
              "    .colab-df-convert:hover {\n",
              "      background-color: #E2EBFA;\n",
              "      box-shadow: 0px 1px 2px rgba(60, 64, 67, 0.3), 0px 1px 3px 1px rgba(60, 64, 67, 0.15);\n",
              "      fill: #174EA6;\n",
              "    }\n",
              "\n",
              "    [theme=dark] .colab-df-convert {\n",
              "      background-color: #3B4455;\n",
              "      fill: #D2E3FC;\n",
              "    }\n",
              "\n",
              "    [theme=dark] .colab-df-convert:hover {\n",
              "      background-color: #434B5C;\n",
              "      box-shadow: 0px 1px 3px 1px rgba(0, 0, 0, 0.15);\n",
              "      filter: drop-shadow(0px 1px 2px rgba(0, 0, 0, 0.3));\n",
              "      fill: #FFFFFF;\n",
              "    }\n",
              "  </style>\n",
              "\n",
              "      <script>\n",
              "        const buttonEl =\n",
              "          document.querySelector('#df-4257283b-2801-475a-803c-1dd55a187c8c button.colab-df-convert');\n",
              "        buttonEl.style.display =\n",
              "          google.colab.kernel.accessAllowed ? 'block' : 'none';\n",
              "\n",
              "        async function convertToInteractive(key) {\n",
              "          const element = document.querySelector('#df-4257283b-2801-475a-803c-1dd55a187c8c');\n",
              "          const dataTable =\n",
              "            await google.colab.kernel.invokeFunction('convertToInteractive',\n",
              "                                                     [key], {});\n",
              "          if (!dataTable) return;\n",
              "\n",
              "          const docLinkHtml = 'Like what you see? Visit the ' +\n",
              "            '<a target=\"_blank\" href=https://colab.research.google.com/notebooks/data_table.ipynb>data table notebook</a>'\n",
              "            + ' to learn more about interactive tables.';\n",
              "          element.innerHTML = '';\n",
              "          dataTable['output_type'] = 'display_data';\n",
              "          await google.colab.output.renderOutput(dataTable, element);\n",
              "          const docLink = document.createElement('div');\n",
              "          docLink.innerHTML = docLinkHtml;\n",
              "          element.appendChild(docLink);\n",
              "        }\n",
              "      </script>\n",
              "    </div>\n",
              "  </div>\n",
              "  "
            ],
            "text/plain": [
              "    II1126.PV  XI1400A.PV   TI1129-PV  XI1403A-PV  Tot CAT Flow   Tot H2 Flow  \\\n",
              "0  165.818222  200.623566  274.237274    0.256131     15.431849  0.000000e+00   \n",
              "1  164.401520  200.509186  275.174133    0.254841     16.082146  1.587558e+00   \n",
              "2  165.910339  200.508789  275.571350    0.268407     17.758253  1.447317e+00   \n",
              "3  165.422287  201.735290  276.307739    0.273027     16.746458  1.528968e+00   \n",
              "4  165.271225  190.190124  257.639374    0.559138     12.269920  1.000000e-28   \n",
              "\n",
              "   PDI1140.PV  #1 Sieve DP  TI4304A.PV  #1 Extrdr Die DP   II3349A.PV  \\\n",
              "0    4.917679     1.802371  209.730316         18.324406  1179.207153   \n",
              "1    4.636374     1.719614  209.021317         17.833794  1131.535278   \n",
              "2    5.042731     1.497538  208.739441         18.333740  1161.953979   \n",
              "3    5.518978     1.735398  209.958557         18.776360  1221.541382   \n",
              "4    6.069134     4.232919  205.741821         29.726685  1840.439575   \n",
              "\n",
              "   TRN1-MFI  \n",
              "0      4.40  \n",
              "1      4.60  \n",
              "2      4.60  \n",
              "3      4.60  \n",
              "4      1.19  "
            ]
          },
          "metadata": {},
          "execution_count": 13
        }
      ]
    },
    {
      "cell_type": "code",
      "source": [
        "#X1 = df.drop('TRN1-MFI', axis =1)\n",
        "X = df.drop(['TRN1-MFI','Tot H2 Flow'], axis=1)\n",
        "y  = df['TRN1-MFI']\n",
        "\n",
        "X_train, X_test, y_train, y_test = train_test_split(X, y, train_size =0.7, random_state = 20)\n",
        "X_train.shape\n",
        "X.shape\n",
        "y.head()\n",
        "X_test.head()"
      ],
      "metadata": {
        "colab": {
          "base_uri": "https://localhost:8080/",
          "height": 206
        },
        "id": "0bP3Z5GLmOMb",
        "outputId": "703a7d94-aed5-4f25-d21b-175ac140d808"
      },
      "execution_count": null,
      "outputs": [
        {
          "output_type": "execute_result",
          "data": {
            "text/html": [
              "\n",
              "  <div id=\"df-c032ac0a-3117-4810-86f9-d777a258a940\">\n",
              "    <div class=\"colab-df-container\">\n",
              "      <div>\n",
              "<style scoped>\n",
              "    .dataframe tbody tr th:only-of-type {\n",
              "        vertical-align: middle;\n",
              "    }\n",
              "\n",
              "    .dataframe tbody tr th {\n",
              "        vertical-align: top;\n",
              "    }\n",
              "\n",
              "    .dataframe thead th {\n",
              "        text-align: right;\n",
              "    }\n",
              "</style>\n",
              "<table border=\"1\" class=\"dataframe\">\n",
              "  <thead>\n",
              "    <tr style=\"text-align: right;\">\n",
              "      <th></th>\n",
              "      <th>II1126.PV</th>\n",
              "      <th>XI1400A.PV</th>\n",
              "      <th>TI1129-PV</th>\n",
              "      <th>XI1403A-PV</th>\n",
              "      <th>Tot CAT Flow</th>\n",
              "      <th>PDI1140.PV</th>\n",
              "      <th>#1 Sieve DP</th>\n",
              "      <th>TI4304A.PV</th>\n",
              "      <th>#1 Extrdr Die DP</th>\n",
              "      <th>II3349A.PV</th>\n",
              "    </tr>\n",
              "  </thead>\n",
              "  <tbody>\n",
              "    <tr>\n",
              "      <th>250</th>\n",
              "      <td>170.670181</td>\n",
              "      <td>188.260925</td>\n",
              "      <td>255.072250</td>\n",
              "      <td>0.485070</td>\n",
              "      <td>14.959161</td>\n",
              "      <td>13.214743</td>\n",
              "      <td>3.908633</td>\n",
              "      <td>202.083954</td>\n",
              "      <td>31.055107</td>\n",
              "      <td>1999.513306</td>\n",
              "    </tr>\n",
              "    <tr>\n",
              "      <th>1494</th>\n",
              "      <td>168.632752</td>\n",
              "      <td>203.015869</td>\n",
              "      <td>253.429398</td>\n",
              "      <td>0.480972</td>\n",
              "      <td>23.230839</td>\n",
              "      <td>7.925876</td>\n",
              "      <td>3.967751</td>\n",
              "      <td>185.922394</td>\n",
              "      <td>23.613678</td>\n",
              "      <td>1234.061035</td>\n",
              "    </tr>\n",
              "    <tr>\n",
              "      <th>694</th>\n",
              "      <td>140.355072</td>\n",
              "      <td>215.047714</td>\n",
              "      <td>250.859680</td>\n",
              "      <td>0.477864</td>\n",
              "      <td>14.844324</td>\n",
              "      <td>14.023209</td>\n",
              "      <td>4.699908</td>\n",
              "      <td>203.778809</td>\n",
              "      <td>28.916092</td>\n",
              "      <td>1852.970215</td>\n",
              "    </tr>\n",
              "    <tr>\n",
              "      <th>115</th>\n",
              "      <td>173.443085</td>\n",
              "      <td>180.242157</td>\n",
              "      <td>256.538696</td>\n",
              "      <td>0.538753</td>\n",
              "      <td>12.984632</td>\n",
              "      <td>11.633763</td>\n",
              "      <td>4.302365</td>\n",
              "      <td>200.819580</td>\n",
              "      <td>30.221138</td>\n",
              "      <td>1911.967896</td>\n",
              "    </tr>\n",
              "    <tr>\n",
              "      <th>1470</th>\n",
              "      <td>168.135971</td>\n",
              "      <td>212.098602</td>\n",
              "      <td>245.500061</td>\n",
              "      <td>0.477901</td>\n",
              "      <td>14.973728</td>\n",
              "      <td>9.021441</td>\n",
              "      <td>4.508224</td>\n",
              "      <td>182.251099</td>\n",
              "      <td>28.793579</td>\n",
              "      <td>1433.802856</td>\n",
              "    </tr>\n",
              "  </tbody>\n",
              "</table>\n",
              "</div>\n",
              "      <button class=\"colab-df-convert\" onclick=\"convertToInteractive('df-c032ac0a-3117-4810-86f9-d777a258a940')\"\n",
              "              title=\"Convert this dataframe to an interactive table.\"\n",
              "              style=\"display:none;\">\n",
              "        \n",
              "  <svg xmlns=\"http://www.w3.org/2000/svg\" height=\"24px\"viewBox=\"0 0 24 24\"\n",
              "       width=\"24px\">\n",
              "    <path d=\"M0 0h24v24H0V0z\" fill=\"none\"/>\n",
              "    <path d=\"M18.56 5.44l.94 2.06.94-2.06 2.06-.94-2.06-.94-.94-2.06-.94 2.06-2.06.94zm-11 1L8.5 8.5l.94-2.06 2.06-.94-2.06-.94L8.5 2.5l-.94 2.06-2.06.94zm10 10l.94 2.06.94-2.06 2.06-.94-2.06-.94-.94-2.06-.94 2.06-2.06.94z\"/><path d=\"M17.41 7.96l-1.37-1.37c-.4-.4-.92-.59-1.43-.59-.52 0-1.04.2-1.43.59L10.3 9.45l-7.72 7.72c-.78.78-.78 2.05 0 2.83L4 21.41c.39.39.9.59 1.41.59.51 0 1.02-.2 1.41-.59l7.78-7.78 2.81-2.81c.8-.78.8-2.07 0-2.86zM5.41 20L4 18.59l7.72-7.72 1.47 1.35L5.41 20z\"/>\n",
              "  </svg>\n",
              "      </button>\n",
              "      \n",
              "  <style>\n",
              "    .colab-df-container {\n",
              "      display:flex;\n",
              "      flex-wrap:wrap;\n",
              "      gap: 12px;\n",
              "    }\n",
              "\n",
              "    .colab-df-convert {\n",
              "      background-color: #E8F0FE;\n",
              "      border: none;\n",
              "      border-radius: 50%;\n",
              "      cursor: pointer;\n",
              "      display: none;\n",
              "      fill: #1967D2;\n",
              "      height: 32px;\n",
              "      padding: 0 0 0 0;\n",
              "      width: 32px;\n",
              "    }\n",
              "\n",
              "    .colab-df-convert:hover {\n",
              "      background-color: #E2EBFA;\n",
              "      box-shadow: 0px 1px 2px rgba(60, 64, 67, 0.3), 0px 1px 3px 1px rgba(60, 64, 67, 0.15);\n",
              "      fill: #174EA6;\n",
              "    }\n",
              "\n",
              "    [theme=dark] .colab-df-convert {\n",
              "      background-color: #3B4455;\n",
              "      fill: #D2E3FC;\n",
              "    }\n",
              "\n",
              "    [theme=dark] .colab-df-convert:hover {\n",
              "      background-color: #434B5C;\n",
              "      box-shadow: 0px 1px 3px 1px rgba(0, 0, 0, 0.15);\n",
              "      filter: drop-shadow(0px 1px 2px rgba(0, 0, 0, 0.3));\n",
              "      fill: #FFFFFF;\n",
              "    }\n",
              "  </style>\n",
              "\n",
              "      <script>\n",
              "        const buttonEl =\n",
              "          document.querySelector('#df-c032ac0a-3117-4810-86f9-d777a258a940 button.colab-df-convert');\n",
              "        buttonEl.style.display =\n",
              "          google.colab.kernel.accessAllowed ? 'block' : 'none';\n",
              "\n",
              "        async function convertToInteractive(key) {\n",
              "          const element = document.querySelector('#df-c032ac0a-3117-4810-86f9-d777a258a940');\n",
              "          const dataTable =\n",
              "            await google.colab.kernel.invokeFunction('convertToInteractive',\n",
              "                                                     [key], {});\n",
              "          if (!dataTable) return;\n",
              "\n",
              "          const docLinkHtml = 'Like what you see? Visit the ' +\n",
              "            '<a target=\"_blank\" href=https://colab.research.google.com/notebooks/data_table.ipynb>data table notebook</a>'\n",
              "            + ' to learn more about interactive tables.';\n",
              "          element.innerHTML = '';\n",
              "          dataTable['output_type'] = 'display_data';\n",
              "          await google.colab.output.renderOutput(dataTable, element);\n",
              "          const docLink = document.createElement('div');\n",
              "          docLink.innerHTML = docLinkHtml;\n",
              "          element.appendChild(docLink);\n",
              "        }\n",
              "      </script>\n",
              "    </div>\n",
              "  </div>\n",
              "  "
            ],
            "text/plain": [
              "       II1126.PV  XI1400A.PV   TI1129-PV  XI1403A-PV  Tot CAT Flow  \\\n",
              "250   170.670181  188.260925  255.072250    0.485070     14.959161   \n",
              "1494  168.632752  203.015869  253.429398    0.480972     23.230839   \n",
              "694   140.355072  215.047714  250.859680    0.477864     14.844324   \n",
              "115   173.443085  180.242157  256.538696    0.538753     12.984632   \n",
              "1470  168.135971  212.098602  245.500061    0.477901     14.973728   \n",
              "\n",
              "      PDI1140.PV  #1 Sieve DP  TI4304A.PV  #1 Extrdr Die DP   II3349A.PV  \n",
              "250    13.214743     3.908633  202.083954         31.055107  1999.513306  \n",
              "1494    7.925876     3.967751  185.922394         23.613678  1234.061035  \n",
              "694    14.023209     4.699908  203.778809         28.916092  1852.970215  \n",
              "115    11.633763     4.302365  200.819580         30.221138  1911.967896  \n",
              "1470    9.021441     4.508224  182.251099         28.793579  1433.802856  "
            ]
          },
          "metadata": {},
          "execution_count": 61
        }
      ]
    },
    {
      "cell_type": "code",
      "source": [
        "from sklearn.preprocessing import StandardScaler\n",
        "scaler=StandardScaler()\n",
        "scaler.fit(X_train)\n",
        "\n",
        "X_train_scaled = scaler.transform(X_train)\n",
        "X_test_scaled = scaler.transform(X_test)\n",
        "\n",
        "#scaler1=StandardScaler()\n",
        "#scaler1.fit(X)\n",
        "X_scaled = scaler.transform(X)"
      ],
      "metadata": {
        "id": "wSaWnunnmSpE"
      },
      "execution_count": null,
      "outputs": []
    },
    {
      "cell_type": "markdown",
      "source": [
        "**LINEAR REGRESSION**"
      ],
      "metadata": {
        "id": "GbqsNNhhmcs0"
      }
    },
    {
      "cell_type": "code",
      "source": [
        "from sklearn.linear_model import LinearRegression\n",
        "from sklearn.metrics import r2_score\n",
        "reg = LinearRegression().fit(X_train_scaled, y_train)\n",
        "\n",
        "from sklearn.metrics import mean_absolute_error\n",
        "\n",
        "yL_test_pred = reg.predict(X_test_scaled)\n",
        "print(\"MAE test:\", mean_absolute_error(y_test, yL_test_pred))\n",
        "\n",
        "yL_pred = reg.predict(X_scaled)\n",
        "print(\"MAE:\", mean_absolute_error(y, yL_pred))\n",
        "\n",
        "print(\"R2 score test:\", r2_score(y_test,yL_test_pred))\n",
        "print(\"R2 score:\", r2_score(y,yL_pred))\n",
        "\n",
        "count=0\n",
        "for idx in range(len(yL_pred)):\n",
        "  if(abs(y[idx]-yL_pred[idx])>0.2):\n",
        "    count = count+1\n",
        "\n",
        "print(count)"
      ],
      "metadata": {
        "colab": {
          "base_uri": "https://localhost:8080/"
        },
        "id": "vxG45oiwmeS7",
        "outputId": "04567a09-e6b2-49df-ac5f-f00939ef0e76"
      },
      "execution_count": null,
      "outputs": [
        {
          "output_type": "stream",
          "name": "stdout",
          "text": [
            "MAE test: 0.2804533385153856\n",
            "MAE: 0.25483795060913556\n",
            "R2 score test: 0.7070479329456714\n",
            "R2 score: 0.8300727358336812\n",
            "875\n"
          ]
        }
      ]
    },
    {
      "cell_type": "markdown",
      "source": [
        "**LINEAR REGRESSION - L1 Regularization**"
      ],
      "metadata": {
        "id": "Hi8uu61Ymrfz"
      }
    },
    {
      "cell_type": "code",
      "source": [
        "from sklearn import linear_model\n",
        "from sklearn.metrics import r2_score\n",
        "L1_reg = linear_model.Lasso(alpha=.051)\n",
        "#L1_reg = linear_model.Lasso(alpha=0.12)\n",
        "L1_reg.fit(X_train_scaled, y_train)\n",
        "\n",
        "from sklearn.metrics import mean_absolute_error\n",
        "\n",
        "yL1_test_pred = reg.predict(X_test_scaled)\n",
        "print(\"MAE test:\", mean_absolute_error(y_test, yL1_test_pred))\n",
        "\n",
        "yL1_pred = reg.predict(X_scaled)\n",
        "print(\"MAE:\", mean_absolute_error(y, yL1_pred))\n",
        "\n",
        "print(\"R2 score test:\", r2_score(y_test,yL1_test_pred))\n",
        "print(\"R2 score:\", r2_score(y,yL1_pred))\n",
        "\n",
        "count=0\n",
        "for idx in range(len(yL1_pred)):\n",
        "  if(abs(y[idx]-yL1_pred[idx])>0.2):\n",
        "    count = count+1\n",
        "\n",
        "print(count)"
      ],
      "metadata": {
        "colab": {
          "base_uri": "https://localhost:8080/"
        },
        "id": "FkXETJMMmt0T",
        "outputId": "04f88b57-272f-4694-ad21-50f3a6852731"
      },
      "execution_count": null,
      "outputs": [
        {
          "output_type": "stream",
          "name": "stdout",
          "text": [
            "MAE test: 0.2804533385153856\n",
            "MAE: 0.25483795060913556\n",
            "R2 score test: 0.7070479329456714\n",
            "R2 score: 0.8300727358336812\n",
            "875\n"
          ]
        }
      ]
    },
    {
      "cell_type": "markdown",
      "source": [
        "**LINEAR REGRESSION - L2 Regularization**"
      ],
      "metadata": {
        "id": "l9eIH84Xm90b"
      }
    },
    {
      "cell_type": "code",
      "source": [
        "from sklearn import linear_model\n",
        "from sklearn.model_selection import GridSearchCV\n",
        "from sklearn.metrics import r2_score\n",
        "\n",
        "L2_reg = linear_model.Ridge(alpha=5)\n",
        "L2_reg.fit(X_train_scaled, y_train)\n",
        "\n",
        "from sklearn.metrics import mean_absolute_error\n",
        "\n",
        "yL2_test_pred = L2_reg.predict(X_test_scaled)\n",
        "print(\"MAE TEST:\", mean_absolute_error(y_test, yL2_test_pred))\n",
        "\n",
        "yL2_pred = L2_reg.predict(X_scaled)\n",
        "print(\"MAE:\", mean_absolute_error(y, yL2_pred))\n",
        "\n",
        "print(\"R2 score test:\", r2_score(y_test, yL2_test_pred))\n",
        "print(\"R2 score:\", r2_score(y, yL2_pred))\n",
        "\n",
        "count=0\n",
        "for idx in range(len(yL2_pred)):\n",
        "  if(abs(y[idx]-yL2_pred[idx])>0.2):\n",
        "    count = count+1\n",
        "\n",
        "print(count)"
      ],
      "metadata": {
        "colab": {
          "base_uri": "https://localhost:8080/"
        },
        "id": "mZKAGoeCnOtc",
        "outputId": "53789a71-0c70-42b4-e1bb-a9599f9b5c36"
      },
      "execution_count": null,
      "outputs": [
        {
          "output_type": "stream",
          "name": "stdout",
          "text": [
            "MAE TEST: 0.28013393882682164\n",
            "MAE: 0.25480184372848774\n",
            "R2 score test: 0.7074375205744263\n",
            "R2 score: 0.8301236527340501\n",
            "871\n"
          ]
        }
      ]
    },
    {
      "cell_type": "markdown",
      "source": [
        "**Grid Search - Linear Regression - L2 Regularization**"
      ],
      "metadata": {
        "id": "dU51d87Rnklb"
      }
    },
    {
      "cell_type": "code",
      "source": [
        "from sklearn.linear_model import Ridge\n",
        "from sklearn.model_selection import GridSearchCV\n",
        "\n",
        "ridge = Ridge()\n",
        "Parameters = {'alpha':[1e-15, 1e-10, 1e-8, 1e-3, 1e-2, 1, 5, 10, 20, 30, 35, 40, 45, 50, 55, 100, 200]}\n",
        "ridge_regressor = GridSearchCV(ridge, param_grid = Parameters, scoring ='neg_mean_squared_error', cv=15)\n",
        "\n",
        "ridge_regressor.fit(X_train_scaled,y_train)"
      ],
      "metadata": {
        "colab": {
          "base_uri": "https://localhost:8080/"
        },
        "id": "1AYs2l6XnmHc",
        "outputId": "df20ea68-9b38-4644-cc75-dcd250a13c30"
      },
      "execution_count": null,
      "outputs": [
        {
          "output_type": "execute_result",
          "data": {
            "text/plain": [
              "GridSearchCV(cv=15, estimator=Ridge(),\n",
              "             param_grid={'alpha': [1e-15, 1e-10, 1e-08, 0.001, 0.01, 1, 5, 10,\n",
              "                                   20, 30, 35, 40, 45, 50, 55, 100, 200]},\n",
              "             scoring='neg_mean_squared_error')"
            ]
          },
          "metadata": {},
          "execution_count": 53
        }
      ]
    },
    {
      "cell_type": "code",
      "source": [
        "from sklearn.metrics import r2_score\n",
        "print(ridge_regressor.best_params_)\n",
        "print(ridge_regressor.best_score_)\n",
        "\n",
        "yL2G_test_pred=ridge_regressor.predict(X_test_scaled)\n",
        "print(mean_absolute_error(y_test, yL2G_test_pred))\n",
        "\n",
        "yL2G_pred=ridge_regressor.predict(X_scaled)\n",
        "print(mean_absolute_error(y, yL2G_pred))\n",
        "\n",
        "print(\"R2 score test:\", r2_score(y_test, yL2G_test_pred))\n",
        "print(\"R2 score:\", r2_score(y, yL2G_pred))\n",
        "\n",
        "count=0\n",
        "for idx in range(len(yL2G_pred)):\n",
        "  if(abs(y[idx]-yL2G_pred[idx])>0.2):\n",
        "    count = count+1\n",
        "\n",
        "print(count)"
      ],
      "metadata": {
        "colab": {
          "base_uri": "https://localhost:8080/"
        },
        "id": "HvKTDDOinpOk",
        "outputId": "1402b315-502e-4586-c542-42244832bd7c"
      },
      "execution_count": null,
      "outputs": [
        {
          "output_type": "stream",
          "name": "stdout",
          "text": [
            "{'alpha': 20}\n",
            "-0.11379873172822094\n",
            "0.2712691342206197\n",
            "0.25529397208158344\n",
            "R2 score test: 0.7670576110473748\n",
            "R2 score: 0.830087209363505\n",
            "876\n"
          ]
        }
      ]
    },
    {
      "cell_type": "markdown",
      "source": [
        "**Polynomial Regression**"
      ],
      "metadata": {
        "id": "YqSqNkF2nuIk"
      }
    },
    {
      "cell_type": "code",
      "source": [
        "from sklearn.preprocessing import PolynomialFeatures\n",
        "from sklearn.linear_model import LinearRegression\n",
        "from sklearn.metrics import mean_absolute_error\n",
        "\n",
        "poly = PolynomialFeatures(degree=3)\n",
        "\n",
        "poly_reg = LinearRegression()\n",
        "X_train_poly = poly.fit_transform(X_train_scaled)\n",
        "poly_reg.fit(X_train_poly, y_train)\n",
        "\n",
        "X_test_poly = poly.fit_transform(X_test_scaled)\n",
        "yp_test_pred = poly_reg.predict(X_test_poly)\n",
        "print(\"Rsquare_test:\", poly_reg.score(X_test_poly,y_test))\n",
        "print(\"MAE_test:\", mean_absolute_error(y_test, yp_test_pred))\n",
        "\n",
        "X_poly = poly.fit_transform(X_scaled)\n",
        "yp_pred = poly_reg.predict(X_poly)\n",
        "\n",
        "print(\"Rsquare:\", poly_reg.score(X_poly,y))\n",
        "\n",
        "print(\"MAE:\", mean_absolute_error(y, yp_pred))\n",
        "\n",
        "poly_count=0\n",
        "for idx in range(len(yp_pred)):\n",
        "  if(abs(y[idx]-yp_pred[idx])>0.2):\n",
        "    poly_count = count+1\n",
        "\n",
        "print(poly_count)"
      ],
      "metadata": {
        "colab": {
          "base_uri": "https://localhost:8080/"
        },
        "id": "MwYvjVFcnxLE",
        "outputId": "d4d46b95-8499-48fb-b2b8-8dac09e3e5ab"
      },
      "execution_count": null,
      "outputs": [
        {
          "output_type": "stream",
          "name": "stdout",
          "text": [
            "Rsquare_test: 0.7056708830495799\n",
            "MAE_test: 0.28577724020958684\n",
            "Rsquare: 0.8789433070692975\n",
            "MAE: 0.19738241104751467\n",
            "877\n"
          ]
        }
      ]
    },
    {
      "cell_type": "markdown",
      "source": [
        "**k-NN Regression**"
      ],
      "metadata": {
        "id": "eJH7PzC9oYfj"
      }
    },
    {
      "cell_type": "code",
      "source": [
        "from sklearn.neighbors import KNeighborsRegressor\n",
        "\n",
        "KNR = KNeighborsRegressor(4)\n",
        "KNR.fit(X_train, y_train)"
      ],
      "metadata": {
        "colab": {
          "base_uri": "https://localhost:8080/"
        },
        "id": "1hnqkFhCoaC0",
        "outputId": "1d108a27-45d2-4d9d-a420-8cba90b7b5bf"
      },
      "execution_count": null,
      "outputs": [
        {
          "output_type": "execute_result",
          "data": {
            "text/plain": [
              "KNeighborsRegressor(n_neighbors=4)"
            ]
          },
          "metadata": {},
          "execution_count": 26
        }
      ]
    },
    {
      "cell_type": "code",
      "source": [
        "y_test_pred_kNN = KNR.predict(X_test)\n",
        "y_pred_kNN = KNR.predict(X)\n",
        "#print(y_train[:1].values)\n",
        "from sklearn.metrics import mean_absolute_error\n",
        "print(\"MAE test:\", mean_absolute_error(y_test, y_test_pred_kNN))\n",
        "print(\"MAE:\", mean_absolute_error(y, y_pred_kNN))\n",
        "\n",
        "from sklearn.metrics import r2_score\n",
        "print(\"R2 score:\", r2_score(y, y_pred_kNN))\n",
        "print(\"R2 score test:\", r2_score(y_test, y_test_pred_kNN))\n",
        "\n",
        "kNN_count=0\n",
        "for idx in range(len(y_pred_kNN)):\n",
        "  if(abs(y[idx]-y_pred_kNN[idx])>0.2):\n",
        "    kNN_count = kNN_count+1\n",
        "\n",
        "print(kNN_count)"
      ],
      "metadata": {
        "colab": {
          "base_uri": "https://localhost:8080/"
        },
        "id": "Ng3D_kK4ocu0",
        "outputId": "36f7a3a0-65b5-41c7-f3d5-bd637faa825d"
      },
      "execution_count": null,
      "outputs": [
        {
          "output_type": "stream",
          "name": "stdout",
          "text": [
            "MAE test: 0.27674264007621086\n",
            "MAE: 0.19849371787535694\n",
            "R2 score: 0.8632269882594676\n",
            "R2 score test: 0.6780385876453101\n",
            "627\n"
          ]
        }
      ]
    },
    {
      "cell_type": "markdown",
      "source": [
        "**GridSearchCV- kNN**"
      ],
      "metadata": {
        "id": "-k3Ta7hJoimV"
      }
    },
    {
      "cell_type": "code",
      "source": [
        "from sklearn.neighbors import KNeighborsRegressor\n",
        "from sklearn.model_selection import GridSearchCV\n",
        "from sklearn.metrics import mean_absolute_error\n",
        "import numpy as np\n",
        "from sklearn.neighbors import DistanceMetric\n",
        "\n",
        "k=np.arange(2,30)\n",
        "KNN_R = KNeighborsRegressor()\n",
        "params = dict(n_neighbors=k)\n",
        "GridSearch_kNN = GridSearchCV(KNN_R, param_grid = params, cv=20)\n",
        "GridSearch_kNN.fit(X_train, y_train)\n",
        "print(GridSearch_kNN.best_params_)\n",
        "print(GridSearch_kNN.best_score_)\n",
        "\n",
        "\n",
        "ykNNG_test_pred = GridSearch_kNN.predict(X_test)\n",
        "print(\"MAE test:\", mean_absolute_error(y_test, ykNNG_test_pred))\n",
        "\n",
        "ykNNG_pred = GridSearch_kNN.predict(X)\n",
        "print(\"MAE:\", mean_absolute_error(y, ykNNG_pred))\n",
        "\n",
        "from sklearn.metrics import r2_score\n",
        "print(\"R2 score:\", r2_score(y, ykNNG_pred))\n",
        "\n",
        "print(\"R2 score test:\", r2_score(y_test, ykNNG_test_pred))\n",
        "\n",
        "kNNG_count=0\n",
        "for idx in range(len(ykNNG_pred)):\n",
        "  if(abs(y[idx]-ykNNG_pred[idx])>0.2):\n",
        "    kNNG_count = kNNG_count+1\n",
        "\n",
        "print(kNNG_count)"
      ],
      "metadata": {
        "colab": {
          "base_uri": "https://localhost:8080/"
        },
        "id": "yU-MNvsYokRF",
        "outputId": "b73aba97-0d41-440f-d47b-145650e67b3b"
      },
      "execution_count": null,
      "outputs": [
        {
          "output_type": "stream",
          "name": "stdout",
          "text": [
            "{'n_neighbors': 9}\n",
            "0.6563854757433315\n",
            "MAE test: 0.2653816363895226\n",
            "MAE: 0.23283562831816737\n",
            "R2 score: 0.8083633163315275\n",
            "R2 score test: 0.7191137547483819\n",
            "715\n"
          ]
        }
      ]
    },
    {
      "cell_type": "markdown",
      "source": [
        "**Outliers**"
      ],
      "metadata": {
        "id": "uFD_67C9o8Ws"
      }
    },
    {
      "cell_type": "code",
      "source": [
        "import numpy as np\n",
        "outliers =[]\n",
        "n_sigma =3\n",
        "mean = np.mean(y)\n",
        "std = np.std(y)\n",
        "for ele1 in y:\n",
        "  z_score = abs((ele1-mean)/std)\n",
        "  if z_score>n_sigma:\n",
        "    outliers.append(y)\n",
        "\n",
        "print(len(outliers))\n",
        "#outliers"
      ],
      "metadata": {
        "colab": {
          "base_uri": "https://localhost:8080/"
        },
        "id": "loLz-bFio_Np",
        "outputId": "85edb6f8-2498-4e3e-a3c6-39d81172e3d1"
      },
      "execution_count": null,
      "outputs": [
        {
          "output_type": "stream",
          "name": "stdout",
          "text": [
            "103\n"
          ]
        }
      ]
    },
    {
      "cell_type": "markdown",
      "source": [
        "**Outliers - IQR**"
      ],
      "metadata": {
        "id": "w4cHlm8SpCOU"
      }
    },
    {
      "cell_type": "code",
      "source": [
        "import numpy as np\n",
        "q1, q3 = np.percentile(y,[25,75])\n",
        "print(q1, q3)\n",
        "IQR =q3-q1\n",
        "print(\"IQR:\", IQR)\n",
        "lower_bound_value = q1-(IQR*1.5)\n",
        "upper_bound_value = q3+(IQR*1.5)\n",
        "\n",
        "print(lower_bound_value, upper_bound_value)"
      ],
      "metadata": {
        "colab": {
          "base_uri": "https://localhost:8080/"
        },
        "id": "egw9XUgbpEB8",
        "outputId": "76946f8c-b6ca-4dd0-b9a2-c6701bcf807c"
      },
      "execution_count": null,
      "outputs": [
        {
          "output_type": "stream",
          "name": "stdout",
          "text": [
            "0.98 1.4\n",
            "IQR: 0.41999999999999993\n",
            "0.3500000000000001 2.03\n"
          ]
        }
      ]
    },
    {
      "cell_type": "markdown",
      "source": [
        "**Decision Tree**"
      ],
      "metadata": {
        "id": "WSLZ6m_NpLCM"
      }
    },
    {
      "cell_type": "code",
      "source": [
        "from sklearn.tree import DecisionTreeRegressor\n",
        "from sklearn.metrics import mean_absolute_error, r2_score\n",
        "\n",
        "#tree = DecisionTreeRegressor()\n",
        "tree = DecisionTreeRegressor()\n",
        "tree.fit(X_train_scaled, y_train)\n",
        "\n",
        "yDT_test_pred = tree.predict(X_test_scaled)\n",
        "print(\"MAE_test:\", mean_absolute_error(y_test,yDT_test_pred))\n",
        "\n",
        "yDT_pred = tree.predict(X_scaled)\n",
        "print(\"MAE:\", mean_absolute_error(y,yDT_pred))\n",
        "\n",
        "print(\"R2 Square:\", r2_score(y,yDT_pred))\n",
        "print(\"R2 Square_test:\", r2_score(y_test,yDT_test_pred))\n",
        "\n",
        "DT_count=0\n",
        "for idx in range(len(yDT_pred)):\n",
        "  if(abs(y[idx]-yDT_pred[idx])>0.5):\n",
        "    DT_count = DT_count+1\n",
        "\n",
        "print(DT_count)\n",
        "\n",
        "print(tree.criterion)\n",
        "print(tree.splitter)\n",
        "print(tree.max_depth)\n",
        "print(tree.max_features)\n",
        "print(tree.min_samples_split)"
      ],
      "metadata": {
        "colab": {
          "base_uri": "https://localhost:8080/"
        },
        "id": "-z2ZtjBzpMuw",
        "outputId": "d6a378e0-ad29-4f67-967c-f36192bdab39"
      },
      "execution_count": null,
      "outputs": [
        {
          "output_type": "stream",
          "name": "stdout",
          "text": [
            "MAE_test: 0.2899145299145299\n",
            "MAE: 0.05811536264991435\n",
            "R2 Square: 0.9387485622510345\n",
            "R2 Square_test: 0.6013054519936992\n",
            "74\n",
            "squared_error\n",
            "best\n",
            "None\n",
            "None\n",
            "2\n"
          ]
        }
      ]
    },
    {
      "cell_type": "markdown",
      "source": [
        "**Decision Tree - GridSearchCV**"
      ],
      "metadata": {
        "id": "ZZrmvAfZrOnN"
      }
    },
    {
      "cell_type": "code",
      "source": [
        "from sklearn.tree import DecisionTreeRegressor\n",
        "from sklearn.metrics import mean_absolute_error, r2_score\n",
        "\n",
        "import warnings\n",
        "warnings.filterwarnings(\"ignore\")\n",
        "\n",
        "params= {\n",
        "    \"max_depth\": [2,4,8,10,None],\n",
        "    #\"max_depth\": [None],\n",
        "    \"min_samples_split\":[0.25,0.5,1,2,3,4,5,6,7]\n",
        "}\n",
        "model = DecisionTreeRegressor()\n",
        "DT_grid = GridSearchCV(model, param_grid=params, cv=20)\n",
        "DT_grid.fit(X_train_scaled, y_train)\n",
        "\n",
        "yDT_grid_test_pred = DT_grid.predict(X_test_scaled)\n",
        "print(\"MAE_test:\", mean_absolute_error(y_test,yDT_grid_test_pred))\n",
        "\n",
        "yDT_grid_pred = DT_grid.predict(X_scaled)\n",
        "print(\"MAE:\", mean_absolute_error(y,yDT_grid_pred))\n",
        "\n",
        "print(\"R2 Square:\", r2_score(y,yDT_grid_pred))\n",
        "print(\"R2 Square test:\", r2_score(y_test,yDT_grid_test_pred))\n",
        "\n",
        "print(DT_grid.best_params_)\n",
        "\n",
        "DTG_count=0\n",
        "for idx in range(len(yDT_grid_pred)):\n",
        "  if(abs(y[idx]-yDT_grid_pred[idx])>0.2):\n",
        "    DTG_count = DTG_count+1\n",
        "\n",
        "print(DTG_count)"
      ],
      "metadata": {
        "colab": {
          "base_uri": "https://localhost:8080/"
        },
        "id": "4IFVCMUlrQLP",
        "outputId": "52c41830-6ed2-4948-b2a8-27ab0453bba0"
      },
      "execution_count": null,
      "outputs": [
        {
          "output_type": "stream",
          "name": "stdout",
          "text": [
            "MAE_test: 0.25245174069936166\n",
            "MAE: 0.2258485878548912\n",
            "R2 Square: 0.8498589326692387\n",
            "R2 Square test: 0.7517515186902486\n",
            "{'max_depth': 4, 'min_samples_split': 0.25}\n",
            "872\n"
          ]
        }
      ]
    },
    {
      "cell_type": "code",
      "source": [
        "DT_grid.best_params_"
      ],
      "metadata": {
        "colab": {
          "base_uri": "https://localhost:8080/"
        },
        "id": "B_8r-sPqrgNN",
        "outputId": "6aec4e48-0a6d-4823-c339-353cd188eabb"
      },
      "execution_count": null,
      "outputs": [
        {
          "output_type": "execute_result",
          "data": {
            "text/plain": [
              "{'max_depth': 4, 'min_samples_split': 4}"
            ]
          },
          "metadata": {},
          "execution_count": 32
        }
      ]
    },
    {
      "cell_type": "code",
      "source": [
        "for importance, name in sorted(zip(tree.feature_importances_, X_train.columns), reverse=True):\n",
        "  print(name, importance)"
      ],
      "metadata": {
        "colab": {
          "base_uri": "https://localhost:8080/"
        },
        "id": "FGwWpx47ri0F",
        "outputId": "ed6af37b-7a49-4a48-ec8e-7676d575a4f0"
      },
      "execution_count": null,
      "outputs": [
        {
          "output_type": "stream",
          "name": "stdout",
          "text": [
            "XI1403A-PV 0.8833561430052563\n",
            "II3349A.PV 0.028318474853089973\n",
            "TI4304A.PV 0.01785958300547372\n",
            "XI1400A.PV 0.014585953496037437\n",
            "#1 Sieve DP 0.011150223427127596\n",
            "#1 Extrdr Die DP 0.010519265441877527\n",
            "TI1129-PV 0.008832763331102986\n",
            "II1126.PV 0.0073482657571685055\n",
            "Tot CAT Flow 0.006996661413704052\n",
            "PDI1140.PV 0.0018211122243960852\n"
          ]
        }
      ]
    },
    {
      "cell_type": "markdown",
      "source": [
        "**Random Forest**"
      ],
      "metadata": {
        "id": "M_hZZ-25roDl"
      }
    },
    {
      "cell_type": "code",
      "source": [
        "from sklearn.ensemble import RandomForestRegressor\n",
        "from sklearn.metrics import mean_absolute_error, r2_score\n",
        "\n",
        "Rforest = RandomForestRegressor(max_depth=4, bootstrap=True, n_estimators =33,  min_samples_split=2, min_samples_leaf=1, max_features= 'sqrt')\n",
        "Rforest.fit(X_train_scaled, y_train)\n",
        "\n",
        "yRF_test_pred = Rforest.predict(X_test_scaled)\n",
        "print(\"MAE_test:\", mean_absolute_error(y_test,yRF_test_pred))\n",
        "\n",
        "yRF_pred = Rforest.predict(X_scaled)\n",
        "print(\"MAE:\", mean_absolute_error(y,yRF_pred))\n",
        "\n",
        "print(\"R2 Square:\", r2_score(y,yRF_pred))\n",
        "print(\"R2 Square test:\", r2_score(y_test,yRF_test_pred))\n",
        "\n",
        "RF_count=0\n",
        "for idx in range(len(yRF_pred)):\n",
        "  if(abs(y[idx]-yRF_pred[idx])>0.5):\n",
        "    RF_count = RF_count+1\n",
        "\n",
        "print(RF_count)\n",
        "\n",
        "print(Rforest.max_features)\n",
        "print(Rforest.max_depth)\n",
        "print(Rforest.min_samples_split)\n",
        "print(Rforest.min_samples_leaf)\n",
        "print(Rforest.bootstrap)\n"
      ],
      "metadata": {
        "colab": {
          "base_uri": "https://localhost:8080/"
        },
        "id": "Ic8MEPh8rqV9",
        "outputId": "f1f97558-2bb1-4d80-8338-d3bf75dd6a38"
      },
      "execution_count": null,
      "outputs": [
        {
          "output_type": "stream",
          "name": "stdout",
          "text": [
            "MAE_test: 0.240276542932724\n",
            "MAE: 0.21618707236817547\n",
            "R2 Square: 0.878366159104564\n",
            "R2 Square test: 0.8050644976383712\n",
            "155\n",
            "sqrt\n",
            "4\n",
            "2\n",
            "1\n",
            "True\n"
          ]
        }
      ]
    },
    {
      "cell_type": "markdown",
      "source": [
        "**Random Forest - Feature Importance**"
      ],
      "metadata": {
        "id": "h-L9yfHcrvUV"
      }
    },
    {
      "cell_type": "code",
      "source": [
        "for importance, name in sorted(zip(Rforest.feature_importances_, X_train.columns), reverse=True):\n",
        "  print(name, importance)"
      ],
      "metadata": {
        "colab": {
          "base_uri": "https://localhost:8080/"
        },
        "id": "LZ4r6igzrxH9",
        "outputId": "3f0048b3-f65a-40c8-e826-24804f97150f"
      },
      "execution_count": null,
      "outputs": [
        {
          "output_type": "stream",
          "name": "stdout",
          "text": [
            "XI1403A-PV 0.2729325558373235\n",
            "TI4304A.PV 0.24890363709422147\n",
            "PDI1140.PV 0.15528823731153485\n",
            "TI1129-PV 0.128064750217899\n",
            "II3349A.PV 0.12276781364069615\n",
            "#1 Sieve DP 0.01394696681873439\n",
            "XI1400A.PV 0.008735877673297995\n",
            "#1 Extrdr Die DP 0.004061018073886322\n",
            "II1126.PV 0.002599185300021855\n",
            "Tot CAT Flow 0.0013292544249093458\n"
          ]
        }
      ]
    },
    {
      "cell_type": "markdown",
      "source": [
        "**Random Forest - GridSearchCV**"
      ],
      "metadata": {
        "id": "DXJBqDpbr1RB"
      }
    },
    {
      "cell_type": "code",
      "source": [
        "import numpy as np\n",
        "from sklearn.ensemble import RandomForestRegressor\n",
        "from sklearn.model_selection import GridSearchCV\n",
        "from sklearn.metrics import mean_absolute_error, r2_score\n",
        "\n",
        "import warnings\n",
        "warnings.filterwarnings(\"ignore\")\n",
        "#no. of trees in RF\n",
        "#n_estimators = [int(x) for x in np.linspace(start=10, stop=80, num=10)]\n",
        "n_estimators = [int(x) for x in np.linspace(start=10, stop=80, num=10)]\n",
        "#No. of features to consider at every split\n",
        "max_features = ['auto', 'sqrt']\n",
        "#max no. of levels in a tree\n",
        "max_depth = [2,4]\n",
        "#min no. of samples required to split a node\n",
        "min_samples_split = [2,5]\n",
        "#Min no. of samples required at each leaf node\n",
        "min_samples_leaf = [1,2]\n",
        "#Method of selecting samples for training each tree\n",
        "bootstrap = [True, False]\n",
        "\n",
        "#Create the param grid\n",
        "params = {'n_estimators': n_estimators,\n",
        "              'max_features': max_features,\n",
        "              'max_depth': max_depth,\n",
        "              'min_samples_split': min_samples_split,\n",
        "              'min_samples_leaf': min_samples_leaf,\n",
        "              'bootstrap': bootstrap}\n",
        "\n",
        "#print(param_grid)\n",
        "\n",
        "Rforest_grid = RandomForestRegressor()\n",
        "RF_grid = GridSearchCV(Rforest_grid, param_grid=params, cv=5)\n",
        "RF_grid.fit(X_train_scaled, y_train)\n",
        "\n",
        "yRF_grid_test_pred = RF_grid.predict(X_test_scaled)\n",
        "print(\"MAE_test:\", mean_absolute_error(y_test,yRF_grid_test_pred))\n",
        "\n",
        "yRF_grid_pred = RF_grid.predict(X_scaled)\n",
        "print(\"MAE:\", mean_absolute_error(y,yRF_grid_pred))\n",
        "\n",
        "print(\"R2 Square:\", r2_score(y,yRF_grid_pred))\n",
        "print(\"R2 Square test:\", r2_score(y_test,yRF_grid_test_pred))\n",
        "\n",
        "RFG_count=0\n",
        "for idx in range(len(yRF_grid_pred)):\n",
        "  if(abs(y[idx]-yRF_grid_pred[idx])>0.2):\n",
        "    RFG_count = RFG_count+1\n",
        "\n",
        "print(RFG_count)\n",
        "\n",
        "print(Rforest_grid.max_features)\n",
        "print(Rforest_grid.max_depth)\n",
        "print(Rforest_grid.min_samples_split)\n",
        "print(Rforest_grid.min_samples_leaf)\n",
        "print(Rforest_grid.bootstrap)\n",
        "print(Rforest_grid.n_estimators)"
      ],
      "metadata": {
        "colab": {
          "base_uri": "https://localhost:8080/"
        },
        "id": "yfgohSQBr4NF",
        "outputId": "9f9cb9d3-3ce2-4f3d-f64a-907d6fd8f9a5"
      },
      "execution_count": null,
      "outputs": [
        {
          "output_type": "stream",
          "name": "stdout",
          "text": [
            "MAE_test: 0.2421048061636444\n",
            "MAE: 0.21465706776867483\n",
            "R2 Square: 0.8774769603894059\n",
            "R2 Square test: 0.7948496956568902\n",
            "806\n",
            "auto\n",
            "None\n",
            "2\n",
            "1\n",
            "True\n",
            "100\n"
          ]
        }
      ]
    },
    {
      "cell_type": "code",
      "source": [
        "RF_grid.best_params_"
      ],
      "metadata": {
        "colab": {
          "base_uri": "https://localhost:8080/"
        },
        "id": "RqjwW485ssuX",
        "outputId": "a5870f85-6f40-4f4a-cce1-5a382e6470ba"
      },
      "execution_count": null,
      "outputs": [
        {
          "output_type": "execute_result",
          "data": {
            "text/plain": [
              "{'bootstrap': True,\n",
              " 'max_depth': 4,\n",
              " 'max_features': 'sqrt',\n",
              " 'min_samples_leaf': 1,\n",
              " 'min_samples_split': 2,\n",
              " 'n_estimators': 33}"
            ]
          },
          "metadata": {},
          "execution_count": 37
        }
      ]
    },
    {
      "cell_type": "code",
      "source": [
        "print(Rforest_grid.n_estimators)\n",
        "n_estimators"
      ],
      "metadata": {
        "colab": {
          "base_uri": "https://localhost:8080/"
        },
        "id": "xxDTfaBusu6P",
        "outputId": "3f18a2de-0d7b-4bb7-83c0-3575fb6011f0"
      },
      "execution_count": null,
      "outputs": [
        {
          "output_type": "stream",
          "name": "stdout",
          "text": [
            "100\n"
          ]
        },
        {
          "output_type": "execute_result",
          "data": {
            "text/plain": [
              "[10, 17, 25, 33, 41, 48, 56, 64, 72, 80]"
            ]
          },
          "metadata": {},
          "execution_count": 38
        }
      ]
    },
    {
      "cell_type": "markdown",
      "source": [
        "**Support Vector Regression**"
      ],
      "metadata": {
        "id": "EA6vn-OEsxCl"
      }
    },
    {
      "cell_type": "code",
      "source": [
        "import warnings\n",
        "warnings.filterwarnings(\"ignore\")\n",
        "\n",
        "from sklearn.svm import SVR\n",
        "from sklearn.metrics import mean_absolute_error, r2_score\n",
        "#SVR_reg = SVR(kernel = \"poly\", degree=3)\n",
        "SVR_reg = SVR(kernel = \"rbf\", C=5, gamma = 'auto')\n",
        "SVR_reg.fit(X_train_scaled, y_train)\n",
        "\n",
        "ySVR_test_pred = SVR_reg.predict(X_test_scaled)\n",
        "print(\"MAE test:\", mean_absolute_error(y_test, ySVR_test_pred))\n",
        "\n",
        "ySVR_pred = SVR_reg.predict(X_scaled)\n",
        "print(\"MAE:\", mean_absolute_error(y, ySVR_pred))\n",
        "\n",
        "print(\"R Square:\",r2_score(y, ySVR_pred) )\n",
        "print(\"R Square test:\",r2_score(y_test, ySVR_test_pred) )\n",
        "\n",
        "\n",
        "SVR_count=0\n",
        "for idx in range(len(ySVR_pred)):\n",
        "  if(abs(y[idx]-ySVR_pred[idx])>0.5):\n",
        "    SVR_count = SVR_count+1\n",
        "\n",
        "print(SVR_count)"
      ],
      "metadata": {
        "colab": {
          "base_uri": "https://localhost:8080/"
        },
        "id": "WgI2nBGhs0EF",
        "outputId": "d8278146-d279-4d07-d33a-4611dbe3fc1e"
      },
      "execution_count": null,
      "outputs": [
        {
          "output_type": "stream",
          "name": "stdout",
          "text": [
            "MAE test: 0.2322550926221426\n",
            "MAE: 0.1713012654474789\n",
            "R Square: 0.8977981833877173\n",
            "R Square test: 0.712739386438925\n",
            "135\n"
          ]
        }
      ]
    },
    {
      "cell_type": "markdown",
      "source": [
        "**GridSearchCV_SVR**"
      ],
      "metadata": {
        "id": "R4vPk94qs3kl"
      }
    },
    {
      "cell_type": "code",
      "source": [
        "import warnings\n",
        "warnings.filterwarnings(\"ignore\")\n",
        "\n",
        "#Create the param grid\n",
        "params = {#'kernel': ('linear', 'poly', 'rbf', 'sigmoid'),\n",
        "              'C': [x for x in np.linspace(start=5, stop=15, num=10)],\n",
        "              #'degree': [int(x) for x in np.linspace(start=3, stop=8, num=4)],\n",
        "              #'coef0': [x for x in np.linspace(start=0.001, stop=10, num=4)],\n",
        "              #'gamma': ['auto', 'scale']\n",
        "              'gamma': ['auto']\n",
        "              }\n",
        "\n",
        "#print(param_grid)\n",
        "\n",
        "SVR_grid = SVR()\n",
        "SVR_grid = GridSearchCV(SVR_grid, param_grid=params, cv=5)\n",
        "SVR_grid.fit(X_train_scaled, y_train)\n",
        "\n",
        "ySVR_grid_test_pred = SVR_grid.predict(X_test_scaled)\n",
        "print(\"MAE_test:\", mean_absolute_error(y_test,ySVR_grid_test_pred))\n",
        "\n",
        "ySVR_grid_pred = SVR_grid.predict(X_scaled)\n",
        "print(\"MAE:\", mean_absolute_error(y,ySVR_grid_pred))\n",
        "\n",
        "print(\"R2 Square:\", r2_score(y,ySVR_grid_pred))\n",
        "print(\"R2 Square test:\", r2_score(y_test,ySVR_grid_test_pred))\n",
        "\n",
        "SVR_grid_count=0\n",
        "for idx in range(len(ySVR_grid_pred)):\n",
        "  if(abs(y[idx]-ySVR_grid_pred[idx])>0.2):\n",
        "    SVR_grid_count = SVR_grid_count+1\n",
        "\n",
        "print(SVR_grid_count)"
      ],
      "metadata": {
        "colab": {
          "base_uri": "https://localhost:8080/"
        },
        "id": "Zi3iwhGVs5PH",
        "outputId": "98677071-bb9f-4de1-907d-ee854c47c42a"
      },
      "execution_count": null,
      "outputs": [
        {
          "output_type": "stream",
          "name": "stdout",
          "text": [
            "MAE_test: 0.21845284586908767\n",
            "MAE: 0.1753598849397383\n",
            "R2 Square: 0.899905167696322\n",
            "R2 Square test: 0.809647525121608\n",
            "448\n"
          ]
        }
      ]
    },
    {
      "cell_type": "code",
      "source": [
        "print(SVR_grid.best_params_)\n",
        "params['C']"
      ],
      "metadata": {
        "colab": {
          "base_uri": "https://localhost:8080/"
        },
        "id": "aUz-TgUBtSkG",
        "outputId": "b2d3c323-144a-40f1-96cd-6d7d3e43eef4"
      },
      "execution_count": null,
      "outputs": [
        {
          "output_type": "stream",
          "name": "stdout",
          "text": [
            "{'C': 5.0, 'gamma': 'auto'}\n"
          ]
        },
        {
          "output_type": "execute_result",
          "data": {
            "text/plain": [
              "[5.0,\n",
              " 6.111111111111111,\n",
              " 7.222222222222222,\n",
              " 8.333333333333334,\n",
              " 9.444444444444445,\n",
              " 10.555555555555555,\n",
              " 11.666666666666668,\n",
              " 12.777777777777779,\n",
              " 13.88888888888889,\n",
              " 15.0]"
            ]
          },
          "metadata": {},
          "execution_count": 43
        }
      ]
    },
    {
      "cell_type": "markdown",
      "source": [
        "**XG Boost**"
      ],
      "metadata": {
        "id": "8QB9AXGgtaLm"
      }
    },
    {
      "cell_type": "code",
      "source": [
        "import warnings\n",
        "warnings.filterwarnings(\"ignore\")\n",
        "\n",
        "from xgboost import XGBRegressor\n",
        "from sklearn.metrics import mean_absolute_error, r2_score\n",
        "\n",
        "Xg_reg  = XGBRegressor()\n",
        "Xg_reg.fit(X_train_scaled, y_train)\n",
        "\n",
        "yXg_test_pred = Xg_reg.predict(X_test_scaled)\n",
        "print(\"MAE test:\", mean_absolute_error(y_test, yXg_test_pred))\n",
        "\n",
        "yXg_pred = Xg_reg.predict(X_scaled)\n",
        "print(\"MAE:\", mean_absolute_error(y, yXg_pred))\n",
        "\n",
        "print(\"R Square:\", r2_score(y, yXg_pred))\n",
        "print(\"R Square test:\", r2_score(y_test, yXg_test_pred))\n",
        "\n",
        "XG_count=0\n",
        "for idx in range(len(yXg_pred)):\n",
        "  if(abs(y[idx]-yXg_pred[idx])>0.2):\n",
        "    XG_count = XG_count+1\n",
        "\n",
        "print(XG_count)\n",
        "\n",
        "print(\"n_estimators:\", Xg_reg.n_estimators)\n",
        "print(\"max_depth:\", Xg_reg.max_depth)\n",
        "print(\"Learning rate:\", Xg_reg.learning_rate)\n",
        "print(\"min_child_weight:\", Xg_reg.min_child_weight)\n",
        "print(\"booster:\", Xg_reg.booster)\n",
        "print(\"base_score:\", Xg_reg.base_score)"
      ],
      "metadata": {
        "colab": {
          "base_uri": "https://localhost:8080/"
        },
        "id": "-8LvQF16tbwP",
        "outputId": "c550e371-ad59-42d0-fc2c-bc35ca248b71"
      },
      "execution_count": null,
      "outputs": [
        {
          "output_type": "stream",
          "name": "stdout",
          "text": [
            "[17:49:25] WARNING: /workspace/src/objective/regression_obj.cu:152: reg:linear is now deprecated in favor of reg:squarederror.\n",
            "MAE test: 0.2430604833822984\n",
            "MAE: 0.1801440352023683\n",
            "R Square: 0.903486190886634\n",
            "R Square test: 0.714651793202367\n",
            "528\n",
            "n_estimators: 100\n",
            "max_depth: 3\n",
            "Learning rate: 0.1\n",
            "min_child_weight: 1\n",
            "booster: gbtree\n",
            "base_score: 0.5\n"
          ]
        }
      ]
    },
    {
      "cell_type": "code",
      "source": [
        "from xgboost.training import cv\n",
        "n_estimators = [int(x) for x in np.linspace(start=10, stop=80, num=10)]\n",
        "\n",
        "params = {#\"learning_rate\": [0.001, 0.01, 0.1, 0.25, 0.4, 0.5],\n",
        "          \"max_depth\": [1,2,3,4,5,6],\n",
        "          \"max_features\": [1,2,3,4,5,6],\n",
        "          \"n_estimators\": n_estimators\n",
        "    }\n",
        "\n",
        "Xg_reg_grid  = XGBRegressor()\n",
        "Xg_grid = GridSearchCV(Xg_reg_grid, param_grid = params, cv=10, n_jobs = -1, verbose=0)\n",
        "Xg_grid.fit(X_train_scaled, y_train)\n",
        "\n",
        "yXg_grid_test_pred = Xg_grid.predict(X_test_scaled)\n",
        "print(\"MAE test:\", mean_absolute_error(y_test, yXg_grid_test_pred))\n",
        "\n",
        "yXg_grid_pred = Xg_grid.predict(X_scaled)\n",
        "print(\"MAE:\", mean_absolute_error(y, yXg_grid_pred))\n",
        "\n",
        "print(\"R Square:\", r2_score(y, yXg_grid_pred))\n",
        "print(\"R Square test:\", r2_score(y_test, yXg_grid_test_pred))\n",
        "\n",
        "XGG_count=0\n",
        "for idx in range(len(yXg_grid_pred)):\n",
        "  if(abs(y[idx]-yXg_grid_pred[idx])>0.2):\n",
        "    XGG_count = XGG_count+1\n",
        "\n",
        "print(XGG_count)\n",
        "\n",
        "print(Xg_reg_grid.n_estimators)\n",
        "#print(Xg_reg_grid.max_features)\n",
        "print(Xg_reg_grid.max_depth)\n",
        "print(Xg_reg_grid.learning_rate)\n"
      ],
      "metadata": {
        "colab": {
          "base_uri": "https://localhost:8080/"
        },
        "id": "5nrsPiubtkp-",
        "outputId": "71554eaf-90ed-47e3-be11-9423b4c1c2a7"
      },
      "execution_count": null,
      "outputs": [
        {
          "output_type": "stream",
          "name": "stdout",
          "text": [
            "[18:51:54] WARNING: /workspace/src/objective/regression_obj.cu:152: reg:linear is now deprecated in favor of reg:squarederror.\n",
            "MAE test: 0.23191898779724035\n",
            "MAE: 0.20022122019184654\n",
            "R Square: 0.889264135333257\n",
            "R Square test: 0.8002716414301825\n",
            "642\n",
            "100\n",
            "3\n",
            "0.1\n"
          ]
        }
      ]
    },
    {
      "cell_type": "code",
      "source": [
        "idx = [int(x) for x in range(len(X))]\n",
        "plt.figure(figsize=(20,10))\n",
        "#plt.ylim(0.18, 1.65)\n",
        "plt.scatter(idx,y, color='blue')\n",
        "plt.scatter(idx,ykNNG_pred, color='red')"
      ],
      "metadata": {
        "colab": {
          "base_uri": "https://localhost:8080/",
          "height": 582
        },
        "id": "bfJEc6riupJ7",
        "outputId": "82fe0854-1410-45f8-979e-9d4627e5ea95"
      },
      "execution_count": null,
      "outputs": [
        {
          "output_type": "execute_result",
          "data": {
            "text/plain": [
              "<matplotlib.collections.PathCollection at 0x7fcf34061250>"
            ]
          },
          "metadata": {},
          "execution_count": 90
        },
        {
          "output_type": "display_data",
          "data": {
            "image/png": "[encoded data removed]",
            "text/plain": [
              "<Figure size 1440x720 with 1 Axes>"
            ]
          },
          "metadata": {
            "needs_background": "light"
          }
        }
      ]
    }
  ]
}